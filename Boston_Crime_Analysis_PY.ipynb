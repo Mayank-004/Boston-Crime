{
  "nbformat": 4,
  "nbformat_minor": 0,
  "metadata": {
    "kernelspec": {
      "display_name": "Python 3",
      "language": "python",
      "name": "python3"
    },
    "language_info": {
      "codemirror_mode": {
        "name": "ipython",
        "version": 3
      },
      "file_extension": ".py",
      "mimetype": "text/x-python",
      "name": "python",
      "nbconvert_exporter": "python",
      "pygments_lexer": "ipython3",
      "version": "3.8.3"
    },
    "colab": {
      "name": "Boston Crime Analysis_PY.ipynb",
      "provenance": [],
      "collapsed_sections": [],
      "include_colab_link": true
    }
  },
  "cells": [
    {
      "cell_type": "markdown",
      "metadata": {
        "id": "view-in-github",
        "colab_type": "text"
      },
      "source": [
        "<a href=\"https://colab.research.google.com/github/Mayank-004/Boston-Crime/blob/main/Boston_Crime_Analysis_PY.ipynb\" target=\"_parent\"><img src=\"https://colab.research.google.com/assets/colab-badge.svg\" alt=\"Open In Colab\"/></a>"
      ]
    },
    {
      "cell_type": "markdown",
      "metadata": {
        "id": "iiZ76lvDJsuI"
      },
      "source": [
        "## Import necessary packages"
      ]
    },
    {
      "cell_type": "code",
      "metadata": {
        "id": "bfvWCPVhJsuJ"
      },
      "source": [
        "import warnings \n",
        "import numpy as np\n",
        "import pandas as pd\n",
        "import os\n",
        "import seaborn as sns\n",
        "import statsmodels.api as sm\n",
        "from matplotlib import pyplot as plt\n",
        "from matplotlib.ticker import PercentFormatter\n",
        "import matplotlib.ticker as ticker\n",
        "from scipy import stats\n",
        "from pylab import rcParams\n",
        "from matplotlib.pyplot import MultipleLocator\n",
        "\n",
        "\n",
        "rcParams['figure.figsize'] = (20, 8)\n",
        "sns.set_style('darkgrid')\n",
        "plt.style.use('seaborn-darkgrid')\n",
        "\n",
        "from sklearn import datasets\n",
        "from sklearn.feature_selection import RFE\n",
        "from sklearn.linear_model import LogisticRegression\n",
        "from sklearn.model_selection import train_test_split\n",
        "from  sklearn.ensemble import RandomForestClassifier\n",
        "from sklearn.model_selection import ShuffleSplit\n",
        "from sklearn.metrics import accuracy_score\n",
        "from sklearn.utils import resample\n",
        "from sklearn.tree import export_graphviz\n",
        "from IPython.display import Image \n",
        "from sklearn.datasets import make_hastie_10_2\n",
        "from sklearn.ensemble import GradientBoostingClassifier\n",
        "from sklearn.neighbors import KNeighborsClassifier\n",
        "from sklearn.ensemble import RandomForestClassifier\n",
        "from sklearn.metrics import confusion_matrix, ConfusionMatrixDisplay, f1_score,accuracy_score\n",
        "from sklearn.preprocessing import StandardScaler\n",
        "from sklearn.preprocessing import LabelEncoder\n",
        "import random\n",
        "import time\n",
        "random.seed(786)\n",
        "from patsy import dmatrices\n"
      ],
      "execution_count": 156,
      "outputs": []
    },
    {
      "cell_type": "markdown",
      "metadata": {
        "id": "Lgh2opXnJsuJ"
      },
      "source": [
        "## Part 1 - Data preprocessing (understanding the data)"
      ]
    },
    {
      "cell_type": "markdown",
      "metadata": {
        "id": "2Aa4b_swJsuJ"
      },
      "source": [
        "### Load data"
      ]
    },
    {
      "cell_type": "code",
      "metadata": {
        "colab": {
          "base_uri": "https://localhost:8080/"
        },
        "id": "TimjHHphJsuK",
        "outputId": "c7520c3f-d586-4b6d-c109-0465e6109224"
      },
      "source": [
        "url1 = 'https://data.boston.gov/dataset/6220d948-eae2-4e4b-8723-2dc8e67722a3/resource/f4495ee9-c42c-4019-82c1-d067f07e45d2/download/tmplvp64a10.csv'\n",
        "dataset1 = pd.read_csv(url1, error_bad_lines=False, encoding = 'latin')\n",
        "url2 = 'https://data.boston.gov/dataset/6220d948-eae2-4e4b-8723-2dc8e67722a3/resource/be047094-85fe-4104-a480-4fa3d03f9623/download/script_113631134_20210423193017_combine.csv'\n",
        "dataset2 = pd.read_csv(url2, error_bad_lines=False, encoding = 'latin')\n",
        "url3 = 'https://data.boston.gov/dataset/6220d948-eae2-4e4b-8723-2dc8e67722a3/resource/34e0ae6b-8c94-4998-ae9e-1b51551fe9ba/download/script_113631134_20210423192813_combine.csv'\n",
        "dataset3 = pd.read_csv(url3, error_bad_lines=False, encoding = 'latin')\n",
        "url4 = 'https://data.boston.gov/dataset/6220d948-eae2-4e4b-8723-2dc8e67722a3/resource/e86f8e38-a23c-4c1a-8455-c8f94210a8f1/download/crime-incident-reports-2018.csv'\n",
        "dataset4 = pd.read_csv(url4, error_bad_lines=False, encoding = 'latin')\n",
        "url5 = 'https://data.boston.gov/dataset/6220d948-eae2-4e4b-8723-2dc8e67722a3/resource/64ad0053-842c-459b-9833-ff53d568f2e3/download/crime-incident-reports-2017.csv'\n",
        "dataset5 = pd.read_csv(url5, error_bad_lines=False, encoding = 'latin')\n",
        "url6 = 'https://data.boston.gov/dataset/6220d948-eae2-4e4b-8723-2dc8e67722a3/resource/b6c4e2c3-7b1e-4f4a-b019-bef8c6a0e882/download/crime-incident-reports-2016.csv'\n",
        "dataset6 = pd.read_csv(url6, error_bad_lines=False, encoding = 'latin')\n",
        "url7 = 'https://data.boston.gov/dataset/6220d948-eae2-4e4b-8723-2dc8e67722a3/resource/792031bf-b9bb-467c-b118-fe795befdf00/download/crime-incident-reports-2015.csv'\n",
        "dataset7 = pd.read_csv(url7)\n",
        "\n",
        "\n",
        "dataset = pd.concat([dataset4,dataset5,dataset6,dataset7],ignore_index=True)\n",
        "\n",
        "dataset1=pd.concat([dataset1,dataset2,dataset3],ignore_index=True)"
      ],
      "execution_count": 157,
      "outputs": [
        {
          "output_type": "stream",
          "text": [
            "/usr/local/lib/python3.7/dist-packages/IPython/core/interactiveshell.py:2718: DtypeWarning: Columns (0) have mixed types.Specify dtype option on import or set low_memory=False.\n",
            "  interactivity=interactivity, compiler=compiler, result=result)\n"
          ],
          "name": "stderr"
        }
      ]
    },
    {
      "cell_type": "code",
      "metadata": {
        "id": "DWprG2HaM0ch"
      },
      "source": [
        "part_one = dataset[dataset['UCR_PART']=='Part One']\n",
        "cr1=part_one['OFFENSE_DESCRIPTION'].unique().tolist()\n",
        "part_Two = dataset[dataset['UCR_PART']=='Part Two']\n",
        "cr2=part_Two['OFFENSE_DESCRIPTION'].unique().tolist()\n",
        "part_Three = dataset[dataset['UCR_PART']=='Part Three']\n",
        "cr3=part_Three['OFFENSE_DESCRIPTION'].unique().tolist()\n",
        "other=dataset[dataset['UCR_PART']=='Other']\n",
        "cr4=other['OFFENSE_DESCRIPTION'].unique().tolist()\n"
      ],
      "execution_count": 158,
      "outputs": []
    },
    {
      "cell_type": "code",
      "metadata": {
        "id": "_CiaUorVM4DS"
      },
      "source": [
        "for i in range(len(dataset1)):\n",
        "    for j in cr1:\n",
        "        if dataset1.loc[i,'OFFENSE_DESCRIPTION'] == j:\n",
        "            dataset1.loc[i,'UCR_PART']='Part One'\n",
        "            #print(union_df_new.loc[i,'UCR_PART'])\n",
        "\n",
        "\n",
        "for i in range(len(dataset1)):\n",
        "    for j in cr2:\n",
        "        if dataset1.loc[i,'OFFENSE_DESCRIPTION']==j:\n",
        "            dataset1.loc[i,'UCR_PART']='Part Two'\n",
        "\n",
        "for i in range(len(dataset1)):\n",
        "    for j in cr3:\n",
        "        if dataset1.loc[i,'OFFENSE_DESCRIPTION']==j:\n",
        "            dataset1.loc[i,'UCR_PART']='Part Three'\n",
        "\n",
        "for i in range(len(dataset1)):\n",
        "    for j in cr4:\n",
        "        if dataset1.loc[i,'OFFENSE_DESCRIPTION']==j:\n",
        "            dataset1.loc[i,'UCR_PART']='Other'\n"
      ],
      "execution_count": 160,
      "outputs": []
    },
    {
      "cell_type": "code",
      "metadata": {
        "id": "aTXaFw0uQCvM"
      },
      "source": [
        "dataset=pd.concat([dataset,dataset1],ignore_index=True)"
      ],
      "execution_count": 161,
      "outputs": []
    },
    {
      "cell_type": "code",
      "metadata": {
        "colab": {
          "base_uri": "https://localhost:8080/"
        },
        "id": "MioOqrOwJsuK",
        "outputId": "ba1d44ad-85f4-40ad-b7a6-9d21064c7a49"
      },
      "source": [
        "dataset.shape"
      ],
      "execution_count": 162,
      "outputs": [
        {
          "output_type": "execute_result",
          "data": {
            "text/plain": [
              "(465074, 17)"
            ]
          },
          "metadata": {
            "tags": []
          },
          "execution_count": 162
        }
      ]
    },
    {
      "cell_type": "code",
      "metadata": {
        "colab": {
          "base_uri": "https://localhost:8080/"
        },
        "id": "PMPFtNUYJsuK",
        "outputId": "ab63127d-304a-4be9-f692-4d3d0df6d8cf"
      },
      "source": [
        "dataset.YEAR.value_counts()"
      ],
      "execution_count": 163,
      "outputs": [
        {
          "output_type": "execute_result",
          "data": {
            "text/plain": [
              "2017    101338\n",
              "2016     99430\n",
              "2018     98888\n",
              "2020     70894\n",
              "2015     53597\n",
              "2021     21145\n",
              "2019     19782\n",
              "Name: YEAR, dtype: int64"
            ]
          },
          "metadata": {
            "tags": []
          },
          "execution_count": 163
        }
      ]
    },
    {
      "cell_type": "code",
      "metadata": {
        "colab": {
          "base_uri": "https://localhost:8080/"
        },
        "id": "4A7fbqewJsuK",
        "outputId": "26ab1fea-e91e-4d8b-9133-00f4c0f803e8"
      },
      "source": [
        "dataset.dtypes"
      ],
      "execution_count": 164,
      "outputs": [
        {
          "output_type": "execute_result",
          "data": {
            "text/plain": [
              "INCIDENT_NUMBER         object\n",
              "OFFENSE_CODE             int64\n",
              "OFFENSE_CODE_GROUP      object\n",
              "OFFENSE_DESCRIPTION     object\n",
              "DISTRICT                object\n",
              "REPORTING_AREA          object\n",
              "SHOOTING                object\n",
              "OCCURRED_ON_DATE        object\n",
              "YEAR                     int64\n",
              "MONTH                    int64\n",
              "DAY_OF_WEEK             object\n",
              "HOUR                     int64\n",
              "UCR_PART                object\n",
              "STREET                  object\n",
              "Lat                    float64\n",
              "Long                   float64\n",
              "Location                object\n",
              "dtype: object"
            ]
          },
          "metadata": {
            "tags": []
          },
          "execution_count": 164
        }
      ]
    },
    {
      "cell_type": "code",
      "metadata": {
        "colab": {
          "base_uri": "https://localhost:8080/",
          "height": 210
        },
        "id": "0iBMXwpCJsuL",
        "outputId": "bede58fe-22e8-47ce-fad4-80d9e81f5fd8"
      },
      "source": [
        "dataset.describe(include=[object])"
      ],
      "execution_count": 7,
      "outputs": [
        {
          "output_type": "execute_result",
          "data": {
            "text/html": [
              "<div>\n",
              "<style scoped>\n",
              "    .dataframe tbody tr th:only-of-type {\n",
              "        vertical-align: middle;\n",
              "    }\n",
              "\n",
              "    .dataframe tbody tr th {\n",
              "        vertical-align: top;\n",
              "    }\n",
              "\n",
              "    .dataframe thead th {\n",
              "        text-align: right;\n",
              "    }\n",
              "</style>\n",
              "<table border=\"1\" class=\"dataframe\">\n",
              "  <thead>\n",
              "    <tr style=\"text-align: right;\">\n",
              "      <th></th>\n",
              "      <th>INCIDENT_NUMBER</th>\n",
              "      <th>OFFENSE_CODE_GROUP</th>\n",
              "      <th>OFFENSE_DESCRIPTION</th>\n",
              "      <th>DISTRICT</th>\n",
              "      <th>REPORTING_AREA</th>\n",
              "      <th>SHOOTING</th>\n",
              "      <th>OCCURRED_ON_DATE</th>\n",
              "      <th>DAY_OF_WEEK</th>\n",
              "      <th>UCR_PART</th>\n",
              "      <th>STREET</th>\n",
              "      <th>Location</th>\n",
              "    </tr>\n",
              "  </thead>\n",
              "  <tbody>\n",
              "    <tr>\n",
              "      <th>count</th>\n",
              "      <td>465074</td>\n",
              "      <td>353253</td>\n",
              "      <td>465074</td>\n",
              "      <td>462839</td>\n",
              "      <td>465074</td>\n",
              "      <td>113276</td>\n",
              "      <td>465074</td>\n",
              "      <td>465074</td>\n",
              "      <td>353156</td>\n",
              "      <td>453867</td>\n",
              "      <td>465074</td>\n",
              "    </tr>\n",
              "    <tr>\n",
              "      <th>unique</th>\n",
              "      <td>423001</td>\n",
              "      <td>67</td>\n",
              "      <td>295</td>\n",
              "      <td>13</td>\n",
              "      <td>881</td>\n",
              "      <td>3</td>\n",
              "      <td>346494</td>\n",
              "      <td>7</td>\n",
              "      <td>4</td>\n",
              "      <td>12001</td>\n",
              "      <td>33002</td>\n",
              "    </tr>\n",
              "    <tr>\n",
              "      <th>top</th>\n",
              "      <td>I152071596</td>\n",
              "      <td>Motor Vehicle Accident Response</td>\n",
              "      <td>INVESTIGATE PERSON</td>\n",
              "      <td>B2</td>\n",
              "      <td></td>\n",
              "      <td>0</td>\n",
              "      <td>2016-08-01 00:00:00</td>\n",
              "      <td>Friday</td>\n",
              "      <td>Part Three</td>\n",
              "      <td>WASHINGTON ST</td>\n",
              "      <td>(0.00000000, 0.00000000)</td>\n",
              "    </tr>\n",
              "    <tr>\n",
              "      <th>freq</th>\n",
              "      <td>20</td>\n",
              "      <td>41064</td>\n",
              "      <td>28706</td>\n",
              "      <td>72393</td>\n",
              "      <td>35675</td>\n",
              "      <td>110222</td>\n",
              "      <td>33</td>\n",
              "      <td>70674</td>\n",
              "      <td>176042</td>\n",
              "      <td>21016</td>\n",
              "      <td>22530</td>\n",
              "    </tr>\n",
              "  </tbody>\n",
              "</table>\n",
              "</div>"
            ],
            "text/plain": [
              "       INCIDENT_NUMBER  ...                  Location\n",
              "count           465074  ...                    465074\n",
              "unique          423001  ...                     33002\n",
              "top         I152071596  ...  (0.00000000, 0.00000000)\n",
              "freq                20  ...                     22530\n",
              "\n",
              "[4 rows x 11 columns]"
            ]
          },
          "metadata": {
            "tags": []
          },
          "execution_count": 7
        }
      ]
    },
    {
      "cell_type": "code",
      "metadata": {
        "scrolled": true,
        "colab": {
          "base_uri": "https://localhost:8080/",
          "height": 297
        },
        "id": "cmhGJt3SJsuL",
        "outputId": "e069bd66-10a6-45b4-93ef-d2b1423604b8"
      },
      "source": [
        "dataset.describe().round()"
      ],
      "execution_count": 8,
      "outputs": [
        {
          "output_type": "execute_result",
          "data": {
            "text/html": [
              "<div>\n",
              "<style scoped>\n",
              "    .dataframe tbody tr th:only-of-type {\n",
              "        vertical-align: middle;\n",
              "    }\n",
              "\n",
              "    .dataframe tbody tr th {\n",
              "        vertical-align: top;\n",
              "    }\n",
              "\n",
              "    .dataframe thead th {\n",
              "        text-align: right;\n",
              "    }\n",
              "</style>\n",
              "<table border=\"1\" class=\"dataframe\">\n",
              "  <thead>\n",
              "    <tr style=\"text-align: right;\">\n",
              "      <th></th>\n",
              "      <th>OFFENSE_CODE</th>\n",
              "      <th>YEAR</th>\n",
              "      <th>MONTH</th>\n",
              "      <th>HOUR</th>\n",
              "      <th>Lat</th>\n",
              "      <th>Long</th>\n",
              "    </tr>\n",
              "  </thead>\n",
              "  <tbody>\n",
              "    <tr>\n",
              "      <th>count</th>\n",
              "      <td>465074.0</td>\n",
              "      <td>465074.0</td>\n",
              "      <td>465074.0</td>\n",
              "      <td>465074.0</td>\n",
              "      <td>442544.0</td>\n",
              "      <td>442544.0</td>\n",
              "    </tr>\n",
              "    <tr>\n",
              "      <th>mean</th>\n",
              "      <td>2321.0</td>\n",
              "      <td>2017.0</td>\n",
              "      <td>7.0</td>\n",
              "      <td>13.0</td>\n",
              "      <td>42.0</td>\n",
              "      <td>-70.0</td>\n",
              "    </tr>\n",
              "    <tr>\n",
              "      <th>std</th>\n",
              "      <td>1197.0</td>\n",
              "      <td>2.0</td>\n",
              "      <td>3.0</td>\n",
              "      <td>6.0</td>\n",
              "      <td>4.0</td>\n",
              "      <td>6.0</td>\n",
              "    </tr>\n",
              "    <tr>\n",
              "      <th>min</th>\n",
              "      <td>111.0</td>\n",
              "      <td>2015.0</td>\n",
              "      <td>1.0</td>\n",
              "      <td>0.0</td>\n",
              "      <td>-1.0</td>\n",
              "      <td>-71.0</td>\n",
              "    </tr>\n",
              "    <tr>\n",
              "      <th>25%</th>\n",
              "      <td>1001.0</td>\n",
              "      <td>2016.0</td>\n",
              "      <td>4.0</td>\n",
              "      <td>9.0</td>\n",
              "      <td>42.0</td>\n",
              "      <td>-71.0</td>\n",
              "    </tr>\n",
              "    <tr>\n",
              "      <th>50%</th>\n",
              "      <td>3005.0</td>\n",
              "      <td>2017.0</td>\n",
              "      <td>7.0</td>\n",
              "      <td>14.0</td>\n",
              "      <td>42.0</td>\n",
              "      <td>-71.0</td>\n",
              "    </tr>\n",
              "    <tr>\n",
              "      <th>75%</th>\n",
              "      <td>3201.0</td>\n",
              "      <td>2018.0</td>\n",
              "      <td>10.0</td>\n",
              "      <td>18.0</td>\n",
              "      <td>42.0</td>\n",
              "      <td>-71.0</td>\n",
              "    </tr>\n",
              "    <tr>\n",
              "      <th>max</th>\n",
              "      <td>99999.0</td>\n",
              "      <td>2021.0</td>\n",
              "      <td>12.0</td>\n",
              "      <td>23.0</td>\n",
              "      <td>42.0</td>\n",
              "      <td>0.0</td>\n",
              "    </tr>\n",
              "  </tbody>\n",
              "</table>\n",
              "</div>"
            ],
            "text/plain": [
              "       OFFENSE_CODE      YEAR     MONTH      HOUR       Lat      Long\n",
              "count      465074.0  465074.0  465074.0  465074.0  442544.0  442544.0\n",
              "mean         2321.0    2017.0       7.0      13.0      42.0     -70.0\n",
              "std          1197.0       2.0       3.0       6.0       4.0       6.0\n",
              "min           111.0    2015.0       1.0       0.0      -1.0     -71.0\n",
              "25%          1001.0    2016.0       4.0       9.0      42.0     -71.0\n",
              "50%          3005.0    2017.0       7.0      14.0      42.0     -71.0\n",
              "75%          3201.0    2018.0      10.0      18.0      42.0     -71.0\n",
              "max         99999.0    2021.0      12.0      23.0      42.0       0.0"
            ]
          },
          "metadata": {
            "tags": []
          },
          "execution_count": 8
        }
      ]
    },
    {
      "cell_type": "code",
      "metadata": {
        "scrolled": true,
        "colab": {
          "base_uri": "https://localhost:8080/",
          "height": 341
        },
        "id": "ZX_O7bOtJsuL",
        "outputId": "c4eb7747-88d9-40bf-a4d7-0e3c18ce2e61"
      },
      "source": [
        "import pandas_profiling\n",
        "pandas_profiling.ProfileReport(dataset)"
      ],
      "execution_count": 9,
      "outputs": [
        {
          "output_type": "error",
          "ename": "TypeError",
          "evalue": "ignored",
          "traceback": [
            "\u001b[0;31m---------------------------------------------------------------------------\u001b[0m",
            "\u001b[0;31mTypeError\u001b[0m                                 Traceback (most recent call last)",
            "\u001b[0;32m<ipython-input-9-f3e4e24ad971>\u001b[0m in \u001b[0;36m<module>\u001b[0;34m()\u001b[0m\n\u001b[1;32m      1\u001b[0m \u001b[0;32mimport\u001b[0m \u001b[0mpandas_profiling\u001b[0m\u001b[0;34m\u001b[0m\u001b[0;34m\u001b[0m\u001b[0m\n\u001b[0;32m----> 2\u001b[0;31m \u001b[0mpandas_profiling\u001b[0m\u001b[0;34m.\u001b[0m\u001b[0mProfileReport\u001b[0m\u001b[0;34m(\u001b[0m\u001b[0mdataset\u001b[0m\u001b[0;34m)\u001b[0m\u001b[0;34m\u001b[0m\u001b[0;34m\u001b[0m\u001b[0m\n\u001b[0m",
            "\u001b[0;32m/usr/local/lib/python3.7/dist-packages/pandas_profiling/__init__.py\u001b[0m in \u001b[0;36m__init__\u001b[0;34m(self, df, **kwargs)\u001b[0m\n\u001b[1;32m     64\u001b[0m         \u001b[0msample\u001b[0m \u001b[0;34m=\u001b[0m \u001b[0mkwargs\u001b[0m\u001b[0;34m.\u001b[0m\u001b[0mget\u001b[0m\u001b[0;34m(\u001b[0m\u001b[0;34m'sample'\u001b[0m\u001b[0;34m,\u001b[0m \u001b[0mdf\u001b[0m\u001b[0;34m.\u001b[0m\u001b[0mhead\u001b[0m\u001b[0;34m(\u001b[0m\u001b[0;34m)\u001b[0m\u001b[0;34m)\u001b[0m\u001b[0;34m\u001b[0m\u001b[0;34m\u001b[0m\u001b[0m\n\u001b[1;32m     65\u001b[0m \u001b[0;34m\u001b[0m\u001b[0m\n\u001b[0;32m---> 66\u001b[0;31m         \u001b[0mdescription_set\u001b[0m \u001b[0;34m=\u001b[0m \u001b[0mdescribe\u001b[0m\u001b[0;34m(\u001b[0m\u001b[0mdf\u001b[0m\u001b[0;34m,\u001b[0m \u001b[0;34m**\u001b[0m\u001b[0mkwargs\u001b[0m\u001b[0;34m)\u001b[0m\u001b[0;34m\u001b[0m\u001b[0;34m\u001b[0m\u001b[0m\n\u001b[0m\u001b[1;32m     67\u001b[0m \u001b[0;34m\u001b[0m\u001b[0m\n\u001b[1;32m     68\u001b[0m         self.html = to_html(sample,\n",
            "\u001b[0;32m/usr/local/lib/python3.7/dist-packages/pandas_profiling/describe.py\u001b[0m in \u001b[0;36mdescribe\u001b[0;34m(df, bins, check_correlation, correlation_threshold, correlation_overrides, check_recoded, pool_size, **kwargs)\u001b[0m\n\u001b[1;32m    390\u001b[0m             \u001b[0;32mif\u001b[0m \u001b[0mname\u001b[0m \u001b[0;32mnot\u001b[0m \u001b[0;32min\u001b[0m \u001b[0mnames\u001b[0m\u001b[0;34m:\u001b[0m\u001b[0;34m\u001b[0m\u001b[0;34m\u001b[0m\u001b[0m\n\u001b[1;32m    391\u001b[0m                 \u001b[0mnames\u001b[0m\u001b[0;34m.\u001b[0m\u001b[0mappend\u001b[0m\u001b[0;34m(\u001b[0m\u001b[0mname\u001b[0m\u001b[0;34m)\u001b[0m\u001b[0;34m\u001b[0m\u001b[0;34m\u001b[0m\u001b[0m\n\u001b[0;32m--> 392\u001b[0;31m     \u001b[0mvariable_stats\u001b[0m \u001b[0;34m=\u001b[0m \u001b[0mpd\u001b[0m\u001b[0;34m.\u001b[0m\u001b[0mconcat\u001b[0m\u001b[0;34m(\u001b[0m\u001b[0mldesc\u001b[0m\u001b[0;34m,\u001b[0m \u001b[0mjoin_axes\u001b[0m\u001b[0;34m=\u001b[0m\u001b[0mpd\u001b[0m\u001b[0;34m.\u001b[0m\u001b[0mIndex\u001b[0m\u001b[0;34m(\u001b[0m\u001b[0;34m[\u001b[0m\u001b[0mnames\u001b[0m\u001b[0;34m]\u001b[0m\u001b[0;34m)\u001b[0m\u001b[0;34m,\u001b[0m \u001b[0maxis\u001b[0m\u001b[0;34m=\u001b[0m\u001b[0;36m1\u001b[0m\u001b[0;34m)\u001b[0m\u001b[0;34m\u001b[0m\u001b[0;34m\u001b[0m\u001b[0m\n\u001b[0m\u001b[1;32m    393\u001b[0m     \u001b[0mvariable_stats\u001b[0m\u001b[0;34m.\u001b[0m\u001b[0mcolumns\u001b[0m\u001b[0;34m.\u001b[0m\u001b[0mnames\u001b[0m \u001b[0;34m=\u001b[0m \u001b[0mdf\u001b[0m\u001b[0;34m.\u001b[0m\u001b[0mcolumns\u001b[0m\u001b[0;34m.\u001b[0m\u001b[0mnames\u001b[0m\u001b[0;34m\u001b[0m\u001b[0;34m\u001b[0m\u001b[0m\n\u001b[1;32m    394\u001b[0m \u001b[0;34m\u001b[0m\u001b[0m\n",
            "\u001b[0;31mTypeError\u001b[0m: concat() got an unexpected keyword argument 'join_axes'"
          ]
        }
      ]
    },
    {
      "cell_type": "markdown",
      "metadata": {
        "id": "_HrYvBFgJsuO"
      },
      "source": [
        "### Data Preparation"
      ]
    },
    {
      "cell_type": "code",
      "metadata": {
        "id": "Q4mkxSVeJsuO"
      },
      "source": [
        "dataset['OCCURRED_ON_DATE'] = pd.to_datetime(dataset['OCCURRED_ON_DATE'])\n",
        "dataset['SHOOTING'].fillna('0', inplace=True)\n",
        "# Convert DAY_OF_WEEK to an ordered category\n",
        "dataset['DAY_OF_WEEK'] = pd.Categorical(dataset.DAY_OF_WEEK, \n",
        "              categories=['Monday','Tuesday','Wednesday','Thursday','Friday','Saturday','Sunday'],\n",
        "              ordered=True)"
      ],
      "execution_count": 165,
      "outputs": []
    },
    {
      "cell_type": "code",
      "metadata": {
        "id": "lCssVMQEJsuO"
      },
      "source": [
        "# Rename columns to something easier to type \n",
        "rename = {'OFFENSE_CODE_GROUP':'Group',\n",
        "         'OFFENSE_DESCRIPTION':'Description',\n",
        "         'DISTRICT':'District',\n",
        "         'REPORTING_AREA':'Area',\n",
        "         'SHOOTING':'Shooting',\n",
        "         'OCCURRED_ON_DATE':'Date',\n",
        "         'YEAR':'Year',\n",
        "         'MONTH':'Month',\n",
        "         'DAY_OF_WEEK':'Day',\n",
        "         'HOUR':'Hour',\n",
        "         'STREET':'Street'}\n",
        "dataset.rename(index=str, columns=rename, inplace=True)"
      ],
      "execution_count": 166,
      "outputs": []
    },
    {
      "cell_type": "code",
      "metadata": {
        "colab": {
          "base_uri": "https://localhost:8080/"
        },
        "id": "BW4JuQZkJsuP",
        "outputId": "a8179e5e-80fa-4cdd-d50c-8d557463d3f8"
      },
      "source": [
        "# Checking the Group value\n",
        "dataset['Group'].value_counts()"
      ],
      "execution_count": 167,
      "outputs": [
        {
          "output_type": "execute_result",
          "data": {
            "text/plain": [
              "Motor Vehicle Accident Response              41064\n",
              "Larceny                                      28906\n",
              "Medical Assistance                           26211\n",
              "Investigate Person                           20420\n",
              "Other                                        19860\n",
              "                                             ...  \n",
              "HUMAN TRAFFICKING                                8\n",
              "INVESTIGATE PERSON                               5\n",
              "Burglary - No Property Taken                     5\n",
              "Biological Threat                                2\n",
              "HUMAN TRAFFICKING - INVOLUNTARY SERVITUDE        2\n",
              "Name: Group, Length: 67, dtype: int64"
            ]
          },
          "metadata": {
            "tags": []
          },
          "execution_count": 167
        }
      ]
    },
    {
      "cell_type": "code",
      "metadata": {
        "colab": {
          "base_uri": "https://localhost:8080/"
        },
        "id": "dALN09-tJsuP",
        "outputId": "adc91c9c-8cb5-413c-c516-0bd43e75ba1b"
      },
      "source": [
        "# Checking District value\n",
        "dataset.District.unique()"
      ],
      "execution_count": 168,
      "outputs": [
        {
          "output_type": "execute_result",
          "data": {
            "text/plain": [
              "array(['B3', 'E18', 'E5', 'A1', 'D4', 'B2', 'C11', 'E13', 'C6', 'D14',\n",
              "       'A7', 'A15', nan, 'External'], dtype=object)"
            ]
          },
          "metadata": {
            "tags": []
          },
          "execution_count": 168
        }
      ]
    },
    {
      "cell_type": "code",
      "metadata": {
        "id": "Wy5xHX5OJsuP"
      },
      "source": [
        "#Replace District code\n",
        "district = {'A1' : 'Downtown', 'A15': 'Charlestown','A7': 'East Boston','B2': 'Roxbury','B3': 'Mattapan','C6': 'South Boston','C11': 'Dorchester','D4': 'South End','D14': 'Brighton','E5': 'West Roxbury','E13': 'Jamaica Plain','E18': 'Hyde Park','HTU': 'Human Traffic Unit'}\n",
        "\n",
        "#Replace code into names\n",
        "dataset['District'] = dataset['District'].replace(district)"
      ],
      "execution_count": 169,
      "outputs": []
    },
    {
      "cell_type": "code",
      "metadata": {
        "colab": {
          "base_uri": "https://localhost:8080/"
        },
        "id": "A3lRlrC7JsuP",
        "outputId": "c3e48c97-f3bb-4bd5-d477-5c2b44b997d4"
      },
      "source": [
        "# Checking Location Null value\n",
        "dataset['Location'].isnull().sum()"
      ],
      "execution_count": 170,
      "outputs": [
        {
          "output_type": "execute_result",
          "data": {
            "text/plain": [
              "0"
            ]
          },
          "metadata": {
            "tags": []
          },
          "execution_count": 170
        }
      ]
    },
    {
      "cell_type": "code",
      "metadata": {
        "id": "1sMr2zYhJsuP"
      },
      "source": [
        "def getLatitude(x):\n",
        "    k = x.replace(\"(\",\"\")\n",
        "    k = k.replace(\")\",\"\")\n",
        "    k = k.replace(\" \",\"\")\n",
        "    k = k.split(',')\n",
        "    k[0] = float(k[0])\n",
        "#     print(k[0])\n",
        "    return(k[0])"
      ],
      "execution_count": 171,
      "outputs": []
    },
    {
      "cell_type": "code",
      "metadata": {
        "id": "EqcfpK1wJsuP"
      },
      "source": [
        "def getLongitude(x):\n",
        "    k = x.replace(\"(\",\"\")\n",
        "    k = k.replace(\")\",\"\")\n",
        "    k = k.replace(\" \",\"\")\n",
        "    k = k.split(',')\n",
        "    k[1] = float(k[1])\n",
        "#     print(k[1])\n",
        "    return(k[1])"
      ],
      "execution_count": 172,
      "outputs": []
    },
    {
      "cell_type": "code",
      "metadata": {
        "colab": {
          "base_uri": "https://localhost:8080/"
        },
        "id": "4PdI1sukJsuQ",
        "outputId": "d8466d0b-f9b0-4a38-902d-cb4d2278d44a"
      },
      "source": [
        "getLatitude(dataset.iloc[0][\"Location\"])"
      ],
      "execution_count": 173,
      "outputs": [
        {
          "output_type": "execute_result",
          "data": {
            "text/plain": [
              "42.27997063"
            ]
          },
          "metadata": {
            "tags": []
          },
          "execution_count": 173
        }
      ]
    },
    {
      "cell_type": "code",
      "metadata": {
        "id": "GAuFugDJJsuQ"
      },
      "source": [
        "dataset[\"latitude\"] = dataset['Location']\n",
        "dataset[\"latitude\"] =  dataset[\"latitude\"].apply(lambda x: getLatitude(x))"
      ],
      "execution_count": 174,
      "outputs": []
    },
    {
      "cell_type": "code",
      "metadata": {
        "id": "2wSGezE4JsuQ"
      },
      "source": [
        "dataset[\"longitude\"] = dataset['Location']\n",
        "dataset[\"longitude\"] =  dataset[\"longitude\"].apply(lambda x: getLongitude(x))"
      ],
      "execution_count": 175,
      "outputs": []
    },
    {
      "cell_type": "code",
      "metadata": {
        "id": "-pOPy_1PJsuQ"
      },
      "source": [
        "data = dataset.drop(columns=[\"Lat\",\"Long\",\"Location\"])"
      ],
      "execution_count": 177,
      "outputs": []
    },
    {
      "cell_type": "code",
      "metadata": {
        "colab": {
          "base_uri": "https://localhost:8080/",
          "height": 394
        },
        "id": "id2Q_cPbJsuQ",
        "outputId": "1ccc3e8b-b78f-4ebe-8961-564afa867662"
      },
      "source": [
        "data.head()"
      ],
      "execution_count": 178,
      "outputs": [
        {
          "output_type": "execute_result",
          "data": {
            "text/html": [
              "<div>\n",
              "<style scoped>\n",
              "    .dataframe tbody tr th:only-of-type {\n",
              "        vertical-align: middle;\n",
              "    }\n",
              "\n",
              "    .dataframe tbody tr th {\n",
              "        vertical-align: top;\n",
              "    }\n",
              "\n",
              "    .dataframe thead th {\n",
              "        text-align: right;\n",
              "    }\n",
              "</style>\n",
              "<table border=\"1\" class=\"dataframe\">\n",
              "  <thead>\n",
              "    <tr style=\"text-align: right;\">\n",
              "      <th></th>\n",
              "      <th>INCIDENT_NUMBER</th>\n",
              "      <th>OFFENSE_CODE</th>\n",
              "      <th>Group</th>\n",
              "      <th>Description</th>\n",
              "      <th>District</th>\n",
              "      <th>Area</th>\n",
              "      <th>Shooting</th>\n",
              "      <th>Date</th>\n",
              "      <th>Year</th>\n",
              "      <th>Month</th>\n",
              "      <th>Day</th>\n",
              "      <th>Hour</th>\n",
              "      <th>UCR_PART</th>\n",
              "      <th>Street</th>\n",
              "      <th>latitude</th>\n",
              "      <th>longitude</th>\n",
              "    </tr>\n",
              "  </thead>\n",
              "  <tbody>\n",
              "    <tr>\n",
              "      <th>0</th>\n",
              "      <td>I192077559</td>\n",
              "      <td>3115</td>\n",
              "      <td>Investigate Person</td>\n",
              "      <td>INVESTIGATE PERSON</td>\n",
              "      <td>Mattapan</td>\n",
              "      <td>468</td>\n",
              "      <td>0</td>\n",
              "      <td>2018-04-30 09:00:00</td>\n",
              "      <td>2018</td>\n",
              "      <td>4</td>\n",
              "      <td>Monday</td>\n",
              "      <td>9</td>\n",
              "      <td>Part Three</td>\n",
              "      <td>HAZLETON ST</td>\n",
              "      <td>42.279971</td>\n",
              "      <td>-71.095534</td>\n",
              "    </tr>\n",
              "    <tr>\n",
              "      <th>1</th>\n",
              "      <td>I192077332</td>\n",
              "      <td>619</td>\n",
              "      <td>Larceny</td>\n",
              "      <td>LARCENY ALL OTHERS</td>\n",
              "      <td>Hyde Park</td>\n",
              "      <td>496</td>\n",
              "      <td>0</td>\n",
              "      <td>2018-03-06 08:00:00</td>\n",
              "      <td>2018</td>\n",
              "      <td>3</td>\n",
              "      <td>Tuesday</td>\n",
              "      <td>8</td>\n",
              "      <td>Part One</td>\n",
              "      <td>HYDE PARK AVE</td>\n",
              "      <td>42.269224</td>\n",
              "      <td>-71.120853</td>\n",
              "    </tr>\n",
              "    <tr>\n",
              "      <th>2</th>\n",
              "      <td>I192076660</td>\n",
              "      <td>2629</td>\n",
              "      <td>Harassment</td>\n",
              "      <td>HARASSMENT</td>\n",
              "      <td>West Roxbury</td>\n",
              "      <td>662</td>\n",
              "      <td>0</td>\n",
              "      <td>2018-10-31 12:00:00</td>\n",
              "      <td>2018</td>\n",
              "      <td>10</td>\n",
              "      <td>Wednesday</td>\n",
              "      <td>12</td>\n",
              "      <td>Part Two</td>\n",
              "      <td>PRIMROSE ST</td>\n",
              "      <td>42.290765</td>\n",
              "      <td>-71.130211</td>\n",
              "    </tr>\n",
              "    <tr>\n",
              "      <th>3</th>\n",
              "      <td>I192075386</td>\n",
              "      <td>2629</td>\n",
              "      <td>Harassment</td>\n",
              "      <td>HARASSMENT</td>\n",
              "      <td>Downtown</td>\n",
              "      <td>96</td>\n",
              "      <td>0</td>\n",
              "      <td>2018-04-09 08:43:00</td>\n",
              "      <td>2018</td>\n",
              "      <td>4</td>\n",
              "      <td>Monday</td>\n",
              "      <td>8</td>\n",
              "      <td>Part Two</td>\n",
              "      <td>ATLANTIC AVE</td>\n",
              "      <td>42.355264</td>\n",
              "      <td>-71.050988</td>\n",
              "    </tr>\n",
              "    <tr>\n",
              "      <th>4</th>\n",
              "      <td>I192075335</td>\n",
              "      <td>3208</td>\n",
              "      <td>Property Lost</td>\n",
              "      <td>PROPERTY - MISSING</td>\n",
              "      <td>South End</td>\n",
              "      <td>132</td>\n",
              "      <td>0</td>\n",
              "      <td>2018-01-01 00:00:00</td>\n",
              "      <td>2018</td>\n",
              "      <td>1</td>\n",
              "      <td>Monday</td>\n",
              "      <td>0</td>\n",
              "      <td>Part Three</td>\n",
              "      <td>COMMONWEALTH AVE</td>\n",
              "      <td>42.353522</td>\n",
              "      <td>-71.072838</td>\n",
              "    </tr>\n",
              "  </tbody>\n",
              "</table>\n",
              "</div>"
            ],
            "text/plain": [
              "  INCIDENT_NUMBER  OFFENSE_CODE  ...   latitude  longitude\n",
              "0      I192077559          3115  ...  42.279971 -71.095534\n",
              "1      I192077332           619  ...  42.269224 -71.120853\n",
              "2      I192076660          2629  ...  42.290765 -71.130211\n",
              "3      I192075386          2629  ...  42.355264 -71.050988\n",
              "4      I192075335          3208  ...  42.353522 -71.072838\n",
              "\n",
              "[5 rows x 16 columns]"
            ]
          },
          "metadata": {
            "tags": []
          },
          "execution_count": 178
        }
      ]
    },
    {
      "cell_type": "code",
      "metadata": {
        "id": "usnHdNkeJsuQ"
      },
      "source": [
        "#A function to check if it is day or night\n",
        "def isNight(hour) :\n",
        "    if hour >= 20 or hour <= 5:\n",
        "        return 1\n",
        "    else :\n",
        "        return 0\n",
        "\n",
        "#Create a new column    \n",
        "data['IS_NIGHT'] = data['Hour'].apply(lambda x : isNight(x))"
      ],
      "execution_count": 179,
      "outputs": []
    },
    {
      "cell_type": "code",
      "metadata": {
        "colab": {
          "base_uri": "https://localhost:8080/",
          "height": 394
        },
        "id": "EKM0gzH8JsuQ",
        "outputId": "c77dc24f-b7a1-4292-d4ed-8e61bd2a4732"
      },
      "source": [
        "data.head()"
      ],
      "execution_count": 180,
      "outputs": [
        {
          "output_type": "execute_result",
          "data": {
            "text/html": [
              "<div>\n",
              "<style scoped>\n",
              "    .dataframe tbody tr th:only-of-type {\n",
              "        vertical-align: middle;\n",
              "    }\n",
              "\n",
              "    .dataframe tbody tr th {\n",
              "        vertical-align: top;\n",
              "    }\n",
              "\n",
              "    .dataframe thead th {\n",
              "        text-align: right;\n",
              "    }\n",
              "</style>\n",
              "<table border=\"1\" class=\"dataframe\">\n",
              "  <thead>\n",
              "    <tr style=\"text-align: right;\">\n",
              "      <th></th>\n",
              "      <th>INCIDENT_NUMBER</th>\n",
              "      <th>OFFENSE_CODE</th>\n",
              "      <th>Group</th>\n",
              "      <th>Description</th>\n",
              "      <th>District</th>\n",
              "      <th>Area</th>\n",
              "      <th>Shooting</th>\n",
              "      <th>Date</th>\n",
              "      <th>Year</th>\n",
              "      <th>Month</th>\n",
              "      <th>Day</th>\n",
              "      <th>Hour</th>\n",
              "      <th>UCR_PART</th>\n",
              "      <th>Street</th>\n",
              "      <th>latitude</th>\n",
              "      <th>longitude</th>\n",
              "      <th>IS_NIGHT</th>\n",
              "    </tr>\n",
              "  </thead>\n",
              "  <tbody>\n",
              "    <tr>\n",
              "      <th>0</th>\n",
              "      <td>I192077559</td>\n",
              "      <td>3115</td>\n",
              "      <td>Investigate Person</td>\n",
              "      <td>INVESTIGATE PERSON</td>\n",
              "      <td>Mattapan</td>\n",
              "      <td>468</td>\n",
              "      <td>0</td>\n",
              "      <td>2018-04-30 09:00:00</td>\n",
              "      <td>2018</td>\n",
              "      <td>4</td>\n",
              "      <td>Monday</td>\n",
              "      <td>9</td>\n",
              "      <td>Part Three</td>\n",
              "      <td>HAZLETON ST</td>\n",
              "      <td>42.279971</td>\n",
              "      <td>-71.095534</td>\n",
              "      <td>0</td>\n",
              "    </tr>\n",
              "    <tr>\n",
              "      <th>1</th>\n",
              "      <td>I192077332</td>\n",
              "      <td>619</td>\n",
              "      <td>Larceny</td>\n",
              "      <td>LARCENY ALL OTHERS</td>\n",
              "      <td>Hyde Park</td>\n",
              "      <td>496</td>\n",
              "      <td>0</td>\n",
              "      <td>2018-03-06 08:00:00</td>\n",
              "      <td>2018</td>\n",
              "      <td>3</td>\n",
              "      <td>Tuesday</td>\n",
              "      <td>8</td>\n",
              "      <td>Part One</td>\n",
              "      <td>HYDE PARK AVE</td>\n",
              "      <td>42.269224</td>\n",
              "      <td>-71.120853</td>\n",
              "      <td>0</td>\n",
              "    </tr>\n",
              "    <tr>\n",
              "      <th>2</th>\n",
              "      <td>I192076660</td>\n",
              "      <td>2629</td>\n",
              "      <td>Harassment</td>\n",
              "      <td>HARASSMENT</td>\n",
              "      <td>West Roxbury</td>\n",
              "      <td>662</td>\n",
              "      <td>0</td>\n",
              "      <td>2018-10-31 12:00:00</td>\n",
              "      <td>2018</td>\n",
              "      <td>10</td>\n",
              "      <td>Wednesday</td>\n",
              "      <td>12</td>\n",
              "      <td>Part Two</td>\n",
              "      <td>PRIMROSE ST</td>\n",
              "      <td>42.290765</td>\n",
              "      <td>-71.130211</td>\n",
              "      <td>0</td>\n",
              "    </tr>\n",
              "    <tr>\n",
              "      <th>3</th>\n",
              "      <td>I192075386</td>\n",
              "      <td>2629</td>\n",
              "      <td>Harassment</td>\n",
              "      <td>HARASSMENT</td>\n",
              "      <td>Downtown</td>\n",
              "      <td>96</td>\n",
              "      <td>0</td>\n",
              "      <td>2018-04-09 08:43:00</td>\n",
              "      <td>2018</td>\n",
              "      <td>4</td>\n",
              "      <td>Monday</td>\n",
              "      <td>8</td>\n",
              "      <td>Part Two</td>\n",
              "      <td>ATLANTIC AVE</td>\n",
              "      <td>42.355264</td>\n",
              "      <td>-71.050988</td>\n",
              "      <td>0</td>\n",
              "    </tr>\n",
              "    <tr>\n",
              "      <th>4</th>\n",
              "      <td>I192075335</td>\n",
              "      <td>3208</td>\n",
              "      <td>Property Lost</td>\n",
              "      <td>PROPERTY - MISSING</td>\n",
              "      <td>South End</td>\n",
              "      <td>132</td>\n",
              "      <td>0</td>\n",
              "      <td>2018-01-01 00:00:00</td>\n",
              "      <td>2018</td>\n",
              "      <td>1</td>\n",
              "      <td>Monday</td>\n",
              "      <td>0</td>\n",
              "      <td>Part Three</td>\n",
              "      <td>COMMONWEALTH AVE</td>\n",
              "      <td>42.353522</td>\n",
              "      <td>-71.072838</td>\n",
              "      <td>1</td>\n",
              "    </tr>\n",
              "  </tbody>\n",
              "</table>\n",
              "</div>"
            ],
            "text/plain": [
              "  INCIDENT_NUMBER  OFFENSE_CODE  ...  longitude IS_NIGHT\n",
              "0      I192077559          3115  ... -71.095534        0\n",
              "1      I192077332           619  ... -71.120853        0\n",
              "2      I192076660          2629  ... -71.130211        0\n",
              "3      I192075386          2629  ... -71.050988        0\n",
              "4      I192075335          3208  ... -71.072838        1\n",
              "\n",
              "[5 rows x 17 columns]"
            ]
          },
          "metadata": {
            "tags": []
          },
          "execution_count": 180
        }
      ]
    },
    {
      "cell_type": "code",
      "metadata": {
        "colab": {
          "base_uri": "https://localhost:8080/"
        },
        "id": "N8wkSILkJsuQ",
        "outputId": "994696ba-0619-4c8e-dc84-415ae4f79501"
      },
      "source": [
        "data.District.value_counts()"
      ],
      "execution_count": 181,
      "outputs": [
        {
          "output_type": "execute_result",
          "data": {
            "text/plain": [
              "Roxbury          72393\n",
              "Dorchester       61961\n",
              "South End        60056\n",
              "Mattapan         52225\n",
              "Downtown         50933\n",
              "South Boston     34341\n",
              "Brighton         29776\n",
              "Jamaica Plain    25884\n",
              "Hyde Park        25660\n",
              "West Roxbury     20190\n",
              "East Boston      19269\n",
              "Charlestown       9760\n",
              "External           391\n",
              "Name: District, dtype: int64"
            ]
          },
          "metadata": {
            "tags": []
          },
          "execution_count": 181
        }
      ]
    },
    {
      "cell_type": "code",
      "metadata": {
        "colab": {
          "base_uri": "https://localhost:8080/"
        },
        "id": "UoDZ5wv0JsuQ",
        "outputId": "19ebe1b8-7e3a-4f51-bdb0-9db485846ca0"
      },
      "source": [
        "data.Group.value_counts()"
      ],
      "execution_count": 182,
      "outputs": [
        {
          "output_type": "execute_result",
          "data": {
            "text/plain": [
              "Motor Vehicle Accident Response              41064\n",
              "Larceny                                      28906\n",
              "Medical Assistance                           26211\n",
              "Investigate Person                           20420\n",
              "Other                                        19860\n",
              "                                             ...  \n",
              "HUMAN TRAFFICKING                                8\n",
              "INVESTIGATE PERSON                               5\n",
              "Burglary - No Property Taken                     5\n",
              "Biological Threat                                2\n",
              "HUMAN TRAFFICKING - INVOLUNTARY SERVITUDE        2\n",
              "Name: Group, Length: 67, dtype: int64"
            ]
          },
          "metadata": {
            "tags": []
          },
          "execution_count": 182
        }
      ]
    },
    {
      "cell_type": "markdown",
      "metadata": {
        "id": "9otklKrgJsuQ"
      },
      "source": [
        "## EDA\n",
        "### Types of serious crimes"
      ]
    },
    {
      "cell_type": "code",
      "metadata": {
        "colab": {
          "base_uri": "https://localhost:8080/",
          "height": 781
        },
        "id": "UGeB1ktBJsuR",
        "outputId": "64a82612-1441-481e-f0bc-9b577248828e"
      },
      "source": [
        "sns.catplot(y='Group', kind='count', height=10, aspect=1.5, order=data.Group.value_counts().index,  data=data)\n",
        "plt.xticks(size=10)\n",
        "plt.yticks(size=10)\n",
        "plt.title(\"Top Crime Type During High Crime Hour in Boston from 2015 to 2021\", size = 20)"
      ],
      "execution_count": 52,
      "outputs": [
        {
          "output_type": "execute_result",
          "data": {
            "text/plain": [
              "Text(0.5, 1.0, 'Top Crime Type During High Crime Hour in Boston from 2015 to 2021')"
            ]
          },
          "metadata": {
            "tags": []
          },
          "execution_count": 52
        },
        {
          "output_type": "display_data",
          "data": {
            "image/png": "[encoded data removed]",
            "text/plain": [
              "<Figure size 1080x720 with 1 Axes>"
            ]
          },
          "metadata": {
            "tags": []
          }
        }
      ]
    },
    {
      "cell_type": "markdown",
      "metadata": {
        "id": "lFKDvybmJsuR"
      },
      "source": [
        "### When do serious crimes occur?"
      ]
    },
    {
      "cell_type": "code",
      "metadata": {
        "colab": {
          "base_uri": "https://localhost:8080/",
          "height": 489
        },
        "id": "yvPNybZ3JsuR",
        "outputId": "f6585a7f-5c89-4dcf-cd0b-d99dd056b74f"
      },
      "source": [
        "# Based on hour \n",
        "sns.catplot(x='Hour',\n",
        "           kind='count',\n",
        "            height=8.27, \n",
        "            aspect=3,\n",
        "           data=data)\n",
        "plt.xticks(size=30)\n",
        "plt.yticks(size=30)\n",
        "plt.xlabel('Hour', fontsize=40)\n",
        "plt.ylabel('Count', fontsize=40)"
      ],
      "execution_count": 53,
      "outputs": [
        {
          "output_type": "execute_result",
          "data": {
            "text/plain": [
              "Text(-7.324999999999999, 0.5, 'Count')"
            ]
          },
          "metadata": {
            "tags": []
          },
          "execution_count": 53
        },
        {
          "output_type": "display_data",
          "data": {
            "image/png": "[encoded data removed]",
            "text/plain": [
              "<Figure size 1786.32x595.44 with 1 Axes>"
            ]
          },
          "metadata": {
            "tags": []
          }
        }
      ]
    },
    {
      "cell_type": "code",
      "metadata": {
        "colab": {
          "base_uri": "https://localhost:8080/",
          "height": 459
        },
        "id": "aQK0jzDPJsuR",
        "outputId": "be123f14-8a6f-46e1-8461-e96f6d08392b"
      },
      "source": [
        "# Based on date\n",
        "sns.catplot(x='Day',\n",
        "           kind='count',\n",
        "            height=8, \n",
        "            aspect=3,\n",
        "           data=data)\n",
        "plt.xticks(size=30)\n",
        "plt.yticks(size=30)\n",
        "plt.xlabel('')\n",
        "plt.ylabel('Count', fontsize=40)"
      ],
      "execution_count": 54,
      "outputs": [
        {
          "output_type": "execute_result",
          "data": {
            "text/plain": [
              "Text(-7.324999999999978, 0.5, 'Count')"
            ]
          },
          "metadata": {
            "tags": []
          },
          "execution_count": 54
        },
        {
          "output_type": "display_data",
          "data": {
            "image/png": "[encoded data removed]",
            "text/plain": [
              "<Figure size 1728x576 with 1 Axes>"
            ]
          },
          "metadata": {
            "tags": []
          }
        }
      ]
    },
    {
      "cell_type": "code",
      "metadata": {
        "id": "N__ebyRzJsuT"
      },
      "source": [
        "x=data.groupby('Group')['Day'].value_counts()\n",
        "x= pd.DataFrame(x)"
      ],
      "execution_count": 55,
      "outputs": []
    },
    {
      "cell_type": "code",
      "metadata": {
        "scrolled": false,
        "colab": {
          "base_uri": "https://localhost:8080/",
          "height": 493
        },
        "id": "G_MhxiBZJsuT",
        "outputId": "d2985e3d-d0c7-4335-c690-041852b9dbbf"
      },
      "source": [
        "Months = ['Jan','Feb','Mar','Apr','May','Jun','Jul','Aug','Sep','Oct','Nov','Dec']\n",
        "\n",
        "sns.catplot(x='Month',\n",
        "           kind='count',\n",
        "            height=8.27, \n",
        "            aspect=3,\n",
        "           data=data)\n",
        "plt.xticks(np.arange(12), Months, size=30)\n",
        "\n",
        "# plt.xticks(size=30)\n",
        "plt.yticks(size=30)\n",
        "plt.xlabel('Month', fontsize=40)\n",
        "plt.ylabel('Count', fontsize=40)"
      ],
      "execution_count": 56,
      "outputs": [
        {
          "output_type": "execute_result",
          "data": {
            "text/plain": [
              "Text(-7.324999999999999, 0.5, 'Count')"
            ]
          },
          "metadata": {
            "tags": []
          },
          "execution_count": 56
        },
        {
          "output_type": "display_data",
          "data": {
            "image/png": "[encoded data removed]",
            "text/plain": [
              "<Figure size 1786.32x595.44 with 1 Axes>"
            ]
          },
          "metadata": {
            "tags": []
          }
        }
      ]
    },
    {
      "cell_type": "markdown",
      "metadata": {
        "id": "NRn6aeBYJsuT"
      },
      "source": [
        "### Total number of crime each year"
      ]
    },
    {
      "cell_type": "code",
      "metadata": {
        "id": "_fTnWNW4JsuT"
      },
      "source": [
        "def number_of_crime(name_column, list_unique):\n",
        "    # list_unique = df[name_column].unique()\n",
        "    \n",
        "    i = 0\n",
        "    \n",
        "    list_number = list()\n",
        "    \n",
        "    while i < len(list_unique):\n",
        "        list_number.append(len(data.loc[data[name_column] == list_unique[i]]))\n",
        "        i += 1\n",
        "    \n",
        "    return list_unique, list_number\n"
      ],
      "execution_count": 183,
      "outputs": []
    },
    {
      "cell_type": "code",
      "metadata": {
        "id": "suUv26qbJsuT"
      },
      "source": [
        "list_unique_year, list_number_year = number_of_crime('Year',data['Year'].unique())\n"
      ],
      "execution_count": 184,
      "outputs": []
    },
    {
      "cell_type": "code",
      "metadata": {
        "id": "dViuyfe6JsuT"
      },
      "source": [
        "def bar_chart(list_number, list_unique):\n",
        "    objects = list_unique\n",
        "    y_pos = np.arange(len(objects))\n",
        "    performance = list_number\n",
        " \n",
        "    plt.figure(figsize=(20,10))    \n",
        "    plt.bar(y_pos, performance, align='center', alpha=0.5)\n",
        "    plt.xticks(y_pos, objects)\n",
        "    plt.ylabel('Number') \n",
        "    plt.show()\n",
        "    \n",
        "    return 0"
      ],
      "execution_count": 185,
      "outputs": []
    },
    {
      "cell_type": "code",
      "metadata": {
        "colab": {
          "base_uri": "https://localhost:8080/",
          "height": 605
        },
        "id": "02D26u3OJsuT",
        "outputId": "89f65b9e-3d38-49a1-f828-e352e2558b83"
      },
      "source": [
        "bar_chart(list_number_year,list_unique_year)"
      ],
      "execution_count": 186,
      "outputs": [
        {
          "output_type": "display_data",
          "data": {
            "image/png": "[encoded data removed]",
            "text/plain": [
              "<Figure size 1440x720 with 1 Axes>"
            ]
          },
          "metadata": {
            "tags": []
          }
        },
        {
          "output_type": "execute_result",
          "data": {
            "text/plain": [
              "0"
            ]
          },
          "metadata": {
            "tags": []
          },
          "execution_count": 186
        }
      ]
    },
    {
      "cell_type": "markdown",
      "metadata": {
        "id": "PutdTEnsJsuT"
      },
      "source": [
        "### Data cleaning "
      ]
    },
    {
      "cell_type": "code",
      "metadata": {
        "colab": {
          "base_uri": "https://localhost:8080/",
          "height": 204
        },
        "id": "E5OMlbfPJsuT",
        "outputId": "809e0f8e-6883-4264-d9b4-0bedfc9dfcd2"
      },
      "source": [
        "# Counts all missing values\n",
        "total = data.isnull().sum().sort_values(ascending = False)\n",
        "frames = [total]\n",
        "# pd.concat(): axis=0 means index, axis=1 means column, keys = name of the column.\n",
        "missing = pd.concat(frames, axis = 1, keys = ['Total'])\n",
        "missing.head()"
      ],
      "execution_count": 187,
      "outputs": [
        {
          "output_type": "execute_result",
          "data": {
            "text/html": [
              "<div>\n",
              "<style scoped>\n",
              "    .dataframe tbody tr th:only-of-type {\n",
              "        vertical-align: middle;\n",
              "    }\n",
              "\n",
              "    .dataframe tbody tr th {\n",
              "        vertical-align: top;\n",
              "    }\n",
              "\n",
              "    .dataframe thead th {\n",
              "        text-align: right;\n",
              "    }\n",
              "</style>\n",
              "<table border=\"1\" class=\"dataframe\">\n",
              "  <thead>\n",
              "    <tr style=\"text-align: right;\">\n",
              "      <th></th>\n",
              "      <th>Total</th>\n",
              "    </tr>\n",
              "  </thead>\n",
              "  <tbody>\n",
              "    <tr>\n",
              "      <th>Group</th>\n",
              "      <td>111821</td>\n",
              "    </tr>\n",
              "    <tr>\n",
              "      <th>UCR_PART</th>\n",
              "      <td>28714</td>\n",
              "    </tr>\n",
              "    <tr>\n",
              "      <th>Street</th>\n",
              "      <td>11207</td>\n",
              "    </tr>\n",
              "    <tr>\n",
              "      <th>District</th>\n",
              "      <td>2235</td>\n",
              "    </tr>\n",
              "    <tr>\n",
              "      <th>IS_NIGHT</th>\n",
              "      <td>0</td>\n",
              "    </tr>\n",
              "  </tbody>\n",
              "</table>\n",
              "</div>"
            ],
            "text/plain": [
              "           Total\n",
              "Group     111821\n",
              "UCR_PART   28714\n",
              "Street     11207\n",
              "District    2235\n",
              "IS_NIGHT       0"
            ]
          },
          "metadata": {
            "tags": []
          },
          "execution_count": 187
        }
      ]
    },
    {
      "cell_type": "code",
      "metadata": {
        "colab": {
          "base_uri": "https://localhost:8080/"
        },
        "id": "OY-_0UVcJsuT",
        "outputId": "c69c29dc-0e28-4fb6-a5d5-60981a59a10c"
      },
      "source": [
        "data.isnull().mean().sort_values(ascending=False) * 100"
      ],
      "execution_count": 62,
      "outputs": [
        {
          "output_type": "execute_result",
          "data": {
            "text/plain": [
              "Group              24.043701\n",
              "UCR_PART            6.174071\n",
              "Street              2.409724\n",
              "District            0.480569\n",
              "IS_NIGHT            0.000000\n",
              "Shooting            0.000000\n",
              "OFFENSE_CODE        0.000000\n",
              "Description         0.000000\n",
              "Area                0.000000\n",
              "Year                0.000000\n",
              "Date                0.000000\n",
              "longitude           0.000000\n",
              "Month               0.000000\n",
              "Day                 0.000000\n",
              "Hour                0.000000\n",
              "latitude            0.000000\n",
              "INCIDENT_NUMBER     0.000000\n",
              "dtype: float64"
            ]
          },
          "metadata": {
            "tags": []
          },
          "execution_count": 62
        }
      ]
    },
    {
      "cell_type": "code",
      "metadata": {
        "colab": {
          "base_uri": "https://localhost:8080/",
          "height": 508
        },
        "id": "GhwLQnGsJsuU",
        "outputId": "3fee99bb-ff25-4982-c9e6-34b8b60812d6"
      },
      "source": [
        "# Presenting missing values by using barplot\n",
        "missing = dataset.isnull().sum().sort_values(ascending=False).div(len(dataset))\n",
        "plt.figure(figsize=(14,8))\n",
        "sns.barplot(y=missing.index, x=missing.values, palette=\"rocket\")\n",
        "plt.title(\"Percent of missing data\")\n",
        "plt.xlabel(\"Columns\")\n",
        "plt.ylabel(\"Ratio\")\n",
        "plt.show()"
      ],
      "execution_count": 63,
      "outputs": [
        {
          "output_type": "display_data",
          "data": {
            "image/png": "[encoded data removed]",
            "text/plain": [
              "<Figure size 1008x576 with 1 Axes>"
            ]
          },
          "metadata": {
            "tags": []
          }
        }
      ]
    },
    {
      "cell_type": "code",
      "metadata": {
        "id": "noUkCCJZJsuU"
      },
      "source": [
        "# Drop missing rows from Columns\n",
        "data.dropna(subset = [\"UCR_PART\"], inplace=True) # Drop rows with no values \n",
        "#data.dropna(subset = [\"Group\"], inplace=True) # Drop rows with no values "
      ],
      "execution_count": 188,
      "outputs": []
    },
    {
      "cell_type": "code",
      "metadata": {
        "colab": {
          "base_uri": "https://localhost:8080/",
          "height": 142
        },
        "id": "rNg-cMK0JsuU",
        "outputId": "9db49a95-1a76-45b3-b28b-eae7f4fab6df"
      },
      "source": [
        "# check missing value in df\n",
        "missing = data.isna().sum().sort_values(ascending = False)\n",
        "percent_missing = ((missing / data.isnull().count()) * 100).sort_values(ascending = False)\n",
        "missing_df = pd.concat([missing,percent_missing], axis = 1, keys = ['Total', 'Percent'],sort = False)\n",
        "missing_df[missing_df['Total'] >= 1]"
      ],
      "execution_count": 189,
      "outputs": [
        {
          "output_type": "execute_result",
          "data": {
            "text/html": [
              "<div>\n",
              "<style scoped>\n",
              "    .dataframe tbody tr th:only-of-type {\n",
              "        vertical-align: middle;\n",
              "    }\n",
              "\n",
              "    .dataframe tbody tr th {\n",
              "        vertical-align: top;\n",
              "    }\n",
              "\n",
              "    .dataframe thead th {\n",
              "        text-align: right;\n",
              "    }\n",
              "</style>\n",
              "<table border=\"1\" class=\"dataframe\">\n",
              "  <thead>\n",
              "    <tr style=\"text-align: right;\">\n",
              "      <th></th>\n",
              "      <th>Total</th>\n",
              "      <th>Percent</th>\n",
              "    </tr>\n",
              "  </thead>\n",
              "  <tbody>\n",
              "    <tr>\n",
              "      <th>Group</th>\n",
              "      <td>83204</td>\n",
              "      <td>19.067742</td>\n",
              "    </tr>\n",
              "    <tr>\n",
              "      <th>Street</th>\n",
              "      <td>11207</td>\n",
              "      <td>2.568292</td>\n",
              "    </tr>\n",
              "    <tr>\n",
              "      <th>District</th>\n",
              "      <td>2109</td>\n",
              "      <td>0.483317</td>\n",
              "    </tr>\n",
              "  </tbody>\n",
              "</table>\n",
              "</div>"
            ],
            "text/plain": [
              "          Total    Percent\n",
              "Group     83204  19.067742\n",
              "Street    11207   2.568292\n",
              "District   2109   0.483317"
            ]
          },
          "metadata": {
            "tags": []
          },
          "execution_count": 189
        }
      ]
    },
    {
      "cell_type": "code",
      "metadata": {
        "id": "NQ1tukQI4BN6"
      },
      "source": [
        "## removing columns with missing values more than 10%\n",
        "missing_df = missing_df.reset_index()\n",
        "over10 = list(missing_df.loc[missing_df['Percent'] >= 10,'index'])\n",
        "data = data.drop(over10, axis = 1)"
      ],
      "execution_count": 190,
      "outputs": []
    },
    {
      "cell_type": "code",
      "metadata": {
        "id": "wHmqFA0YJsuU"
      },
      "source": [
        "data.dropna(inplace=True)"
      ],
      "execution_count": 191,
      "outputs": []
    },
    {
      "cell_type": "markdown",
      "metadata": {
        "id": "1J2K6DK3J5Tr"
      },
      "source": [
        "### Model Building"
      ]
    },
    {
      "cell_type": "code",
      "metadata": {
        "id": "KRtFoNuzKDx1"
      },
      "source": [
        "## defining a reusable function to evaluate model performance\n",
        "\n",
        "def eval_result(model_name,y_train,y_predtrain,y_test,y_predtest):\n",
        "\n",
        "    from sklearn.metrics import accuracy_score, roc_auc_score, classification_report, plot_confusion_matrix, plot_roc_curve\n",
        "    from matplotlib import pyplot as plt\n",
        "\n",
        "    train_accuracy = accuracy_score(y_train, y_predtrain)\n",
        "    print(f'training data accuracy {train_accuracy}')\n",
        "    #train_roc_auc = roc_auc_score(y_train, y_predtrain) \n",
        "    #print(f' Area under the ROC curve for training data {train_roc_auc}')\n",
        "    \n",
        "    test_accuracy = accuracy_score(y_test, y_predtest)\n",
        "    print(f'testing data accuracy {test_accuracy}')\n",
        "    #test_roc_auc = roc_auc_score(y_test, y_predtest) \n",
        "    #print(f' Area under the ROC curve for testing data {test_roc_auc}')\n",
        "    \n",
        "    print(classification_report(y_test,y_predtest,digits=5))\n",
        "    #plot_confusion_matrix(model_name, X_test, y_test,cmap=plt.cm.pink, normalize = 'all')\n",
        "    #plot_roc_curve(model_name, X_test, y_test)\n"
      ],
      "execution_count": 223,
      "outputs": []
    },
    {
      "cell_type": "code",
      "metadata": {
        "id": "HdB0SO_Lf97Q"
      },
      "source": [
        "def run_model(model,verbose=True):\n",
        "    t0=time.time()\n",
        "    if verbose== False:\n",
        "        model.fit(X_train,y_train.values.ravel(),verbose=0)\n",
        "    else :\n",
        "        model.fit(X_train,y_train.values.ravel())\n",
        "    \n",
        "    time_taken= time.time()- t0\n",
        "    print(f'Time taken: {time_taken}')"
      ],
      "execution_count": 193,
      "outputs": []
    },
    {
      "cell_type": "code",
      "metadata": {
        "id": "X9gj7S4dolD2"
      },
      "source": [
        "#removing the unwated features from the list and keeping remaining\n",
        "features = ['District', 'Year', 'Month', 'Day',\n",
        "       'Street', 'latitude',\n",
        "       'longitude', 'IS_NIGHT']\n",
        "target = ['UCR_PART']\n",
        "\n",
        "X = data[features]\n",
        "y = data[target]\n",
        "\n"
      ],
      "execution_count": 204,
      "outputs": []
    },
    {
      "cell_type": "code",
      "metadata": {
        "id": "ym0ltKeR1N7j"
      },
      "source": [
        "\n",
        "#Encoder\n",
        "def label_encoder(dataset):\n",
        "    dataset_lencoded = dataset.copy(deep=True);\n",
        "\n",
        "   \n",
        "    #Takes in dataset, returns label encoded dataframe and the label encoder models\n",
        "    label_encoders = [None]*dataset_lencoded.shape[1];\n",
        "\n",
        "    List_Of_Categories_In_Column=list(dataset_lencoded.select_dtypes(include=['category']))\n",
        "    J=0\n",
        "    for i in List_Of_Categories_In_Column:\n",
        "        le = LabelEncoder()\n",
        "        dataset_lencoded[i] = le.fit_transform(dataset_lencoded[i])\n",
        "        label_encoders[J] = le\n",
        "        J=J+1\n",
        "    \n",
        "    List_Of_object_In_Column=list(dataset_lencoded.select_dtypes(include=['object']))\n",
        "    for i in List_Of_object_In_Column:\n",
        "        le = LabelEncoder()\n",
        "        dataset_lencoded[i] = le.fit_transform(dataset_lencoded[i])\n",
        "        label_encoders[J] = le\n",
        "        J=J+1\n",
        "    return dataset_lencoded\n"
      ],
      "execution_count": 208,
      "outputs": []
    },
    {
      "cell_type": "code",
      "metadata": {
        "id": "_kS3drQ01Pr6"
      },
      "source": [
        "X=label_encoder(X)\n",
        "y=label_encoder(y)"
      ],
      "execution_count": 215,
      "outputs": []
    },
    {
      "cell_type": "code",
      "metadata": {
        "colab": {
          "base_uri": "https://localhost:8080/"
        },
        "id": "YNkN24Ao6nYF",
        "outputId": "8ad7ad37-af68-4c76-a826-9b42a8592483"
      },
      "source": [
        "X.dtypes"
      ],
      "execution_count": 216,
      "outputs": [
        {
          "output_type": "execute_result",
          "data": {
            "text/plain": [
              "District       int64\n",
              "Year           int64\n",
              "Month          int64\n",
              "Day            int64\n",
              "Street         int64\n",
              "latitude     float64\n",
              "longitude    float64\n",
              "IS_NIGHT       int64\n",
              "dtype: object"
            ]
          },
          "metadata": {
            "tags": []
          },
          "execution_count": 216
        }
      ]
    },
    {
      "cell_type": "code",
      "metadata": {
        "colab": {
          "base_uri": "https://localhost:8080/",
          "height": 402
        },
        "id": "OkqwqRJt61PW",
        "outputId": "35087635-4b04-4165-e6d1-059bb2f73f6e"
      },
      "source": [
        "X.select_dtypes(include=['category'])"
      ],
      "execution_count": 211,
      "outputs": [
        {
          "output_type": "execute_result",
          "data": {
            "text/html": [
              "<div>\n",
              "<style scoped>\n",
              "    .dataframe tbody tr th:only-of-type {\n",
              "        vertical-align: middle;\n",
              "    }\n",
              "\n",
              "    .dataframe tbody tr th {\n",
              "        vertical-align: top;\n",
              "    }\n",
              "\n",
              "    .dataframe thead th {\n",
              "        text-align: right;\n",
              "    }\n",
              "</style>\n",
              "<table border=\"1\" class=\"dataframe\">\n",
              "  <thead>\n",
              "    <tr style=\"text-align: right;\">\n",
              "      <th></th>\n",
              "    </tr>\n",
              "  </thead>\n",
              "  <tbody>\n",
              "    <tr>\n",
              "      <th>0</th>\n",
              "    </tr>\n",
              "    <tr>\n",
              "      <th>1</th>\n",
              "    </tr>\n",
              "    <tr>\n",
              "      <th>2</th>\n",
              "    </tr>\n",
              "    <tr>\n",
              "      <th>3</th>\n",
              "    </tr>\n",
              "    <tr>\n",
              "      <th>4</th>\n",
              "    </tr>\n",
              "    <tr>\n",
              "      <th>...</th>\n",
              "    </tr>\n",
              "    <tr>\n",
              "      <th>465057</th>\n",
              "    </tr>\n",
              "    <tr>\n",
              "      <th>465069</th>\n",
              "    </tr>\n",
              "    <tr>\n",
              "      <th>465070</th>\n",
              "    </tr>\n",
              "    <tr>\n",
              "      <th>465072</th>\n",
              "    </tr>\n",
              "    <tr>\n",
              "      <th>465073</th>\n",
              "    </tr>\n",
              "  </tbody>\n",
              "</table>\n",
              "<p>424078 rows × 0 columns</p>\n",
              "</div>"
            ],
            "text/plain": [
              "Empty DataFrame\n",
              "Columns: []\n",
              "Index: [0, 1, 2, 3, 4, 5, 6, 7, 8, 9, 10, 11, 12, 13, 14, 15, 16, 17, 18, 19, 20, 21, 22, 23, 24, 25, 26, 27, 28, 29, 30, 31, 32, 33, 34, 35, 36, 37, 38, 39, 40, 41, 42, 43, 44, 45, 46, 47, 48, 50, 51, 52, 53, 54, 55, 56, 57, 58, 59, 60, 61, 62, 63, 64, 65, 66, 67, 68, 69, 70, 71, 72, 73, 74, 75, 76, 77, 78, 79, 80, 81, 82, 83, 84, 85, 86, 87, 88, 89, 90, 91, 92, 93, 94, 95, 96, 97, 98, 99, 100, ...]\n",
              "\n",
              "[424078 rows x 0 columns]"
            ]
          },
          "metadata": {
            "tags": []
          },
          "execution_count": 211
        }
      ]
    },
    {
      "cell_type": "code",
      "metadata": {
        "id": "tMjpVD4-k5Xe"
      },
      "source": [
        "# Split relevant variables into matrices and split into train and test groups\n",
        "X_train, X_test, y_train, y_test = train_test_split(X, y, test_size=0.33, random_state=42,stratify=y)"
      ],
      "execution_count": 386,
      "outputs": []
    },
    {
      "cell_type": "code",
      "metadata": {
        "colab": {
          "base_uri": "https://localhost:8080/",
          "height": 419
        },
        "id": "M40jO3vZ6g3S",
        "outputId": "0389c01a-bb10-4e5d-da4e-764f90ae39e9"
      },
      "source": [
        "X_train"
      ],
      "execution_count": 387,
      "outputs": [
        {
          "output_type": "execute_result",
          "data": {
            "text/html": [
              "<div>\n",
              "<style scoped>\n",
              "    .dataframe tbody tr th:only-of-type {\n",
              "        vertical-align: middle;\n",
              "    }\n",
              "\n",
              "    .dataframe tbody tr th {\n",
              "        vertical-align: top;\n",
              "    }\n",
              "\n",
              "    .dataframe thead th {\n",
              "        text-align: right;\n",
              "    }\n",
              "</style>\n",
              "<table border=\"1\" class=\"dataframe\">\n",
              "  <thead>\n",
              "    <tr style=\"text-align: right;\">\n",
              "      <th></th>\n",
              "      <th>District</th>\n",
              "      <th>Year</th>\n",
              "      <th>Month</th>\n",
              "      <th>Day</th>\n",
              "      <th>Street</th>\n",
              "      <th>latitude</th>\n",
              "      <th>longitude</th>\n",
              "      <th>IS_NIGHT</th>\n",
              "    </tr>\n",
              "  </thead>\n",
              "  <tbody>\n",
              "    <tr>\n",
              "      <th>434466</th>\n",
              "      <td>3</td>\n",
              "      <td>2020</td>\n",
              "      <td>2</td>\n",
              "      <td>1</td>\n",
              "      <td>8230</td>\n",
              "      <td>42.363746</td>\n",
              "      <td>-71.063546</td>\n",
              "      <td>1</td>\n",
              "    </tr>\n",
              "    <tr>\n",
              "      <th>22749</th>\n",
              "      <td>2</td>\n",
              "      <td>2018</td>\n",
              "      <td>10</td>\n",
              "      <td>2</td>\n",
              "      <td>1342</td>\n",
              "      <td>42.303287</td>\n",
              "      <td>-71.063634</td>\n",
              "      <td>1</td>\n",
              "    </tr>\n",
              "    <tr>\n",
              "      <th>71169</th>\n",
              "      <td>11</td>\n",
              "      <td>2018</td>\n",
              "      <td>4</td>\n",
              "      <td>0</td>\n",
              "      <td>2651</td>\n",
              "      <td>42.349113</td>\n",
              "      <td>-71.087678</td>\n",
              "      <td>0</td>\n",
              "    </tr>\n",
              "    <tr>\n",
              "      <th>23551</th>\n",
              "      <td>3</td>\n",
              "      <td>2018</td>\n",
              "      <td>10</td>\n",
              "      <td>4</td>\n",
              "      <td>6152</td>\n",
              "      <td>42.367089</td>\n",
              "      <td>-71.054811</td>\n",
              "      <td>1</td>\n",
              "    </tr>\n",
              "    <tr>\n",
              "      <th>93069</th>\n",
              "      <td>11</td>\n",
              "      <td>2018</td>\n",
              "      <td>1</td>\n",
              "      <td>6</td>\n",
              "      <td>8894</td>\n",
              "      <td>42.340637</td>\n",
              "      <td>-71.075723</td>\n",
              "      <td>0</td>\n",
              "    </tr>\n",
              "    <tr>\n",
              "      <th>...</th>\n",
              "      <td>...</td>\n",
              "      <td>...</td>\n",
              "      <td>...</td>\n",
              "      <td>...</td>\n",
              "      <td>...</td>\n",
              "      <td>...</td>\n",
              "      <td>...</td>\n",
              "      <td>...</td>\n",
              "    </tr>\n",
              "    <tr>\n",
              "      <th>175067</th>\n",
              "      <td>9</td>\n",
              "      <td>2017</td>\n",
              "      <td>4</td>\n",
              "      <td>0</td>\n",
              "      <td>9031</td>\n",
              "      <td>42.335457</td>\n",
              "      <td>-71.096993</td>\n",
              "      <td>0</td>\n",
              "    </tr>\n",
              "    <tr>\n",
              "      <th>132858</th>\n",
              "      <td>1</td>\n",
              "      <td>2017</td>\n",
              "      <td>8</td>\n",
              "      <td>4</td>\n",
              "      <td>9046</td>\n",
              "      <td>42.374588</td>\n",
              "      <td>-71.062940</td>\n",
              "      <td>0</td>\n",
              "    </tr>\n",
              "    <tr>\n",
              "      <th>41948</th>\n",
              "      <td>3</td>\n",
              "      <td>2018</td>\n",
              "      <td>7</td>\n",
              "      <td>5</td>\n",
              "      <td>4608</td>\n",
              "      <td>42.348913</td>\n",
              "      <td>-71.062212</td>\n",
              "      <td>0</td>\n",
              "    </tr>\n",
              "    <tr>\n",
              "      <th>61098</th>\n",
              "      <td>2</td>\n",
              "      <td>2018</td>\n",
              "      <td>5</td>\n",
              "      <td>2</td>\n",
              "      <td>3241</td>\n",
              "      <td>42.286240</td>\n",
              "      <td>-71.064168</td>\n",
              "      <td>0</td>\n",
              "    </tr>\n",
              "    <tr>\n",
              "      <th>329398</th>\n",
              "      <td>1</td>\n",
              "      <td>2015</td>\n",
              "      <td>9</td>\n",
              "      <td>2</td>\n",
              "      <td>1074</td>\n",
              "      <td>42.375224</td>\n",
              "      <td>-71.064558</td>\n",
              "      <td>0</td>\n",
              "    </tr>\n",
              "  </tbody>\n",
              "</table>\n",
              "<p>284132 rows × 8 columns</p>\n",
              "</div>"
            ],
            "text/plain": [
              "        District  Year  Month  Day  Street   latitude  longitude  IS_NIGHT\n",
              "434466         3  2020      2    1    8230  42.363746 -71.063546         1\n",
              "22749          2  2018     10    2    1342  42.303287 -71.063634         1\n",
              "71169         11  2018      4    0    2651  42.349113 -71.087678         0\n",
              "23551          3  2018     10    4    6152  42.367089 -71.054811         1\n",
              "93069         11  2018      1    6    8894  42.340637 -71.075723         0\n",
              "...          ...   ...    ...  ...     ...        ...        ...       ...\n",
              "175067         9  2017      4    0    9031  42.335457 -71.096993         0\n",
              "132858         1  2017      8    4    9046  42.374588 -71.062940         0\n",
              "41948          3  2018      7    5    4608  42.348913 -71.062212         0\n",
              "61098          2  2018      5    2    3241  42.286240 -71.064168         0\n",
              "329398         1  2015      9    2    1074  42.375224 -71.064558         0\n",
              "\n",
              "[284132 rows x 8 columns]"
            ]
          },
          "metadata": {
            "tags": []
          },
          "execution_count": 387
        }
      ]
    },
    {
      "cell_type": "markdown",
      "metadata": {
        "id": "c9rAketUgFGX"
      },
      "source": [
        "### KNN MODEL"
      ]
    },
    {
      "cell_type": "code",
      "metadata": {
        "colab": {
          "base_uri": "https://localhost:8080/"
        },
        "id": "FATYN2uTgCy_",
        "outputId": "1e459a28-8bcc-4ecc-f4ac-68806315f351"
      },
      "source": [
        "# p = 2 is equivalent to using the euclidean distance\n",
        "# weights = 'distance' means closer points are weighted more heavily than further away points\n",
        "n_neighbors = 5\n",
        "model1 = KNeighborsClassifier(n_neighbors=n_neighbors,weights='distance',algorithm='auto',p=2)\n",
        "run_model(model1)\n",
        "y_hat_train = model1.predict(X_train)\n",
        "y_hat_test = model1.predict(X_test)\n",
        "\n",
        "eval_result(model1,y_train,y_hat_train,y_test,y_hat_test)\n"
      ],
      "execution_count": 388,
      "outputs": [
        {
          "output_type": "stream",
          "text": [
            "Time taken: 1.7315187454223633\n",
            "training data accuracy 0.9380006475863331\n",
            "testing data accuracy 0.46297857745130266\n",
            "              precision    recall  f1-score   support\n",
            "\n",
            "           0    0.04035   0.02487   0.03077       563\n",
            "           1    0.31016   0.27402   0.29097     28235\n",
            "           2    0.55947   0.61503   0.58593     70000\n",
            "           3    0.37104   0.33997   0.35483     41148\n",
            "\n",
            "    accuracy                        0.46298    139946\n",
            "   macro avg    0.32025   0.31347   0.31563    139946\n",
            "weighted avg    0.45168   0.46298   0.45624    139946\n",
            "\n"
          ],
          "name": "stdout"
        }
      ]
    },
    {
      "cell_type": "markdown",
      "metadata": {
        "id": "mrlHJFs4gLQv"
      },
      "source": [
        "### Random Forest"
      ]
    },
    {
      "cell_type": "code",
      "metadata": {
        "id": "JJCa-_E6gQxO"
      },
      "source": [
        "\n",
        "# Hyperparameter Tuning\n",
        "# run once\n",
        "\n",
        "'''from sklearn.ensemble import RandomForestClassifier\n",
        "\n",
        "\n",
        "n_estimators_hyp = [100,200,300,400,500,700,1000]\n",
        "min_sample_leaf_hyp = np.linspace(1,20, 20);\n",
        "\n",
        "oobscore_list=dict()\n",
        "\n",
        "for i in n_estimators_hyp:\n",
        "    for j in min_sample_leaf_hyp:\n",
        "        model2 = RandomForestClassifier(n_estimators=i, min_samples_leaf=int(j), oob_score=True);\n",
        "        model2.fit(X_train, y_train)\n",
        "        key = \"n_estimator =\" +str(i)+\" min_sample_leaf =\"+str(j);\n",
        "        oobscore_list[key]=model2.oob_score_\n",
        "\n",
        "    #oobscore_list.append(rf_model.oob_score_)\n",
        "\n",
        "oobscore_list'''"
      ],
      "execution_count": null,
      "outputs": []
    },
    {
      "cell_type": "code",
      "metadata": {
        "colab": {
          "base_uri": "https://localhost:8080/"
        },
        "id": "I88TfXYXgaG3",
        "outputId": "8e0a199d-f55f-47b4-cc06-dc4ae9726946"
      },
      "source": [
        "#class_weights = {'Single_Day_Trend':1,'Close':0.85,'High':0.45,'Low':0.45}\n",
        "model2 = RandomForestClassifier(n_estimators=100,\n",
        "                                criterion='gini',\n",
        "                                max_depth=20,\n",
        "                                min_samples_split=4,\n",
        "                                min_samples_leaf=1,\n",
        "                                max_features='auto',\n",
        "                                oob_score=True,\n",
        "                                random_state=1234)\n",
        "\n",
        "\n",
        "run_model(model2)\n",
        "print(f'Out of bag score for random forest model is:{model2.oob_score_}')\n",
        "\n",
        "\n",
        "y_hat2_train = model2.predict(X_train)\n",
        "y_hat2_test = model2.predict(X_test)\n",
        "\n",
        "\n",
        "eval_result(model2,y_train,y_hat2_train,y_test,y_hat2_test)"
      ],
      "execution_count": 225,
      "outputs": [
        {
          "output_type": "stream",
          "text": [
            "Time taken: 43.32532501220703\n",
            "Out of bag score for random forest model is:0.5292786451367674\n",
            "training data accuracy 0.7463819633128265\n",
            "testing data accuracy 0.5317836879939405\n",
            "              precision    recall  f1-score   support\n",
            "\n",
            "           0    0.38462   0.00888   0.01736       563\n",
            "           1    0.47806   0.17907   0.26054     28235\n",
            "           2    0.54793   0.86694   0.67147     70000\n",
            "           3    0.46632   0.21080   0.29035     41148\n",
            "\n",
            "    accuracy                        0.53178    139946\n",
            "   macro avg    0.46923   0.31642   0.30993    139946\n",
            "weighted avg    0.50918   0.53178   0.47387    139946\n",
            "\n"
          ],
          "name": "stdout"
        }
      ]
    },
    {
      "cell_type": "markdown",
      "metadata": {
        "id": "iztgaEOQhZKL"
      },
      "source": [
        "### ANN"
      ]
    },
    {
      "cell_type": "code",
      "metadata": {
        "id": "8CUmMNqkhYVx"
      },
      "source": [
        "\n",
        "#Neural Networks\n",
        "from tensorflow.keras.models import Sequential\n",
        "from tensorflow.keras.layers import Dense, Dropout,LeakyReLU\n",
        "from tensorflow.keras import backend as K"
      ],
      "execution_count": 389,
      "outputs": []
    },
    {
      "cell_type": "code",
      "metadata": {
        "id": "zJaGANPJjSU2"
      },
      "source": [
        "\n",
        "# Normalize Features\n",
        "scaler = StandardScaler()\n",
        "X_train_scaled = scaler.fit_transform(X_train)\n",
        "X_test_scaled = scaler.fit_transform(X_test)"
      ],
      "execution_count": 390,
      "outputs": []
    },
    {
      "cell_type": "code",
      "metadata": {
        "colab": {
          "base_uri": "https://localhost:8080/"
        },
        "id": "xqUm7R6pC41Z",
        "outputId": "1f1facd0-171e-467c-8845-107e07412fe8"
      },
      "source": [
        "X_train_scaled"
      ],
      "execution_count": 391,
      "outputs": [
        {
          "output_type": "execute_result",
          "data": {
            "text/plain": [
              "array([[-0.94360524,  1.6246709 , -1.43244373, ...,  0.19817952,\n",
              "        -0.19142383,  1.51633006],\n",
              "       [-1.21271666,  0.39927267,  0.90742947, ...,  0.19050085,\n",
              "        -0.19143046,  1.51633006],\n",
              "       [ 1.20928614,  0.39927267, -0.84747543, ...,  0.19632103,\n",
              "        -0.19324942, -0.65948702],\n",
              "       ...,\n",
              "       [-0.94360524,  0.39927267,  0.02997702, ...,  0.1962957 ,\n",
              "        -0.19132291, -0.65948702],\n",
              "       [-1.21271666,  0.39927267, -0.55499128, ...,  0.18833573,\n",
              "        -0.19147083, -0.65948702],\n",
              "       [-1.48182808, -1.43882467,  0.61494532, ...,  0.19963728,\n",
              "        -0.19150034, -0.65948702]])"
            ]
          },
          "metadata": {
            "tags": []
          },
          "execution_count": 391
        }
      ]
    },
    {
      "cell_type": "code",
      "metadata": {
        "id": "H2mMhN9teTrf"
      },
      "source": [
        "!pip install tensorflow==2.0.0"
      ],
      "execution_count": null,
      "outputs": []
    },
    {
      "cell_type": "code",
      "metadata": {
        "id": "-DJpwFSunDGR"
      },
      "source": [
        "import tensorflow as tf"
      ],
      "execution_count": 392,
      "outputs": []
    },
    {
      "cell_type": "code",
      "metadata": {
        "id": "DN_wjRn2hkEh"
      },
      "source": [
        "'''model = Sequential()\n",
        "model.add(Dense(units=128, activation= 'relu', kernel_initializer='he_uniform',dynamic=True,input_dim= 21))\n",
        "model.add(Dense(units=64, activation= 'relu', kernel_initializer='he_uniform',dynamic=True))\n",
        "model.add(Dense(units=32, activation= 'relu', kernel_initializer='he_uniform',dynamic=True))\n",
        "model.add(Dense(units=16, activation= 'relu', kernel_initializer='he_uniform',dynamic=True))\n",
        "model.add(Dense(units=8, activation= 'relu', kernel_initializer='he_uniform',dynamic=True))\n",
        "model.add(Dense(units=4,activation='softmax'))\n",
        "model.summary()'''"
      ],
      "execution_count": null,
      "outputs": []
    },
    {
      "cell_type": "code",
      "metadata": {
        "id": "QPVSJPBZnjrn"
      },
      "source": [
        "ann=tf.keras.models.Sequential()"
      ],
      "execution_count": 393,
      "outputs": []
    },
    {
      "cell_type": "code",
      "metadata": {
        "id": "yOU2QGQDn0Pn"
      },
      "source": [
        "ann.add(tf.keras.layers.Dense(units=128, activation= 'relu', kernel_initializer='he_uniform',dynamic=True,input_dim= 21))"
      ],
      "execution_count": 394,
      "outputs": []
    },
    {
      "cell_type": "code",
      "metadata": {
        "id": "lGUInBth5SlA"
      },
      "source": [
        "ann.add(tf.keras.layers.Dense(units=128, activation= 'relu', kernel_initializer='he_uniform',dynamic=True,input_dim= 21))"
      ],
      "execution_count": 395,
      "outputs": []
    },
    {
      "cell_type": "code",
      "metadata": {
        "id": "79vrZWG4oP8D"
      },
      "source": [
        "ann.add(tf.keras.layers.Dense(units=4, activation= 'softmax', kernel_initializer='he_uniform',dynamic=True))"
      ],
      "execution_count": 396,
      "outputs": []
    },
    {
      "cell_type": "code",
      "metadata": {
        "id": "sHmYf_2Chk9w"
      },
      "source": [
        "ann.compile(loss='categorical_crossentropy', optimizer='adam', metrics=['accuracy'])\n"
      ],
      "execution_count": 397,
      "outputs": []
    },
    {
      "cell_type": "code",
      "metadata": {
        "colab": {
          "base_uri": "https://localhost:8080/",
          "height": 419
        },
        "id": "o0BdIZtsz1qS",
        "outputId": "c7575cc1-733e-4a8a-c4d8-e4dba5a2123a"
      },
      "source": [
        "y_train"
      ],
      "execution_count": 398,
      "outputs": [
        {
          "output_type": "execute_result",
          "data": {
            "text/html": [
              "<div>\n",
              "<style scoped>\n",
              "    .dataframe tbody tr th:only-of-type {\n",
              "        vertical-align: middle;\n",
              "    }\n",
              "\n",
              "    .dataframe tbody tr th {\n",
              "        vertical-align: top;\n",
              "    }\n",
              "\n",
              "    .dataframe thead th {\n",
              "        text-align: right;\n",
              "    }\n",
              "</style>\n",
              "<table border=\"1\" class=\"dataframe\">\n",
              "  <thead>\n",
              "    <tr style=\"text-align: right;\">\n",
              "      <th></th>\n",
              "      <th>UCR_PART</th>\n",
              "    </tr>\n",
              "  </thead>\n",
              "  <tbody>\n",
              "    <tr>\n",
              "      <th>434466</th>\n",
              "      <td>3</td>\n",
              "    </tr>\n",
              "    <tr>\n",
              "      <th>22749</th>\n",
              "      <td>2</td>\n",
              "    </tr>\n",
              "    <tr>\n",
              "      <th>71169</th>\n",
              "      <td>1</td>\n",
              "    </tr>\n",
              "    <tr>\n",
              "      <th>23551</th>\n",
              "      <td>3</td>\n",
              "    </tr>\n",
              "    <tr>\n",
              "      <th>93069</th>\n",
              "      <td>2</td>\n",
              "    </tr>\n",
              "    <tr>\n",
              "      <th>...</th>\n",
              "      <td>...</td>\n",
              "    </tr>\n",
              "    <tr>\n",
              "      <th>175067</th>\n",
              "      <td>2</td>\n",
              "    </tr>\n",
              "    <tr>\n",
              "      <th>132858</th>\n",
              "      <td>2</td>\n",
              "    </tr>\n",
              "    <tr>\n",
              "      <th>41948</th>\n",
              "      <td>3</td>\n",
              "    </tr>\n",
              "    <tr>\n",
              "      <th>61098</th>\n",
              "      <td>2</td>\n",
              "    </tr>\n",
              "    <tr>\n",
              "      <th>329398</th>\n",
              "      <td>3</td>\n",
              "    </tr>\n",
              "  </tbody>\n",
              "</table>\n",
              "<p>284132 rows × 1 columns</p>\n",
              "</div>"
            ],
            "text/plain": [
              "        UCR_PART\n",
              "434466         3\n",
              "22749          2\n",
              "71169          1\n",
              "23551          3\n",
              "93069          2\n",
              "...          ...\n",
              "175067         2\n",
              "132858         2\n",
              "41948          3\n",
              "61098          2\n",
              "329398         3\n",
              "\n",
              "[284132 rows x 1 columns]"
            ]
          },
          "metadata": {
            "tags": []
          },
          "execution_count": 398
        }
      ]
    },
    {
      "cell_type": "code",
      "metadata": {
        "id": "6uAfF6-uqmdP"
      },
      "source": [
        "y_train = tf.keras.utils.to_categorical(y_train, 4)\n",
        "y_test=tf.keras.utils.to_categorical(y_test, 4)"
      ],
      "execution_count": 399,
      "outputs": []
    },
    {
      "cell_type": "code",
      "metadata": {
        "colab": {
          "base_uri": "https://localhost:8080/"
        },
        "id": "U0BX1M4DtYKx",
        "outputId": "f9a55289-695a-4007-e0cc-e691c2443722"
      },
      "source": [
        "y_train"
      ],
      "execution_count": 400,
      "outputs": [
        {
          "output_type": "execute_result",
          "data": {
            "text/plain": [
              "array([[0., 0., 0., 1.],\n",
              "       [0., 0., 1., 0.],\n",
              "       [0., 1., 0., 0.],\n",
              "       ...,\n",
              "       [0., 0., 0., 1.],\n",
              "       [0., 0., 1., 0.],\n",
              "       [0., 0., 0., 1.]], dtype=float32)"
            ]
          },
          "metadata": {
            "tags": []
          },
          "execution_count": 400
        }
      ]
    },
    {
      "cell_type": "code",
      "metadata": {
        "colab": {
          "base_uri": "https://localhost:8080/"
        },
        "id": "2Q7utmPvhod8",
        "outputId": "8fdedf4e-7dca-46b5-92d9-89b8a7bb6ad1"
      },
      "source": [
        "epochs_hist=ann.fit(X_train_scaled, y_train, epochs=5, batch_size=34)\n"
      ],
      "execution_count": 401,
      "outputs": [
        {
          "output_type": "stream",
          "text": [
            "Epoch 1/5\n",
            "8357/8357 [==============================] - 125s 15ms/step - loss: 1.0702 - accuracy: 0.4882\n",
            "Epoch 2/5\n",
            "8357/8357 [==============================] - 127s 15ms/step - loss: 1.0473 - accuracy: 0.5005\n",
            "Epoch 3/5\n",
            "8357/8357 [==============================] - 125s 15ms/step - loss: 1.0446 - accuracy: 0.5003\n",
            "Epoch 4/5\n",
            "8357/8357 [==============================] - 127s 15ms/step - loss: 1.0435 - accuracy: 0.5008\n",
            "Epoch 5/5\n",
            "8357/8357 [==============================] - 126s 15ms/step - loss: 1.0434 - accuracy: 0.4990\n"
          ],
          "name": "stdout"
        }
      ]
    },
    {
      "cell_type": "code",
      "metadata": {
        "id": "EemmKmrlDo1U"
      },
      "source": [
        "y_pred_trainANN=ann.predict(X_train)\n",
        "y_pred_testANN=ann.predict(X_test)"
      ],
      "execution_count": 402,
      "outputs": []
    },
    {
      "cell_type": "code",
      "metadata": {
        "colab": {
          "base_uri": "https://localhost:8080/"
        },
        "id": "2r5W-qml2Z6l",
        "outputId": "86d05749-22f6-4c0d-d317-f838b8c87f9c"
      },
      "source": [
        "y_pred_trainANN"
      ],
      "execution_count": 403,
      "outputs": [
        {
          "output_type": "execute_result",
          "data": {
            "text/plain": [
              "array([[0., 1., 0., 0.],\n",
              "       [0., 0., 1., 0.],\n",
              "       [0., 1., 0., 0.],\n",
              "       ...,\n",
              "       [0., 1., 0., 0.],\n",
              "       [0., 1., 0., 0.],\n",
              "       [0., 0., 1., 0.]], dtype=float32)"
            ]
          },
          "metadata": {
            "tags": []
          },
          "execution_count": 403
        }
      ]
    },
    {
      "cell_type": "code",
      "metadata": {
        "colab": {
          "base_uri": "https://localhost:8080/"
        },
        "id": "2Mx_cfwW2i97",
        "outputId": "5497410f-4b2a-4c77-e2b3-cc6b2a38db18"
      },
      "source": [
        "y_train"
      ],
      "execution_count": 404,
      "outputs": [
        {
          "output_type": "execute_result",
          "data": {
            "text/plain": [
              "array([[0., 0., 0., 1.],\n",
              "       [0., 0., 1., 0.],\n",
              "       [0., 1., 0., 0.],\n",
              "       ...,\n",
              "       [0., 0., 0., 1.],\n",
              "       [0., 0., 1., 0.],\n",
              "       [0., 0., 0., 1.]], dtype=float32)"
            ]
          },
          "metadata": {
            "tags": []
          },
          "execution_count": 404
        }
      ]
    },
    {
      "cell_type": "code",
      "metadata": {
        "colab": {
          "base_uri": "https://localhost:8080/"
        },
        "id": "B-7KbVclw8__",
        "outputId": "a1d8efb7-db48-43de-bff3-5f3890dcbb90"
      },
      "source": [
        "y_pred_trainANN=np.argmax(y_pred_trainANN,axis=1)\n",
        "y_pred_testANN=np.argmax(y_pred_testANN, axis=1)\n",
        "y_train=np.argmax(y_train,axis=1)\n",
        "y_test=np.argmax(y_test,axis=1)\n",
        "\n",
        "\n",
        "cm = confusion_matrix(y_test, y_pred_testANN)\n",
        "print(cm)"
      ],
      "execution_count": 411,
      "outputs": [
        {
          "output_type": "stream",
          "text": [
            "[[    0   454   109     0]\n",
            " [    0 22152  6083     0]\n",
            " [    0 56058 13942     0]\n",
            " [    0 32686  8462     0]]\n"
          ],
          "name": "stdout"
        }
      ]
    },
    {
      "cell_type": "code",
      "metadata": {
        "colab": {
          "base_uri": "https://localhost:8080/"
        },
        "id": "EESiuIEzzl6D",
        "outputId": "aa13c07d-9464-46ba-fe90-8929700a4dc8"
      },
      "source": [
        ""
      ],
      "execution_count": 350,
      "outputs": [
        {
          "output_type": "execute_result",
          "data": {
            "text/plain": [
              "0"
            ]
          },
          "metadata": {
            "tags": []
          },
          "execution_count": 350
        }
      ]
    },
    {
      "cell_type": "code",
      "metadata": {
        "colab": {
          "base_uri": "https://localhost:8080/"
        },
        "id": "O_x4Lyazwiwv",
        "outputId": "3adfde76-6966-477c-828d-39f4507a5606"
      },
      "source": [
        "accuracy_score(y_pred_trainANN,y_train)"
      ],
      "execution_count": 412,
      "outputs": [
        {
          "output_type": "execute_result",
          "data": {
            "text/plain": [
              "0.25858051891374434"
            ]
          },
          "metadata": {
            "tags": []
          },
          "execution_count": 412
        }
      ]
    }
  ]
}