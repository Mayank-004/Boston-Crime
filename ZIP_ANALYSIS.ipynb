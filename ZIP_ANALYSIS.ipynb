{
  "nbformat": 4,
  "nbformat_minor": 0,
  "metadata": {
    "colab": {
      "name": "Untitled18.ipynb",
      "provenance": [],
      "authorship_tag": "ABX9TyM3gAJwd88a2B/WOGx6ESJz",
      "include_colab_link": true
    },
    "kernelspec": {
      "name": "python3",
      "display_name": "Python 3"
    },
    "language_info": {
      "name": "python"
    }
  },
  "cells": [
    {
      "cell_type": "markdown",
      "metadata": {
        "id": "view-in-github",
        "colab_type": "text"
      },
      "source": [
        "<a href=\"https://colab.research.google.com/github/Mayank-004/Boston-Crime/blob/main/ZIP_ANALYSIS.ipynb\" target=\"_parent\"><img src=\"https://colab.research.google.com/assets/colab-badge.svg\" alt=\"Open In Colab\"/></a>"
      ]
    },
    {
      "cell_type": "code",
      "metadata": {
        "colab": {
          "base_uri": "https://localhost:8080/"
        },
        "id": "uWneH90EELV5",
        "outputId": "e17464fc-1f19-413a-fa76-a754e65c99c6"
      },
      "source": [
        "!pip install pyspark\n"
      ],
      "execution_count": 1,
      "outputs": [
        {
          "output_type": "stream",
          "text": [
            "Collecting pyspark\n",
            "\u001b[?25l  Downloading https://files.pythonhosted.org/packages/45/b0/9d6860891ab14a39d4bddf80ba26ce51c2f9dc4805e5c6978ac0472c120a/pyspark-3.1.1.tar.gz (212.3MB)\n",
            "\u001b[K     |████████████████████████████████| 212.3MB 70kB/s \n",
            "\u001b[?25hCollecting py4j==0.10.9\n",
            "\u001b[?25l  Downloading https://files.pythonhosted.org/packages/9e/b6/6a4fb90cd235dc8e265a6a2067f2a2c99f0d91787f06aca4bcf7c23f3f80/py4j-0.10.9-py2.py3-none-any.whl (198kB)\n",
            "\u001b[K     |████████████████████████████████| 204kB 36.5MB/s \n",
            "\u001b[?25hBuilding wheels for collected packages: pyspark\n",
            "  Building wheel for pyspark (setup.py) ... \u001b[?25l\u001b[?25hdone\n",
            "  Created wheel for pyspark: filename=pyspark-3.1.1-py2.py3-none-any.whl size=212767604 sha256=5d8f79f195c948d693e9f46936dc03ac78acc061de5a91d2dc15908f8a9e6fd9\n",
            "  Stored in directory: /root/.cache/pip/wheels/0b/90/c0/01de724414ef122bd05f056541fb6a0ecf47c7ca655f8b3c0f\n",
            "Successfully built pyspark\n",
            "Installing collected packages: py4j, pyspark\n",
            "Successfully installed py4j-0.10.9 pyspark-3.1.1\n"
          ],
          "name": "stdout"
        }
      ]
    },
    {
      "cell_type": "code",
      "metadata": {
        "id": "BIDXEzxeEnKG"
      },
      "source": [
        "import pyspark\n",
        "import pandas as pd\n",
        "import seaborn as sns\n",
        "import matplotlib.pyplot as plt\n",
        "import plotly\n"
      ],
      "execution_count": 4,
      "outputs": []
    },
    {
      "cell_type": "code",
      "metadata": {
        "id": "ulLyays2EgG-"
      },
      "source": [
        "from pyspark import SparkConf, SparkContext\n",
        "from pyspark.sql import SQLContext\n",
        "sc= SparkContext()\n",
        "sqlContext = SQLContext(sc)"
      ],
      "execution_count": 2,
      "outputs": []
    },
    {
      "cell_type": "code",
      "metadata": {
        "colab": {
          "base_uri": "https://localhost:8080/"
        },
        "id": "Ni4HdzZzEY_N",
        "outputId": "012387bf-27d7-4c82-e8aa-0d220f885375"
      },
      "source": [
        "pdf = pd.read_excel(\"HPI_AT_BDL_ZIP5.xlsx\")\n",
        "sparkDF = sqlContext.createDataFrame(pdf)\n",
        "#df = sparkDF.rdd.map(list)\n",
        "#sdf = spark.createDataFrame(pdf)\n",
        "\n",
        "sparkDF.show()"
      ],
      "execution_count": 10,
      "outputs": [
        {
          "output_type": "stream",
          "text": [
            "+-------------------+----+-----------------+------+------------------+------------------+\n",
            "|Five-Digit ZIP Code|Year|Annual Change (%)|   HPI|HPI with 1990 base|HPI with 2000 base|\n",
            "+-------------------+----+-----------------+------+------------------+------------------+\n",
            "|               1001|1985|                .|100.00|             62.15|             61.41|\n",
            "|               1001|1986|            13.67|113.67|             70.65|             69.80|\n",
            "|               1001|1987|            21.20|137.77|             85.63|             84.60|\n",
            "|               1001|1988|            17.38|161.72|            100.52|             99.31|\n",
            "|               1001|1989|             1.14|163.57|            101.67|            100.45|\n",
            "|               1001|1990|            -1.64|160.89|            100.00|             98.80|\n",
            "|               1001|1991|            -5.60|151.88|             94.40|             93.27|\n",
            "|               1001|1992|            -1.32|149.88|             93.16|             92.04|\n",
            "|               1001|1993|            -0.21|149.56|             92.96|             91.84|\n",
            "|               1001|1994|            -2.52|145.79|             90.62|             89.53|\n",
            "|               1001|1995|             2.21|149.01|             92.62|             91.51|\n",
            "|               1001|1996|             0.06|149.11|             92.68|             91.56|\n",
            "|               1001|1997|            -1.54|146.80|             91.24|             90.15|\n",
            "|               1001|1998|             4.29|153.10|             95.16|             94.02|\n",
            "|               1001|1999|             1.98|156.13|             97.04|             95.88|\n",
            "|               1001|2000|             4.30|162.85|            101.22|            100.00|\n",
            "|               1001|2001|             6.82|173.96|            108.12|            106.82|\n",
            "|               1001|2002|             7.70|187.36|            116.45|            115.05|\n",
            "|               1001|2003|             8.59|203.45|            126.46|            124.94|\n",
            "|               1001|2004|            11.84|227.54|            141.43|            139.73|\n",
            "+-------------------+----+-----------------+------+------------------+------------------+\n",
            "only showing top 20 rows\n",
            "\n"
          ],
          "name": "stdout"
        }
      ]
    },
    {
      "cell_type": "code",
      "metadata": {
        "colab": {
          "base_uri": "https://localhost:8080/",
          "height": 164
        },
        "id": "wTeF37qPFR7f",
        "outputId": "5be16f07-3b34-4b49-9695-718547c9e112"
      },
      "source": [
        "df.show()"
      ],
      "execution_count": 8,
      "outputs": [
        {
          "output_type": "error",
          "ename": "AttributeError",
          "evalue": "ignored",
          "traceback": [
            "\u001b[0;31m---------------------------------------------------------------------------\u001b[0m",
            "\u001b[0;31mAttributeError\u001b[0m                            Traceback (most recent call last)",
            "\u001b[0;32m<ipython-input-8-1a6ce2362cd4>\u001b[0m in \u001b[0;36m<module>\u001b[0;34m()\u001b[0m\n\u001b[0;32m----> 1\u001b[0;31m \u001b[0mdf\u001b[0m\u001b[0;34m.\u001b[0m\u001b[0mshow\u001b[0m\u001b[0;34m(\u001b[0m\u001b[0;34m)\u001b[0m\u001b[0;34m\u001b[0m\u001b[0;34m\u001b[0m\u001b[0m\n\u001b[0m",
            "\u001b[0;31mAttributeError\u001b[0m: 'PipelinedRDD' object has no attribute 'show'"
          ]
        }
      ]
    }
  ]
}