{
  "nbformat": 4,
  "nbformat_minor": 0,
  "metadata": {
    "colab": {
      "name": "Untitled15.ipynb",
      "provenance": [],
      "mount_file_id": "https://github.com/Mayank-004/Boston-Crime/blob/main/BostonCRIME_Pyspark_Randomforest.ipynb",
      "authorship_tag": "ABX9TyP9UZcrmOmJIMXtTI1IA0aC",
      "include_colab_link": true
    },
    "kernelspec": {
      "name": "python3",
      "display_name": "Python 3"
    },
    "language_info": {
      "name": "python"
    }
  },
  "cells": [
    {
      "cell_type": "markdown",
      "metadata": {
        "id": "view-in-github",
        "colab_type": "text"
      },
      "source": [
        "<a href=\"https://colab.research.google.com/github/Mayank-004/Boston-Crime/blob/main/BostonCRIME_Pyspark_Randomforest.ipynb\" target=\"_parent\"><img src=\"https://colab.research.google.com/assets/colab-badge.svg\" alt=\"Open In Colab\"/></a>"
      ]
    },
    {
      "cell_type": "code",
      "metadata": {
        "colab": {
          "base_uri": "https://localhost:8080/"
        },
        "id": "25Rvqhn6Kaqo",
        "outputId": "82d80827-ab02-427f-c995-396f8c5553da"
      },
      "source": [
        "!pip install pyspark\n",
        "\n"
      ],
      "execution_count": 14,
      "outputs": [
        {
          "output_type": "stream",
          "text": [
            "Requirement already satisfied: pyspark in /usr/local/lib/python3.7/dist-packages (3.1.1)\n",
            "Requirement already satisfied: py4j==0.10.9 in /usr/local/lib/python3.7/dist-packages (from pyspark) (0.10.9)\n"
          ],
          "name": "stdout"
        }
      ]
    },
    {
      "cell_type": "code",
      "metadata": {
        "id": "6LTbMHDatAMH"
      },
      "source": [
        "import pyspark\n",
        "import pandas as pd\n",
        "import seaborn as sns\n",
        "import matplotlib.pyplot as plt\n",
        "import plotly\n",
        "\n"
      ],
      "execution_count": 15,
      "outputs": []
    },
    {
      "cell_type": "code",
      "metadata": {
        "id": "vaUlgRowAeoh"
      },
      "source": [
        "\n",
        "from pyspark import SparkConf, SparkContext\n",
        "from pyspark.sql import SQLContext\n",
        "sc= SparkContext()\n",
        "sqlContext = SQLContext(sc)"
      ],
      "execution_count": null,
      "outputs": []
    },
    {
      "cell_type": "code",
      "metadata": {
        "id": "S7gbjp1UwGBm"
      },
      "source": [
        "df1 = sqlContext.read.csv(\"/content/drive/MyDrive/Boston Crime Data/crime-incident-reports-2015.csv\",header=True)\n",
        "df2 = sqlContext.read.csv(\"/content/drive/MyDrive/Boston Crime Data/crime-incident-reports-2016.csv\",header=True)\n",
        "df3 = sqlContext.read.csv(\"/content/drive/MyDrive/Boston Crime Data/crime-incident-reports-2017.csv\",header=True)\n",
        "df4 = sqlContext.read.csv(\"/content/drive/MyDrive/Boston Crime Data/crime-incident-reports-2018.csv\",header=True)\n",
        "df5 = sqlContext.read.csv(\"/content/drive/MyDrive/Boston Crime Data/crime-incident-reports-2019.csv\",header=True)\n",
        "df6 = sqlContext.read.csv(\"/content/drive/MyDrive/Boston Crime Data/crime-incident-reports-2020.csv\",header=True)\n",
        "df7 = sqlContext.read.csv(\"/content/drive/MyDrive/Boston Crime Data/crime-incident-reports-2021.csv\",header=True)\n",
        "union_data = df1.unionAll(df2).unionAll(df3).unionAll(df4)\n",
        "union_data_new=df5.unionAll(df6).unionAll(df7)\n",
        "\n"
      ],
      "execution_count": 160,
      "outputs": []
    },
    {
      "cell_type": "code",
      "metadata": {
        "id": "BP_YoMiwssOL"
      },
      "source": [
        "union_df_new=union_data_new.toPandas()\n",
        "union_df= union_data.toPandas()"
      ],
      "execution_count": 161,
      "outputs": []
    },
    {
      "cell_type": "code",
      "metadata": {
        "id": "Z-AtDQpysRe9"
      },
      "source": [
        "part_one = union_df[union_df['UCR_PART']=='Part One']\n",
        "cr1=part_one['OFFENSE_DESCRIPTION'].unique().tolist()\n",
        "part_Two = union_df[union_df['UCR_PART']=='Part Two']\n",
        "cr2=part_Two['OFFENSE_DESCRIPTION'].unique().tolist()\n",
        "part_Three = union_df[union_df['UCR_PART']=='Part Three']\n",
        "cr3=part_Three['OFFENSE_DESCRIPTION'].unique().tolist()\n",
        "other=union_df[union_df['UCR_PART']=='Other']\n",
        "cr4=other['OFFENSE_DESCRIPTION'].unique().tolist()\n"
      ],
      "execution_count": 162,
      "outputs": []
    },
    {
      "cell_type": "code",
      "metadata": {
        "id": "Mt-sCScHrYZE"
      },
      "source": [
        "for i in range(len(union_df_new)):\n",
        "    for j in cr1:\n",
        "        if union_df_new.loc[i,'OFFENSE_DESCRIPTION']==j:\n",
        "            union_df_new.loc[i,'UCR_PART']='Part One'\n",
        "            #print(union_df_new.loc[i,'UCR_PART'])\n",
        "\n",
        "\n",
        "for i in range(len(union_df_new)):\n",
        "    for j in cr2:\n",
        "        if union_df_new.loc[i,'OFFENSE_DESCRIPTION']==j:\n",
        "            union_df_new.loc[i,'UCR_PART']='Part Two'\n",
        "\n",
        "for i in range(len(union_df_new)):\n",
        "    for j in cr3:\n",
        "        if union_df_new.loc[i,'OFFENSE_DESCRIPTION']==j:\n",
        "            union_df_new.loc[i,'UCR_PART']='Part Three'\n",
        "\n",
        "for i in range(len(union_df_new)):\n",
        "    for j in cr4:\n",
        "        if union_df_new.loc[i,'OFFENSE_DESCRIPTION']==j:\n",
        "            union_df_new.loc[i,'UCR_PART']='Other'\n",
        "\n"
      ],
      "execution_count": 163,
      "outputs": []
    },
    {
      "cell_type": "code",
      "metadata": {
        "colab": {
          "base_uri": "https://localhost:8080/"
        },
        "id": "_B849qHAAgAY",
        "outputId": "54fdf831-c8b6-47a8-fd9b-ac07e04f3d4e"
      },
      "source": [
        "union_df_new['UCR_PART'].unique()"
      ],
      "execution_count": 164,
      "outputs": [
        {
          "output_type": "execute_result",
          "data": {
            "text/plain": [
              "array([None, 'Part Two', 'Other', 'Part Three', 'Part One'], dtype=object)"
            ]
          },
          "metadata": {
            "tags": []
          },
          "execution_count": 164
        }
      ]
    },
    {
      "cell_type": "code",
      "metadata": {
        "id": "Pvogd4_250lt"
      },
      "source": [
        "\n",
        "# combine all data\n",
        "union_df=pd.concat([union_df,union_df_new])\n",
        "\n",
        "# convert pandas dataframe to spark dataframe\n",
        "union_data = sqlContext.createDataFrame(union_df)\n"
      ],
      "execution_count": 165,
      "outputs": []
    },
    {
      "cell_type": "code",
      "metadata": {
        "colab": {
          "base_uri": "https://localhost:8080/",
          "height": 641
        },
        "id": "5BwJuHD2Kd_h",
        "outputId": "7c26f01a-6c66-4fb8-b9d1-7e4a11ceddf8"
      },
      "source": [
        "union_data.describe().toPandas().transpose()\n"
      ],
      "execution_count": 6,
      "outputs": [
        {
          "output_type": "execute_result",
          "data": {
            "text/html": [
              "<div>\n",
              "<style scoped>\n",
              "    .dataframe tbody tr th:only-of-type {\n",
              "        vertical-align: middle;\n",
              "    }\n",
              "\n",
              "    .dataframe tbody tr th {\n",
              "        vertical-align: top;\n",
              "    }\n",
              "\n",
              "    .dataframe thead th {\n",
              "        text-align: right;\n",
              "    }\n",
              "</style>\n",
              "<table border=\"1\" class=\"dataframe\">\n",
              "  <thead>\n",
              "    <tr style=\"text-align: right;\">\n",
              "      <th></th>\n",
              "      <th>0</th>\n",
              "      <th>1</th>\n",
              "      <th>2</th>\n",
              "      <th>3</th>\n",
              "      <th>4</th>\n",
              "    </tr>\n",
              "  </thead>\n",
              "  <tbody>\n",
              "    <tr>\n",
              "      <th>summary</th>\n",
              "      <td>count</td>\n",
              "      <td>mean</td>\n",
              "      <td>stddev</td>\n",
              "      <td>min</td>\n",
              "      <td>max</td>\n",
              "    </tr>\n",
              "    <tr>\n",
              "      <th>INCIDENT_NUMBER</th>\n",
              "      <td>490520</td>\n",
              "      <td>2.0222410692305353E8</td>\n",
              "      <td>7222569.267368518</td>\n",
              "      <td>\",0,0,\"(0</td>\n",
              "      <td>WEST ROXBURY  MAS\"</td>\n",
              "    </tr>\n",
              "    <tr>\n",
              "      <th>OFFENSE_CODE</th>\n",
              "      <td>478358</td>\n",
              "      <td>2260.05739182021</td>\n",
              "      <td>1237.0409206331267</td>\n",
              "      <td>-71.0068549434423)\"</td>\n",
              "      <td>99999</td>\n",
              "    </tr>\n",
              "    <tr>\n",
              "      <th>OFFENSE_CODE_GROUP</th>\n",
              "      <td>366047</td>\n",
              "      <td>-69.34739554235557</td>\n",
              "      <td>10.964368988103738</td>\n",
              "      <td>-70.9971530586772</td>\n",
              "      <td>Warrant Arrests</td>\n",
              "    </tr>\n",
              "    <tr>\n",
              "      <th>OFFENSE_DESCRIPTION</th>\n",
              "      <td>477868</td>\n",
              "      <td>None</td>\n",
              "      <td>None</td>\n",
              "      <td>(0, 0)</td>\n",
              "      <td>WEAPON VIOLATION - CARRY/ POSSESSING/ SALE/ TR...</td>\n",
              "    </tr>\n",
              "    <tr>\n",
              "      <th>DISTRICT</th>\n",
              "      <td>462839</td>\n",
              "      <td>None</td>\n",
              "      <td>None</td>\n",
              "      <td>A1</td>\n",
              "      <td>External</td>\n",
              "    </tr>\n",
              "    <tr>\n",
              "      <th>REPORTING_AREA</th>\n",
              "      <td>465074</td>\n",
              "      <td>383.35099522821434</td>\n",
              "      <td>241.36148214804334</td>\n",
              "      <td></td>\n",
              "      <td>99</td>\n",
              "    </tr>\n",
              "    <tr>\n",
              "      <th>SHOOTING</th>\n",
              "      <td>113276</td>\n",
              "      <td>0.014299639602579121</td>\n",
              "      <td>0.11872356953040747</td>\n",
              "      <td>0</td>\n",
              "      <td>Y</td>\n",
              "    </tr>\n",
              "    <tr>\n",
              "      <th>OCCURRED_ON_DATE</th>\n",
              "      <td>465074</td>\n",
              "      <td>None</td>\n",
              "      <td>None</td>\n",
              "      <td>2015-06-15 00:00:00</td>\n",
              "      <td>2021-05-03 12:36:00</td>\n",
              "    </tr>\n",
              "    <tr>\n",
              "      <th>YEAR</th>\n",
              "      <td>465074</td>\n",
              "      <td>2017.4925882762743</td>\n",
              "      <td>1.7071262460933814</td>\n",
              "      <td>2015</td>\n",
              "      <td>2021</td>\n",
              "    </tr>\n",
              "    <tr>\n",
              "      <th>MONTH</th>\n",
              "      <td>465074</td>\n",
              "      <td>6.871510770329023</td>\n",
              "      <td>3.4430985855198646</td>\n",
              "      <td>1</td>\n",
              "      <td>9</td>\n",
              "    </tr>\n",
              "    <tr>\n",
              "      <th>DAY_OF_WEEK</th>\n",
              "      <td>465074</td>\n",
              "      <td>None</td>\n",
              "      <td>None</td>\n",
              "      <td>Friday</td>\n",
              "      <td>Wednesday</td>\n",
              "    </tr>\n",
              "    <tr>\n",
              "      <th>HOUR</th>\n",
              "      <td>465074</td>\n",
              "      <td>13.035215901125412</td>\n",
              "      <td>6.3238000572556885</td>\n",
              "      <td>0</td>\n",
              "      <td>9</td>\n",
              "    </tr>\n",
              "    <tr>\n",
              "      <th>UCR_PART</th>\n",
              "      <td>353156</td>\n",
              "      <td>None</td>\n",
              "      <td>None</td>\n",
              "      <td>Other</td>\n",
              "      <td>Part Two</td>\n",
              "    </tr>\n",
              "    <tr>\n",
              "      <th>STREET</th>\n",
              "      <td>453869</td>\n",
              "      <td>70.6</td>\n",
              "      <td>27.08874304946614</td>\n",
              "      <td>ALBANY ST</td>\n",
              "      <td>ZIEGLER ST &amp; WARREN ST</td>\n",
              "    </tr>\n",
              "    <tr>\n",
              "      <th>Lat</th>\n",
              "      <td>429260</td>\n",
              "      <td>41.99197181319272</td>\n",
              "      <td>3.7350067994508995</td>\n",
              "      <td>-1</td>\n",
              "      <td>42.3950415802391</td>\n",
              "    </tr>\n",
              "    <tr>\n",
              "      <th>Long</th>\n",
              "      <td>429260</td>\n",
              "      <td>-70.53392859508627</td>\n",
              "      <td>6.213618322487179</td>\n",
              "      <td>-1</td>\n",
              "      <td>0</td>\n",
              "    </tr>\n",
              "    <tr>\n",
              "      <th>Location</th>\n",
              "      <td>451790</td>\n",
              "      <td>None</td>\n",
              "      <td>None</td>\n",
              "      <td>(-1.00000000, -1.00000000)</td>\n",
              "      <td>(42.3950415802391, -71.0101773168781)</td>\n",
              "    </tr>\n",
              "  </tbody>\n",
              "</table>\n",
              "</div>"
            ],
            "text/plain": [
              "                          0  ...                                                  4\n",
              "summary               count  ...                                                max\n",
              "INCIDENT_NUMBER      490520  ...                                 WEST ROXBURY  MAS\"\n",
              "OFFENSE_CODE         478358  ...                                              99999\n",
              "OFFENSE_CODE_GROUP   366047  ...                                    Warrant Arrests\n",
              "OFFENSE_DESCRIPTION  477868  ...  WEAPON VIOLATION - CARRY/ POSSESSING/ SALE/ TR...\n",
              "DISTRICT             462839  ...                                           External\n",
              "REPORTING_AREA       465074  ...                                                 99\n",
              "SHOOTING             113276  ...                                                  Y\n",
              "OCCURRED_ON_DATE     465074  ...                                2021-05-03 12:36:00\n",
              "YEAR                 465074  ...                                               2021\n",
              "MONTH                465074  ...                                                  9\n",
              "DAY_OF_WEEK          465074  ...                                          Wednesday\n",
              "HOUR                 465074  ...                                                  9\n",
              "UCR_PART             353156  ...                                           Part Two\n",
              "STREET               453869  ...                             ZIEGLER ST & WARREN ST\n",
              "Lat                  429260  ...                                   42.3950415802391\n",
              "Long                 429260  ...                                                  0\n",
              "Location             451790  ...              (42.3950415802391, -71.0101773168781)\n",
              "\n",
              "[18 rows x 5 columns]"
            ]
          },
          "metadata": {
            "tags": []
          },
          "execution_count": 6
        }
      ]
    },
    {
      "cell_type": "markdown",
      "metadata": {
        "id": "MQG9p3ZebtnM"
      },
      "source": [
        "### Data Visualization"
      ]
    },
    {
      "cell_type": "code",
      "metadata": {
        "colab": {
          "base_uri": "https://localhost:8080/",
          "height": 49
        },
        "id": "zIJIKI3qlpMJ",
        "outputId": "c97159eb-cae1-48c3-ed30-7b8b64f263ae"
      },
      "source": [
        "#Count Missing Data\n",
        "missing = union_df.isna().sum().sort_values(ascending = False)\n",
        "percent_missing = ((missing / union_df.isnull().count()) * 100).sort_values(ascending = False)\n",
        "missing_df = pd.concat([missing,percent_missing], axis = 1, keys = ['Total', 'Percent'],sort = False)\n",
        "missing_df[missing_df['Total'] >= 1]"
      ],
      "execution_count": 190,
      "outputs": [
        {
          "output_type": "execute_result",
          "data": {
            "text/html": [
              "<div>\n",
              "<style scoped>\n",
              "    .dataframe tbody tr th:only-of-type {\n",
              "        vertical-align: middle;\n",
              "    }\n",
              "\n",
              "    .dataframe tbody tr th {\n",
              "        vertical-align: top;\n",
              "    }\n",
              "\n",
              "    .dataframe thead th {\n",
              "        text-align: right;\n",
              "    }\n",
              "</style>\n",
              "<table border=\"1\" class=\"dataframe\">\n",
              "  <thead>\n",
              "    <tr style=\"text-align: right;\">\n",
              "      <th></th>\n",
              "      <th>Total</th>\n",
              "      <th>Percent</th>\n",
              "    </tr>\n",
              "  </thead>\n",
              "  <tbody>\n",
              "  </tbody>\n",
              "</table>\n",
              "</div>"
            ],
            "text/plain": [
              "Empty DataFrame\n",
              "Columns: [Total, Percent]\n",
              "Index: []"
            ]
          },
          "metadata": {
            "tags": []
          },
          "execution_count": 190
        }
      ]
    },
    {
      "cell_type": "code",
      "metadata": {
        "id": "myXVtwLfl_6o"
      },
      "source": [
        "# Remove column having more than 30% missing Values\n",
        "missing_df = missing_df.reset_index()\n",
        "over30 = list(missing_df.loc[missing_df['Percent'] >= 30,'index'])\n",
        "union_df = union_df.drop(over30, axis = 1)"
      ],
      "execution_count": 191,
      "outputs": []
    },
    {
      "cell_type": "code",
      "metadata": {
        "colab": {
          "base_uri": "https://localhost:8080/",
          "height": 643
        },
        "id": "VZPDsDxwnBca",
        "outputId": "fa79cac5-24bf-42e7-f560-af4dcaa936c3"
      },
      "source": [
        "union_df"
      ],
      "execution_count": 172,
      "outputs": [
        {
          "output_type": "execute_result",
          "data": {
            "text/html": [
              "<div>\n",
              "<style scoped>\n",
              "    .dataframe tbody tr th:only-of-type {\n",
              "        vertical-align: middle;\n",
              "    }\n",
              "\n",
              "    .dataframe tbody tr th {\n",
              "        vertical-align: top;\n",
              "    }\n",
              "\n",
              "    .dataframe thead th {\n",
              "        text-align: right;\n",
              "    }\n",
              "</style>\n",
              "<table border=\"1\" class=\"dataframe\">\n",
              "  <thead>\n",
              "    <tr style=\"text-align: right;\">\n",
              "      <th></th>\n",
              "      <th>INCIDENT_NUMBER</th>\n",
              "      <th>OFFENSE_CODE</th>\n",
              "      <th>OFFENSE_DESCRIPTION</th>\n",
              "      <th>DISTRICT</th>\n",
              "      <th>REPORTING_AREA</th>\n",
              "      <th>OCCURRED_ON_DATE</th>\n",
              "      <th>YEAR</th>\n",
              "      <th>MONTH</th>\n",
              "      <th>DAY_OF_WEEK</th>\n",
              "      <th>HOUR</th>\n",
              "      <th>UCR_PART</th>\n",
              "      <th>STREET</th>\n",
              "      <th>Lat</th>\n",
              "      <th>Long</th>\n",
              "      <th>Location</th>\n",
              "    </tr>\n",
              "  </thead>\n",
              "  <tbody>\n",
              "    <tr>\n",
              "      <th>0</th>\n",
              "      <td>I192068249</td>\n",
              "      <td>02647</td>\n",
              "      <td>THREATS TO DO BODILY HARM</td>\n",
              "      <td>B2</td>\n",
              "      <td>280</td>\n",
              "      <td>2015-08-28 10:20:00</td>\n",
              "      <td>2015</td>\n",
              "      <td>8</td>\n",
              "      <td>Friday</td>\n",
              "      <td>10</td>\n",
              "      <td>Part Two</td>\n",
              "      <td>WASHINGTON ST</td>\n",
              "      <td>42.33011862</td>\n",
              "      <td>-71.08425106</td>\n",
              "      <td>(42.33011862, -71.08425106)</td>\n",
              "    </tr>\n",
              "    <tr>\n",
              "      <th>1</th>\n",
              "      <td>I192061894</td>\n",
              "      <td>01106</td>\n",
              "      <td>FRAUD - CREDIT CARD / ATM FRAUD</td>\n",
              "      <td>C11</td>\n",
              "      <td>356</td>\n",
              "      <td>2015-08-20 00:00:00</td>\n",
              "      <td>2015</td>\n",
              "      <td>8</td>\n",
              "      <td>Thursday</td>\n",
              "      <td>0</td>\n",
              "      <td>Part Two</td>\n",
              "      <td>CHARLES ST</td>\n",
              "      <td>42.30060543</td>\n",
              "      <td>-71.06126785</td>\n",
              "      <td>(42.30060543, -71.06126785)</td>\n",
              "    </tr>\n",
              "    <tr>\n",
              "      <th>2</th>\n",
              "      <td>I192038828</td>\n",
              "      <td>01107</td>\n",
              "      <td>FRAUD - IMPERSONATION</td>\n",
              "      <td>A1</td>\n",
              "      <td>172</td>\n",
              "      <td>2015-11-02 12:24:00</td>\n",
              "      <td>2015</td>\n",
              "      <td>11</td>\n",
              "      <td>Monday</td>\n",
              "      <td>12</td>\n",
              "      <td>Part Two</td>\n",
              "      <td>ALBANY ST</td>\n",
              "      <td>42.33428841</td>\n",
              "      <td>-71.07239518</td>\n",
              "      <td>(42.33428841, -71.07239518)</td>\n",
              "    </tr>\n",
              "    <tr>\n",
              "      <th>3</th>\n",
              "      <td>I192008877</td>\n",
              "      <td>01107</td>\n",
              "      <td>FRAUD - IMPERSONATION</td>\n",
              "      <td>E18</td>\n",
              "      <td>525</td>\n",
              "      <td>2015-07-31 10:00:00</td>\n",
              "      <td>2015</td>\n",
              "      <td>7</td>\n",
              "      <td>Friday</td>\n",
              "      <td>10</td>\n",
              "      <td>Part Two</td>\n",
              "      <td>WINGATE RD</td>\n",
              "      <td>42.2370095</td>\n",
              "      <td>-71.12956606</td>\n",
              "      <td>(42.23700950, -71.12956606)</td>\n",
              "    </tr>\n",
              "    <tr>\n",
              "      <th>4</th>\n",
              "      <td>I182090828</td>\n",
              "      <td>01102</td>\n",
              "      <td>FRAUD - FALSE PRETENSE / SCHEME</td>\n",
              "      <td>D4</td>\n",
              "      <td>159</td>\n",
              "      <td>2015-12-01 12:00:00</td>\n",
              "      <td>2015</td>\n",
              "      <td>12</td>\n",
              "      <td>Tuesday</td>\n",
              "      <td>12</td>\n",
              "      <td>Part Two</td>\n",
              "      <td>UPTON ST</td>\n",
              "      <td>42.34243222</td>\n",
              "      <td>-71.07225766</td>\n",
              "      <td>(42.34243222, -71.07225766)</td>\n",
              "    </tr>\n",
              "    <tr>\n",
              "      <th>...</th>\n",
              "      <td>...</td>\n",
              "      <td>...</td>\n",
              "      <td>...</td>\n",
              "      <td>...</td>\n",
              "      <td>...</td>\n",
              "      <td>...</td>\n",
              "      <td>...</td>\n",
              "      <td>...</td>\n",
              "      <td>...</td>\n",
              "      <td>...</td>\n",
              "      <td>...</td>\n",
              "      <td>...</td>\n",
              "      <td>...</td>\n",
              "      <td>...</td>\n",
              "      <td>...</td>\n",
              "    </tr>\n",
              "    <tr>\n",
              "      <th>137262</th>\n",
              "      <td>121008581</td>\n",
              "      <td>2007</td>\n",
              "      <td>VIOLATION - RESTRAINING ORDER (NO ARREST)</td>\n",
              "      <td>C11</td>\n",
              "      <td>355</td>\n",
              "      <td>2021-02-08 22:00:00</td>\n",
              "      <td>2021</td>\n",
              "      <td>2</td>\n",
              "      <td>Monday</td>\n",
              "      <td>22</td>\n",
              "      <td>None</td>\n",
              "      <td>ROSSETER ST</td>\n",
              "      <td>42.2975553295965</td>\n",
              "      <td>-71.0597091024257</td>\n",
              "      <td>(42.2975553295965, -71.0597091024257)</td>\n",
              "    </tr>\n",
              "    <tr>\n",
              "      <th>137263</th>\n",
              "      <td>121005808</td>\n",
              "      <td>1102</td>\n",
              "      <td>FRAUD - FALSE PRETENSE / SCHEME</td>\n",
              "      <td>B3</td>\n",
              "      <td>289</td>\n",
              "      <td>2021-01-19 12:00:00</td>\n",
              "      <td>2021</td>\n",
              "      <td>1</td>\n",
              "      <td>Tuesday</td>\n",
              "      <td>12</td>\n",
              "      <td>Part Two</td>\n",
              "      <td>CLARKWOOD ST</td>\n",
              "      <td>42.3336792181085</td>\n",
              "      <td>-71.0918775461846</td>\n",
              "      <td>(42.3336792181085, -71.0918775461846)</td>\n",
              "    </tr>\n",
              "    <tr>\n",
              "      <th>137264</th>\n",
              "      <td>121000816</td>\n",
              "      <td>3304</td>\n",
              "      <td>NOISY PARTY/RADIO-NO ARREST</td>\n",
              "      <td>E5</td>\n",
              "      <td>675</td>\n",
              "      <td>2021-01-04 00:00:00</td>\n",
              "      <td>2021</td>\n",
              "      <td>1</td>\n",
              "      <td>Monday</td>\n",
              "      <td>0</td>\n",
              "      <td>Part Three</td>\n",
              "      <td>BRADFIELD AVENUE</td>\n",
              "      <td>0</td>\n",
              "      <td>0</td>\n",
              "      <td>(0, 0)</td>\n",
              "    </tr>\n",
              "    <tr>\n",
              "      <th>137265</th>\n",
              "      <td>120221042</td>\n",
              "      <td>3006</td>\n",
              "      <td>SICK/INJURED/MEDICAL - PERSON</td>\n",
              "      <td>E5</td>\n",
              "      <td>680</td>\n",
              "      <td>2021-04-02 10:45:00</td>\n",
              "      <td>2021</td>\n",
              "      <td>4</td>\n",
              "      <td>Friday</td>\n",
              "      <td>10</td>\n",
              "      <td>Part Three</td>\n",
              "      <td>WASHINGTON ST</td>\n",
              "      <td>42.2839024364831</td>\n",
              "      <td>-71.130862626435</td>\n",
              "      <td>(42.2839024364831, -71.130862626435)</td>\n",
              "    </tr>\n",
              "    <tr>\n",
              "      <th>137266</th>\n",
              "      <td>10637224</td>\n",
              "      <td>3125</td>\n",
              "      <td>WARRANT ARREST - BOSTON WARRANT (MUST BE SUPPL...</td>\n",
              "      <td>D4</td>\n",
              "      <td>270</td>\n",
              "      <td>2021-01-26 18:54:00</td>\n",
              "      <td>2021</td>\n",
              "      <td>1</td>\n",
              "      <td>Tuesday</td>\n",
              "      <td>18</td>\n",
              "      <td>None</td>\n",
              "      <td>NORTHAMPTON ST</td>\n",
              "      <td>42.3339512483938</td>\n",
              "      <td>-71.0753893882269</td>\n",
              "      <td>(42.3339512483938, -71.0753893882269)</td>\n",
              "    </tr>\n",
              "  </tbody>\n",
              "</table>\n",
              "<p>490520 rows × 15 columns</p>\n",
              "</div>"
            ],
            "text/plain": [
              "       INCIDENT_NUMBER  ...                               Location\n",
              "0           I192068249  ...            (42.33011862, -71.08425106)\n",
              "1           I192061894  ...            (42.30060543, -71.06126785)\n",
              "2           I192038828  ...            (42.33428841, -71.07239518)\n",
              "3           I192008877  ...            (42.23700950, -71.12956606)\n",
              "4           I182090828  ...            (42.34243222, -71.07225766)\n",
              "...                ...  ...                                    ...\n",
              "137262       121008581  ...  (42.2975553295965, -71.0597091024257)\n",
              "137263       121005808  ...  (42.3336792181085, -71.0918775461846)\n",
              "137264       121000816  ...                                 (0, 0)\n",
              "137265       120221042  ...   (42.2839024364831, -71.130862626435)\n",
              "137266        10637224  ...  (42.3339512483938, -71.0753893882269)\n",
              "\n",
              "[490520 rows x 15 columns]"
            ]
          },
          "metadata": {
            "tags": []
          },
          "execution_count": 172
        }
      ]
    },
    {
      "cell_type": "code",
      "metadata": {
        "colab": {
          "base_uri": "https://localhost:8080/"
        },
        "id": "tEU2SahPiyKZ",
        "outputId": "f611fa8e-9444-4d04-8f4d-ee7fc6641968"
      },
      "source": [
        "union_df['UCR_PART'].unique()"
      ],
      "execution_count": 55,
      "outputs": [
        {
          "output_type": "execute_result",
          "data": {
            "text/plain": [
              "array(['Part Two', 'Part Three', 'Part One', 'Other', None], dtype=object)"
            ]
          },
          "metadata": {
            "tags": []
          },
          "execution_count": 55
        }
      ]
    },
    {
      "cell_type": "code",
      "metadata": {
        "id": "YPTt1ce_osgY"
      },
      "source": [
        "#remove rows with missing values\n",
        "union_df=union_df.dropna()"
      ],
      "execution_count": 173,
      "outputs": []
    },
    {
      "cell_type": "code",
      "metadata": {
        "colab": {
          "base_uri": "https://localhost:8080/"
        },
        "id": "dTjht-9sp6KI",
        "outputId": "6bca427f-34d7-4101-857b-efdeb1197c83"
      },
      "source": [
        "union_df['UCR_PART'].unique()"
      ],
      "execution_count": 174,
      "outputs": [
        {
          "output_type": "execute_result",
          "data": {
            "text/plain": [
              "array(['Part Two', 'Part Three', 'Part One', 'Other'], dtype=object)"
            ]
          },
          "metadata": {
            "tags": []
          },
          "execution_count": 174
        }
      ]
    },
    {
      "cell_type": "code",
      "metadata": {
        "colab": {
          "base_uri": "https://localhost:8080/",
          "height": 609
        },
        "id": "UswNubB6-1Sw",
        "outputId": "bcfeefc7-bc56-4bae-ad3e-02bcda707399"
      },
      "source": [
        "union_df"
      ],
      "execution_count": 175,
      "outputs": [
        {
          "output_type": "execute_result",
          "data": {
            "text/html": [
              "<div>\n",
              "<style scoped>\n",
              "    .dataframe tbody tr th:only-of-type {\n",
              "        vertical-align: middle;\n",
              "    }\n",
              "\n",
              "    .dataframe tbody tr th {\n",
              "        vertical-align: top;\n",
              "    }\n",
              "\n",
              "    .dataframe thead th {\n",
              "        text-align: right;\n",
              "    }\n",
              "</style>\n",
              "<table border=\"1\" class=\"dataframe\">\n",
              "  <thead>\n",
              "    <tr style=\"text-align: right;\">\n",
              "      <th></th>\n",
              "      <th>INCIDENT_NUMBER</th>\n",
              "      <th>OFFENSE_CODE</th>\n",
              "      <th>OFFENSE_DESCRIPTION</th>\n",
              "      <th>DISTRICT</th>\n",
              "      <th>REPORTING_AREA</th>\n",
              "      <th>OCCURRED_ON_DATE</th>\n",
              "      <th>YEAR</th>\n",
              "      <th>MONTH</th>\n",
              "      <th>DAY_OF_WEEK</th>\n",
              "      <th>HOUR</th>\n",
              "      <th>UCR_PART</th>\n",
              "      <th>STREET</th>\n",
              "      <th>Lat</th>\n",
              "      <th>Long</th>\n",
              "      <th>Location</th>\n",
              "    </tr>\n",
              "  </thead>\n",
              "  <tbody>\n",
              "    <tr>\n",
              "      <th>0</th>\n",
              "      <td>I192068249</td>\n",
              "      <td>02647</td>\n",
              "      <td>THREATS TO DO BODILY HARM</td>\n",
              "      <td>B2</td>\n",
              "      <td>280</td>\n",
              "      <td>2015-08-28 10:20:00</td>\n",
              "      <td>2015</td>\n",
              "      <td>8</td>\n",
              "      <td>Friday</td>\n",
              "      <td>10</td>\n",
              "      <td>Part Two</td>\n",
              "      <td>WASHINGTON ST</td>\n",
              "      <td>42.33011862</td>\n",
              "      <td>-71.08425106</td>\n",
              "      <td>(42.33011862, -71.08425106)</td>\n",
              "    </tr>\n",
              "    <tr>\n",
              "      <th>1</th>\n",
              "      <td>I192061894</td>\n",
              "      <td>01106</td>\n",
              "      <td>FRAUD - CREDIT CARD / ATM FRAUD</td>\n",
              "      <td>C11</td>\n",
              "      <td>356</td>\n",
              "      <td>2015-08-20 00:00:00</td>\n",
              "      <td>2015</td>\n",
              "      <td>8</td>\n",
              "      <td>Thursday</td>\n",
              "      <td>0</td>\n",
              "      <td>Part Two</td>\n",
              "      <td>CHARLES ST</td>\n",
              "      <td>42.30060543</td>\n",
              "      <td>-71.06126785</td>\n",
              "      <td>(42.30060543, -71.06126785)</td>\n",
              "    </tr>\n",
              "    <tr>\n",
              "      <th>2</th>\n",
              "      <td>I192038828</td>\n",
              "      <td>01107</td>\n",
              "      <td>FRAUD - IMPERSONATION</td>\n",
              "      <td>A1</td>\n",
              "      <td>172</td>\n",
              "      <td>2015-11-02 12:24:00</td>\n",
              "      <td>2015</td>\n",
              "      <td>11</td>\n",
              "      <td>Monday</td>\n",
              "      <td>12</td>\n",
              "      <td>Part Two</td>\n",
              "      <td>ALBANY ST</td>\n",
              "      <td>42.33428841</td>\n",
              "      <td>-71.07239518</td>\n",
              "      <td>(42.33428841, -71.07239518)</td>\n",
              "    </tr>\n",
              "    <tr>\n",
              "      <th>3</th>\n",
              "      <td>I192008877</td>\n",
              "      <td>01107</td>\n",
              "      <td>FRAUD - IMPERSONATION</td>\n",
              "      <td>E18</td>\n",
              "      <td>525</td>\n",
              "      <td>2015-07-31 10:00:00</td>\n",
              "      <td>2015</td>\n",
              "      <td>7</td>\n",
              "      <td>Friday</td>\n",
              "      <td>10</td>\n",
              "      <td>Part Two</td>\n",
              "      <td>WINGATE RD</td>\n",
              "      <td>42.2370095</td>\n",
              "      <td>-71.12956606</td>\n",
              "      <td>(42.23700950, -71.12956606)</td>\n",
              "    </tr>\n",
              "    <tr>\n",
              "      <th>4</th>\n",
              "      <td>I182090828</td>\n",
              "      <td>01102</td>\n",
              "      <td>FRAUD - FALSE PRETENSE / SCHEME</td>\n",
              "      <td>D4</td>\n",
              "      <td>159</td>\n",
              "      <td>2015-12-01 12:00:00</td>\n",
              "      <td>2015</td>\n",
              "      <td>12</td>\n",
              "      <td>Tuesday</td>\n",
              "      <td>12</td>\n",
              "      <td>Part Two</td>\n",
              "      <td>UPTON ST</td>\n",
              "      <td>42.34243222</td>\n",
              "      <td>-71.07225766</td>\n",
              "      <td>(42.34243222, -71.07225766)</td>\n",
              "    </tr>\n",
              "    <tr>\n",
              "      <th>...</th>\n",
              "      <td>...</td>\n",
              "      <td>...</td>\n",
              "      <td>...</td>\n",
              "      <td>...</td>\n",
              "      <td>...</td>\n",
              "      <td>...</td>\n",
              "      <td>...</td>\n",
              "      <td>...</td>\n",
              "      <td>...</td>\n",
              "      <td>...</td>\n",
              "      <td>...</td>\n",
              "      <td>...</td>\n",
              "      <td>...</td>\n",
              "      <td>...</td>\n",
              "      <td>...</td>\n",
              "    </tr>\n",
              "    <tr>\n",
              "      <th>137259</th>\n",
              "      <td>202112954</td>\n",
              "      <td>1102</td>\n",
              "      <td>FRAUD - FALSE PRETENSE / SCHEME</td>\n",
              "      <td>E18</td>\n",
              "      <td>465</td>\n",
              "      <td>2021-02-28 10:00:00</td>\n",
              "      <td>2021</td>\n",
              "      <td>2</td>\n",
              "      <td>Sunday</td>\n",
              "      <td>10</td>\n",
              "      <td>Part Two</td>\n",
              "      <td>BURMAH ST</td>\n",
              "      <td>0</td>\n",
              "      <td>0</td>\n",
              "      <td>(0, 0)</td>\n",
              "    </tr>\n",
              "    <tr>\n",
              "      <th>137261</th>\n",
              "      <td>121016052</td>\n",
              "      <td>3831</td>\n",
              "      <td>M/V - LEAVING SCENE - PROPERTY DAMAGE</td>\n",
              "      <td>C11</td>\n",
              "      <td>347</td>\n",
              "      <td>2021-03-13 09:10:00</td>\n",
              "      <td>2021</td>\n",
              "      <td>3</td>\n",
              "      <td>Saturday</td>\n",
              "      <td>9</td>\n",
              "      <td>Part Three</td>\n",
              "      <td>DORCHESTER AVE</td>\n",
              "      <td>42.3072894059195</td>\n",
              "      <td>-71.0584991240592</td>\n",
              "      <td>(42.3072894059195, -71.0584991240592)</td>\n",
              "    </tr>\n",
              "    <tr>\n",
              "      <th>137263</th>\n",
              "      <td>121005808</td>\n",
              "      <td>1102</td>\n",
              "      <td>FRAUD - FALSE PRETENSE / SCHEME</td>\n",
              "      <td>B3</td>\n",
              "      <td>289</td>\n",
              "      <td>2021-01-19 12:00:00</td>\n",
              "      <td>2021</td>\n",
              "      <td>1</td>\n",
              "      <td>Tuesday</td>\n",
              "      <td>12</td>\n",
              "      <td>Part Two</td>\n",
              "      <td>CLARKWOOD ST</td>\n",
              "      <td>42.3336792181085</td>\n",
              "      <td>-71.0918775461846</td>\n",
              "      <td>(42.3336792181085, -71.0918775461846)</td>\n",
              "    </tr>\n",
              "    <tr>\n",
              "      <th>137264</th>\n",
              "      <td>121000816</td>\n",
              "      <td>3304</td>\n",
              "      <td>NOISY PARTY/RADIO-NO ARREST</td>\n",
              "      <td>E5</td>\n",
              "      <td>675</td>\n",
              "      <td>2021-01-04 00:00:00</td>\n",
              "      <td>2021</td>\n",
              "      <td>1</td>\n",
              "      <td>Monday</td>\n",
              "      <td>0</td>\n",
              "      <td>Part Three</td>\n",
              "      <td>BRADFIELD AVENUE</td>\n",
              "      <td>0</td>\n",
              "      <td>0</td>\n",
              "      <td>(0, 0)</td>\n",
              "    </tr>\n",
              "    <tr>\n",
              "      <th>137265</th>\n",
              "      <td>120221042</td>\n",
              "      <td>3006</td>\n",
              "      <td>SICK/INJURED/MEDICAL - PERSON</td>\n",
              "      <td>E5</td>\n",
              "      <td>680</td>\n",
              "      <td>2021-04-02 10:45:00</td>\n",
              "      <td>2021</td>\n",
              "      <td>4</td>\n",
              "      <td>Friday</td>\n",
              "      <td>10</td>\n",
              "      <td>Part Three</td>\n",
              "      <td>WASHINGTON ST</td>\n",
              "      <td>42.2839024364831</td>\n",
              "      <td>-71.130862626435</td>\n",
              "      <td>(42.2839024364831, -71.130862626435)</td>\n",
              "    </tr>\n",
              "  </tbody>\n",
              "</table>\n",
              "<p>402214 rows × 15 columns</p>\n",
              "</div>"
            ],
            "text/plain": [
              "       INCIDENT_NUMBER  ...                               Location\n",
              "0           I192068249  ...            (42.33011862, -71.08425106)\n",
              "1           I192061894  ...            (42.30060543, -71.06126785)\n",
              "2           I192038828  ...            (42.33428841, -71.07239518)\n",
              "3           I192008877  ...            (42.23700950, -71.12956606)\n",
              "4           I182090828  ...            (42.34243222, -71.07225766)\n",
              "...                ...  ...                                    ...\n",
              "137259       202112954  ...                                 (0, 0)\n",
              "137261       121016052  ...  (42.3072894059195, -71.0584991240592)\n",
              "137263       121005808  ...  (42.3336792181085, -71.0918775461846)\n",
              "137264       121000816  ...                                 (0, 0)\n",
              "137265       120221042  ...   (42.2839024364831, -71.130862626435)\n",
              "\n",
              "[402214 rows x 15 columns]"
            ]
          },
          "metadata": {
            "tags": []
          },
          "execution_count": 175
        }
      ]
    },
    {
      "cell_type": "code",
      "metadata": {
        "colab": {
          "base_uri": "https://localhost:8080/"
        },
        "id": "QNz4B0n_z3KU",
        "outputId": "a5ad7353-45b4-4faa-cb5b-8c26ccca17c0"
      },
      "source": [
        "#union_df.loc[:,'OFFENSE_CODE'] = union_df.loc[:,'OFFENSE_CODE'].astype(float) # converting Total VC capital to float from string\n",
        "#union_df.loc[:,'YEAR'] = union_df.loc[:,'YEAR'].astype(float) # converting Total VC capital to float from string\n",
        "union_df.loc[:,'MONTH'] = union_df.loc[:,'MONTH'].astype(int) # converting Total VC capital to float from string\n",
        "union_df.loc[:,'HOUR'] = union_df.loc[:,'HOUR'].astype(float) # converting Total VC capital to float from string\n",
        "union_df.loc[:,'Lat'] = union_df.loc[:,'Lat'].astype(float) # converting Total VC capital to float from string\n",
        "union_df.loc[:,'Long'] = union_df.loc[:,'Long'].astype(float) # converting Total VC capital to float from string\n"
      ],
      "execution_count": 177,
      "outputs": [
        {
          "output_type": "stream",
          "text": [
            "/usr/local/lib/python3.7/dist-packages/pandas/core/indexing.py:1781: SettingWithCopyWarning:\n",
            "\n",
            "\n",
            "A value is trying to be set on a copy of a slice from a DataFrame.\n",
            "Try using .loc[row_indexer,col_indexer] = value instead\n",
            "\n",
            "See the caveats in the documentation: https://pandas.pydata.org/pandas-docs/stable/user_guide/indexing.html#returning-a-view-versus-a-copy\n",
            "\n",
            "/usr/local/lib/python3.7/dist-packages/pandas/core/indexing.py:1743: SettingWithCopyWarning:\n",
            "\n",
            "\n",
            "A value is trying to be set on a copy of a slice from a DataFrame.\n",
            "Try using .loc[row_indexer,col_indexer] = value instead\n",
            "\n",
            "See the caveats in the documentation: https://pandas.pydata.org/pandas-docs/stable/user_guide/indexing.html#returning-a-view-versus-a-copy\n",
            "\n"
          ],
          "name": "stderr"
        }
      ]
    },
    {
      "cell_type": "code",
      "metadata": {
        "colab": {
          "base_uri": "https://localhost:8080/"
        },
        "id": "gen3j0Tf3eZH",
        "outputId": "cd5cde1f-2107-44e0-e726-f7c29776c635"
      },
      "source": [
        "union_df.groupby('YEAR')['MONTH'].max()\n"
      ],
      "execution_count": 178,
      "outputs": [
        {
          "output_type": "execute_result",
          "data": {
            "text/plain": [
              "YEAR\n",
              "2015    12\n",
              "2016    12\n",
              "2017    12\n",
              "2018    12\n",
              "2019    12\n",
              "2020    12\n",
              "2021     5\n",
              "Name: MONTH, dtype: int64"
            ]
          },
          "metadata": {
            "tags": []
          },
          "execution_count": 178
        }
      ]
    },
    {
      "cell_type": "code",
      "metadata": {
        "colab": {
          "base_uri": "https://localhost:8080/",
          "height": 296
        },
        "id": "At1Y_9tGSVgN",
        "outputId": "6d006a1e-829c-46bb-a2cc-a23aebcce97d"
      },
      "source": [
        "\n",
        "yc = union_df.groupby(['YEAR','DISTRICT']).count()['INCIDENT_NUMBER'].reset_index()\n",
        "\n",
        "yc\n",
        "\n",
        "sns.barplot(x = \"YEAR\", y = \"INCIDENT_NUMBER\",data = yc)\n",
        "\n"
      ],
      "execution_count": 179,
      "outputs": [
        {
          "output_type": "execute_result",
          "data": {
            "text/plain": [
              "<matplotlib.axes._subplots.AxesSubplot at 0x7f622f84d350>"
            ]
          },
          "metadata": {
            "tags": []
          },
          "execution_count": 179
        },
        {
          "output_type": "display_data",
          "data": {
            "image/png": "[encoded data removed]",
            "text/plain": [
              "<Figure size 432x288 with 1 Axes>"
            ]
          },
          "metadata": {
            "tags": [],
            "needs_background": "light"
          }
        }
      ]
    },
    {
      "cell_type": "code",
      "metadata": {
        "colab": {
          "base_uri": "https://localhost:8080/",
          "height": 334
        },
        "id": "DL_oIebGgtQ1",
        "outputId": "1164c036-1d4f-4489-8f65-1ac57b379279"
      },
      "source": [
        "sns.catplot(y='OFFENSE_CODE_GROUP', kind='count', height=10, aspect=1.5,order=union_df.OFFENSE_CODE_GROUP.value_counts().index,   data=union_df)\n",
        "#plt.xticks(size=10)\n",
        "#plt.yticks(size=10)"
      ],
      "execution_count": 180,
      "outputs": [
        {
          "output_type": "error",
          "ename": "AttributeError",
          "evalue": "ignored",
          "traceback": [
            "\u001b[0;31m---------------------------------------------------------------------------\u001b[0m",
            "\u001b[0;31mAttributeError\u001b[0m                            Traceback (most recent call last)",
            "\u001b[0;32m<ipython-input-180-a69e552d170c>\u001b[0m in \u001b[0;36m<module>\u001b[0;34m()\u001b[0m\n\u001b[0;32m----> 1\u001b[0;31m \u001b[0msns\u001b[0m\u001b[0;34m.\u001b[0m\u001b[0mcatplot\u001b[0m\u001b[0;34m(\u001b[0m\u001b[0my\u001b[0m\u001b[0;34m=\u001b[0m\u001b[0;34m'OFFENSE_CODE_GROUP'\u001b[0m\u001b[0;34m,\u001b[0m \u001b[0mkind\u001b[0m\u001b[0;34m=\u001b[0m\u001b[0;34m'count'\u001b[0m\u001b[0;34m,\u001b[0m \u001b[0mheight\u001b[0m\u001b[0;34m=\u001b[0m\u001b[0;36m10\u001b[0m\u001b[0;34m,\u001b[0m \u001b[0maspect\u001b[0m\u001b[0;34m=\u001b[0m\u001b[0;36m1.5\u001b[0m\u001b[0;34m,\u001b[0m\u001b[0morder\u001b[0m\u001b[0;34m=\u001b[0m\u001b[0munion_df\u001b[0m\u001b[0;34m.\u001b[0m\u001b[0mOFFENSE_CODE_GROUP\u001b[0m\u001b[0;34m.\u001b[0m\u001b[0mvalue_counts\u001b[0m\u001b[0;34m(\u001b[0m\u001b[0;34m)\u001b[0m\u001b[0;34m.\u001b[0m\u001b[0mindex\u001b[0m\u001b[0;34m,\u001b[0m   \u001b[0mdata\u001b[0m\u001b[0;34m=\u001b[0m\u001b[0munion_df\u001b[0m\u001b[0;34m)\u001b[0m\u001b[0;34m\u001b[0m\u001b[0;34m\u001b[0m\u001b[0m\n\u001b[0m\u001b[1;32m      2\u001b[0m \u001b[0;31m#plt.xticks(size=10)\u001b[0m\u001b[0;34m\u001b[0m\u001b[0;34m\u001b[0m\u001b[0;34m\u001b[0m\u001b[0m\n\u001b[1;32m      3\u001b[0m \u001b[0;31m#plt.yticks(size=10)\u001b[0m\u001b[0;34m\u001b[0m\u001b[0;34m\u001b[0m\u001b[0;34m\u001b[0m\u001b[0m\n",
            "\u001b[0;32m/usr/local/lib/python3.7/dist-packages/pandas/core/generic.py\u001b[0m in \u001b[0;36m__getattr__\u001b[0;34m(self, name)\u001b[0m\n\u001b[1;32m   5139\u001b[0m             \u001b[0;32mif\u001b[0m \u001b[0mself\u001b[0m\u001b[0;34m.\u001b[0m\u001b[0m_info_axis\u001b[0m\u001b[0;34m.\u001b[0m\u001b[0m_can_hold_identifiers_and_holds_name\u001b[0m\u001b[0;34m(\u001b[0m\u001b[0mname\u001b[0m\u001b[0;34m)\u001b[0m\u001b[0;34m:\u001b[0m\u001b[0;34m\u001b[0m\u001b[0;34m\u001b[0m\u001b[0m\n\u001b[1;32m   5140\u001b[0m                 \u001b[0;32mreturn\u001b[0m \u001b[0mself\u001b[0m\u001b[0;34m[\u001b[0m\u001b[0mname\u001b[0m\u001b[0;34m]\u001b[0m\u001b[0;34m\u001b[0m\u001b[0;34m\u001b[0m\u001b[0m\n\u001b[0;32m-> 5141\u001b[0;31m             \u001b[0;32mreturn\u001b[0m \u001b[0mobject\u001b[0m\u001b[0;34m.\u001b[0m\u001b[0m__getattribute__\u001b[0m\u001b[0;34m(\u001b[0m\u001b[0mself\u001b[0m\u001b[0;34m,\u001b[0m \u001b[0mname\u001b[0m\u001b[0;34m)\u001b[0m\u001b[0;34m\u001b[0m\u001b[0;34m\u001b[0m\u001b[0m\n\u001b[0m\u001b[1;32m   5142\u001b[0m \u001b[0;34m\u001b[0m\u001b[0m\n\u001b[1;32m   5143\u001b[0m     \u001b[0;32mdef\u001b[0m \u001b[0m__setattr__\u001b[0m\u001b[0;34m(\u001b[0m\u001b[0mself\u001b[0m\u001b[0;34m,\u001b[0m \u001b[0mname\u001b[0m\u001b[0;34m:\u001b[0m \u001b[0mstr\u001b[0m\u001b[0;34m,\u001b[0m \u001b[0mvalue\u001b[0m\u001b[0;34m)\u001b[0m \u001b[0;34m->\u001b[0m \u001b[0;32mNone\u001b[0m\u001b[0;34m:\u001b[0m\u001b[0;34m\u001b[0m\u001b[0;34m\u001b[0m\u001b[0m\n",
            "\u001b[0;31mAttributeError\u001b[0m: 'DataFrame' object has no attribute 'OFFENSE_CODE_GROUP'"
          ]
        }
      ]
    },
    {
      "cell_type": "code",
      "metadata": {
        "colab": {
          "base_uri": "https://localhost:8080/",
          "height": 317
        },
        "id": "x3G2aPNH5pLA",
        "outputId": "58d49988-dc2c-4349-927a-5034be2ac046"
      },
      "source": [
        "union_df.groupby('YEAR').nunique()\n"
      ],
      "execution_count": 181,
      "outputs": [
        {
          "output_type": "execute_result",
          "data": {
            "text/html": [
              "<div>\n",
              "<style scoped>\n",
              "    .dataframe tbody tr th:only-of-type {\n",
              "        vertical-align: middle;\n",
              "    }\n",
              "\n",
              "    .dataframe tbody tr th {\n",
              "        vertical-align: top;\n",
              "    }\n",
              "\n",
              "    .dataframe thead th {\n",
              "        text-align: right;\n",
              "    }\n",
              "</style>\n",
              "<table border=\"1\" class=\"dataframe\">\n",
              "  <thead>\n",
              "    <tr style=\"text-align: right;\">\n",
              "      <th></th>\n",
              "      <th>INCIDENT_NUMBER</th>\n",
              "      <th>OFFENSE_CODE</th>\n",
              "      <th>OFFENSE_DESCRIPTION</th>\n",
              "      <th>DISTRICT</th>\n",
              "      <th>REPORTING_AREA</th>\n",
              "      <th>OCCURRED_ON_DATE</th>\n",
              "      <th>MONTH</th>\n",
              "      <th>DAY_OF_WEEK</th>\n",
              "      <th>HOUR</th>\n",
              "      <th>UCR_PART</th>\n",
              "      <th>STREET</th>\n",
              "      <th>Lat</th>\n",
              "      <th>Long</th>\n",
              "      <th>Location</th>\n",
              "    </tr>\n",
              "    <tr>\n",
              "      <th>YEAR</th>\n",
              "      <th></th>\n",
              "      <th></th>\n",
              "      <th></th>\n",
              "      <th></th>\n",
              "      <th></th>\n",
              "      <th></th>\n",
              "      <th></th>\n",
              "      <th></th>\n",
              "      <th></th>\n",
              "      <th></th>\n",
              "      <th></th>\n",
              "      <th></th>\n",
              "      <th></th>\n",
              "      <th></th>\n",
              "    </tr>\n",
              "  </thead>\n",
              "  <tbody>\n",
              "    <tr>\n",
              "      <th>2015</th>\n",
              "      <td>45150</td>\n",
              "      <td>228</td>\n",
              "      <td>213</td>\n",
              "      <td>12</td>\n",
              "      <td>875</td>\n",
              "      <td>36525</td>\n",
              "      <td>7</td>\n",
              "      <td>7</td>\n",
              "      <td>24</td>\n",
              "      <td>4</td>\n",
              "      <td>2936</td>\n",
              "      <td>11179</td>\n",
              "      <td>11175</td>\n",
              "      <td>11184</td>\n",
              "    </tr>\n",
              "    <tr>\n",
              "      <th>2016</th>\n",
              "      <td>81411</td>\n",
              "      <td>221</td>\n",
              "      <td>205</td>\n",
              "      <td>12</td>\n",
              "      <td>876</td>\n",
              "      <td>67991</td>\n",
              "      <td>12</td>\n",
              "      <td>7</td>\n",
              "      <td>24</td>\n",
              "      <td>4</td>\n",
              "      <td>3309</td>\n",
              "      <td>13189</td>\n",
              "      <td>13190</td>\n",
              "      <td>13196</td>\n",
              "    </tr>\n",
              "    <tr>\n",
              "      <th>2017</th>\n",
              "      <td>82667</td>\n",
              "      <td>194</td>\n",
              "      <td>188</td>\n",
              "      <td>12</td>\n",
              "      <td>877</td>\n",
              "      <td>68909</td>\n",
              "      <td>12</td>\n",
              "      <td>7</td>\n",
              "      <td>24</td>\n",
              "      <td>4</td>\n",
              "      <td>3325</td>\n",
              "      <td>13168</td>\n",
              "      <td>13171</td>\n",
              "      <td>13176</td>\n",
              "    </tr>\n",
              "    <tr>\n",
              "      <th>2018</th>\n",
              "      <td>80467</td>\n",
              "      <td>186</td>\n",
              "      <td>183</td>\n",
              "      <td>12</td>\n",
              "      <td>876</td>\n",
              "      <td>66435</td>\n",
              "      <td>12</td>\n",
              "      <td>7</td>\n",
              "      <td>24</td>\n",
              "      <td>4</td>\n",
              "      <td>3257</td>\n",
              "      <td>12918</td>\n",
              "      <td>12918</td>\n",
              "      <td>12925</td>\n",
              "    </tr>\n",
              "    <tr>\n",
              "      <th>2019</th>\n",
              "      <td>12631</td>\n",
              "      <td>84</td>\n",
              "      <td>84</td>\n",
              "      <td>13</td>\n",
              "      <td>827</td>\n",
              "      <td>10349</td>\n",
              "      <td>4</td>\n",
              "      <td>7</td>\n",
              "      <td>24</td>\n",
              "      <td>4</td>\n",
              "      <td>2153</td>\n",
              "      <td>4394</td>\n",
              "      <td>4394</td>\n",
              "      <td>4394</td>\n",
              "    </tr>\n",
              "    <tr>\n",
              "      <th>2020</th>\n",
              "      <td>47543</td>\n",
              "      <td>87</td>\n",
              "      <td>87</td>\n",
              "      <td>13</td>\n",
              "      <td>867</td>\n",
              "      <td>39217</td>\n",
              "      <td>12</td>\n",
              "      <td>7</td>\n",
              "      <td>24</td>\n",
              "      <td>4</td>\n",
              "      <td>3470</td>\n",
              "      <td>8336</td>\n",
              "      <td>8336</td>\n",
              "      <td>8336</td>\n",
              "    </tr>\n",
              "    <tr>\n",
              "      <th>2021</th>\n",
              "      <td>13945</td>\n",
              "      <td>81</td>\n",
              "      <td>81</td>\n",
              "      <td>13</td>\n",
              "      <td>821</td>\n",
              "      <td>12211</td>\n",
              "      <td>5</td>\n",
              "      <td>7</td>\n",
              "      <td>24</td>\n",
              "      <td>4</td>\n",
              "      <td>2260</td>\n",
              "      <td>4742</td>\n",
              "      <td>4742</td>\n",
              "      <td>4742</td>\n",
              "    </tr>\n",
              "  </tbody>\n",
              "</table>\n",
              "</div>"
            ],
            "text/plain": [
              "      INCIDENT_NUMBER  OFFENSE_CODE  ...   Long  Location\n",
              "YEAR                                 ...                 \n",
              "2015            45150           228  ...  11175     11184\n",
              "2016            81411           221  ...  13190     13196\n",
              "2017            82667           194  ...  13171     13176\n",
              "2018            80467           186  ...  12918     12925\n",
              "2019            12631            84  ...   4394      4394\n",
              "2020            47543            87  ...   8336      8336\n",
              "2021            13945            81  ...   4742      4742\n",
              "\n",
              "[7 rows x 14 columns]"
            ]
          },
          "metadata": {
            "tags": []
          },
          "execution_count": 181
        }
      ]
    },
    {
      "cell_type": "code",
      "metadata": {
        "colab": {
          "base_uri": "https://localhost:8080/",
          "height": 472
        },
        "id": "HOpOn2r7rWU0",
        "outputId": "8e793649-7c3f-46d4-aa4b-be09834a2a2c"
      },
      "source": [
        "union_df.groupby('MONTH').nunique()\n"
      ],
      "execution_count": 182,
      "outputs": [
        {
          "output_type": "execute_result",
          "data": {
            "text/html": [
              "<div>\n",
              "<style scoped>\n",
              "    .dataframe tbody tr th:only-of-type {\n",
              "        vertical-align: middle;\n",
              "    }\n",
              "\n",
              "    .dataframe tbody tr th {\n",
              "        vertical-align: top;\n",
              "    }\n",
              "\n",
              "    .dataframe thead th {\n",
              "        text-align: right;\n",
              "    }\n",
              "</style>\n",
              "<table border=\"1\" class=\"dataframe\">\n",
              "  <thead>\n",
              "    <tr style=\"text-align: right;\">\n",
              "      <th></th>\n",
              "      <th>INCIDENT_NUMBER</th>\n",
              "      <th>OFFENSE_CODE</th>\n",
              "      <th>OFFENSE_DESCRIPTION</th>\n",
              "      <th>DISTRICT</th>\n",
              "      <th>REPORTING_AREA</th>\n",
              "      <th>OCCURRED_ON_DATE</th>\n",
              "      <th>YEAR</th>\n",
              "      <th>DAY_OF_WEEK</th>\n",
              "      <th>HOUR</th>\n",
              "      <th>UCR_PART</th>\n",
              "      <th>STREET</th>\n",
              "      <th>Lat</th>\n",
              "      <th>Long</th>\n",
              "      <th>Location</th>\n",
              "    </tr>\n",
              "    <tr>\n",
              "      <th>MONTH</th>\n",
              "      <th></th>\n",
              "      <th></th>\n",
              "      <th></th>\n",
              "      <th></th>\n",
              "      <th></th>\n",
              "      <th></th>\n",
              "      <th></th>\n",
              "      <th></th>\n",
              "      <th></th>\n",
              "      <th></th>\n",
              "      <th></th>\n",
              "      <th></th>\n",
              "      <th></th>\n",
              "      <th></th>\n",
              "    </tr>\n",
              "  </thead>\n",
              "  <tbody>\n",
              "    <tr>\n",
              "      <th>1</th>\n",
              "      <td>27018</td>\n",
              "      <td>263</td>\n",
              "      <td>180</td>\n",
              "      <td>13</td>\n",
              "      <td>869</td>\n",
              "      <td>22646</td>\n",
              "      <td>5</td>\n",
              "      <td>7</td>\n",
              "      <td>24</td>\n",
              "      <td>4</td>\n",
              "      <td>2703</td>\n",
              "      <td>10439</td>\n",
              "      <td>10440</td>\n",
              "      <td>10443</td>\n",
              "    </tr>\n",
              "    <tr>\n",
              "      <th>2</th>\n",
              "      <td>24635</td>\n",
              "      <td>255</td>\n",
              "      <td>175</td>\n",
              "      <td>13</td>\n",
              "      <td>865</td>\n",
              "      <td>20663</td>\n",
              "      <td>5</td>\n",
              "      <td>7</td>\n",
              "      <td>24</td>\n",
              "      <td>4</td>\n",
              "      <td>2612</td>\n",
              "      <td>9935</td>\n",
              "      <td>9935</td>\n",
              "      <td>9938</td>\n",
              "    </tr>\n",
              "    <tr>\n",
              "      <th>3</th>\n",
              "      <td>27282</td>\n",
              "      <td>252</td>\n",
              "      <td>172</td>\n",
              "      <td>13</td>\n",
              "      <td>871</td>\n",
              "      <td>22831</td>\n",
              "      <td>5</td>\n",
              "      <td>7</td>\n",
              "      <td>24</td>\n",
              "      <td>4</td>\n",
              "      <td>2711</td>\n",
              "      <td>10506</td>\n",
              "      <td>10505</td>\n",
              "      <td>10509</td>\n",
              "    </tr>\n",
              "    <tr>\n",
              "      <th>4</th>\n",
              "      <td>26679</td>\n",
              "      <td>251</td>\n",
              "      <td>173</td>\n",
              "      <td>13</td>\n",
              "      <td>866</td>\n",
              "      <td>22430</td>\n",
              "      <td>5</td>\n",
              "      <td>7</td>\n",
              "      <td>24</td>\n",
              "      <td>4</td>\n",
              "      <td>2656</td>\n",
              "      <td>10295</td>\n",
              "      <td>10296</td>\n",
              "      <td>10298</td>\n",
              "    </tr>\n",
              "    <tr>\n",
              "      <th>5</th>\n",
              "      <td>25571</td>\n",
              "      <td>247</td>\n",
              "      <td>175</td>\n",
              "      <td>13</td>\n",
              "      <td>870</td>\n",
              "      <td>21171</td>\n",
              "      <td>5</td>\n",
              "      <td>7</td>\n",
              "      <td>24</td>\n",
              "      <td>4</td>\n",
              "      <td>2678</td>\n",
              "      <td>9786</td>\n",
              "      <td>9784</td>\n",
              "      <td>9787</td>\n",
              "    </tr>\n",
              "    <tr>\n",
              "      <th>6</th>\n",
              "      <td>29197</td>\n",
              "      <td>259</td>\n",
              "      <td>182</td>\n",
              "      <td>13</td>\n",
              "      <td>875</td>\n",
              "      <td>23855</td>\n",
              "      <td>5</td>\n",
              "      <td>7</td>\n",
              "      <td>24</td>\n",
              "      <td>4</td>\n",
              "      <td>2788</td>\n",
              "      <td>10522</td>\n",
              "      <td>10519</td>\n",
              "      <td>10524</td>\n",
              "    </tr>\n",
              "    <tr>\n",
              "      <th>7</th>\n",
              "      <td>32552</td>\n",
              "      <td>269</td>\n",
              "      <td>189</td>\n",
              "      <td>13</td>\n",
              "      <td>868</td>\n",
              "      <td>26762</td>\n",
              "      <td>5</td>\n",
              "      <td>7</td>\n",
              "      <td>24</td>\n",
              "      <td>4</td>\n",
              "      <td>2836</td>\n",
              "      <td>11142</td>\n",
              "      <td>11139</td>\n",
              "      <td>11146</td>\n",
              "    </tr>\n",
              "    <tr>\n",
              "      <th>8</th>\n",
              "      <td>33478</td>\n",
              "      <td>267</td>\n",
              "      <td>186</td>\n",
              "      <td>13</td>\n",
              "      <td>869</td>\n",
              "      <td>27536</td>\n",
              "      <td>5</td>\n",
              "      <td>7</td>\n",
              "      <td>24</td>\n",
              "      <td>4</td>\n",
              "      <td>2885</td>\n",
              "      <td>11491</td>\n",
              "      <td>11491</td>\n",
              "      <td>11496</td>\n",
              "    </tr>\n",
              "    <tr>\n",
              "      <th>9</th>\n",
              "      <td>32861</td>\n",
              "      <td>262</td>\n",
              "      <td>181</td>\n",
              "      <td>13</td>\n",
              "      <td>872</td>\n",
              "      <td>27047</td>\n",
              "      <td>6</td>\n",
              "      <td>7</td>\n",
              "      <td>24</td>\n",
              "      <td>4</td>\n",
              "      <td>2799</td>\n",
              "      <td>11237</td>\n",
              "      <td>11233</td>\n",
              "      <td>11238</td>\n",
              "    </tr>\n",
              "    <tr>\n",
              "      <th>10</th>\n",
              "      <td>37047</td>\n",
              "      <td>267</td>\n",
              "      <td>184</td>\n",
              "      <td>13</td>\n",
              "      <td>869</td>\n",
              "      <td>30524</td>\n",
              "      <td>6</td>\n",
              "      <td>7</td>\n",
              "      <td>24</td>\n",
              "      <td>4</td>\n",
              "      <td>2988</td>\n",
              "      <td>12422</td>\n",
              "      <td>12423</td>\n",
              "      <td>12428</td>\n",
              "    </tr>\n",
              "    <tr>\n",
              "      <th>11</th>\n",
              "      <td>33933</td>\n",
              "      <td>268</td>\n",
              "      <td>187</td>\n",
              "      <td>13</td>\n",
              "      <td>870</td>\n",
              "      <td>28166</td>\n",
              "      <td>6</td>\n",
              "      <td>7</td>\n",
              "      <td>24</td>\n",
              "      <td>4</td>\n",
              "      <td>2936</td>\n",
              "      <td>11802</td>\n",
              "      <td>11802</td>\n",
              "      <td>11807</td>\n",
              "    </tr>\n",
              "    <tr>\n",
              "      <th>12</th>\n",
              "      <td>33561</td>\n",
              "      <td>273</td>\n",
              "      <td>191</td>\n",
              "      <td>13</td>\n",
              "      <td>871</td>\n",
              "      <td>28006</td>\n",
              "      <td>6</td>\n",
              "      <td>7</td>\n",
              "      <td>24</td>\n",
              "      <td>4</td>\n",
              "      <td>2848</td>\n",
              "      <td>11755</td>\n",
              "      <td>11755</td>\n",
              "      <td>11758</td>\n",
              "    </tr>\n",
              "  </tbody>\n",
              "</table>\n",
              "</div>"
            ],
            "text/plain": [
              "       INCIDENT_NUMBER  OFFENSE_CODE  ...   Long  Location\n",
              "MONTH                                 ...                 \n",
              "1                27018           263  ...  10440     10443\n",
              "2                24635           255  ...   9935      9938\n",
              "3                27282           252  ...  10505     10509\n",
              "4                26679           251  ...  10296     10298\n",
              "5                25571           247  ...   9784      9787\n",
              "6                29197           259  ...  10519     10524\n",
              "7                32552           269  ...  11139     11146\n",
              "8                33478           267  ...  11491     11496\n",
              "9                32861           262  ...  11233     11238\n",
              "10               37047           267  ...  12423     12428\n",
              "11               33933           268  ...  11802     11807\n",
              "12               33561           273  ...  11755     11758\n",
              "\n",
              "[12 rows x 14 columns]"
            ]
          },
          "metadata": {
            "tags": []
          },
          "execution_count": 182
        }
      ]
    },
    {
      "cell_type": "code",
      "metadata": {
        "colab": {
          "base_uri": "https://localhost:8080/",
          "height": 1000
        },
        "id": "hnbEr071qePv",
        "outputId": "9d8e0715-b2f3-4fb6-bfba-3d6d5fbb1234"
      },
      "source": [
        "union_df['DISTRICT']= union_df['DISTRICT'].str.replace(\"A15\",\"Charlestown\")\n",
        "union_df['DISTRICT']= union_df['DISTRICT'].str.replace(\"A1\",\"Downtown\")\n",
        "union_df['DISTRICT']= union_df['DISTRICT'].str.replace(\"A7\",\"East Boston\")\n",
        "union_df['DISTRICT']= union_df['DISTRICT'].str.replace(\"B2\",\"Roxbury\")\n",
        "union_df['DISTRICT']= union_df['DISTRICT'].str.replace(\"B3\",\"Mattapan\")\n",
        "union_df['DISTRICT']= union_df['DISTRICT'].str.replace(\"C6\",\"South Boston\")\n",
        "union_df['DISTRICT']= union_df['DISTRICT'].str.replace(\"C11\",\"Dorchester\")\n",
        "union_df['DISTRICT']= union_df['DISTRICT'].str.replace(\"D4\",\"South End\")\n",
        "union_df['DISTRICT']= union_df['DISTRICT'].str.replace(\"D14\",\"Brighton\")\n",
        "union_df['DISTRICT']= union_df['DISTRICT'].str.replace(\"E5\",\"West Roxbury\")\n",
        "union_df['DISTRICT']= union_df['DISTRICT'].str.replace(\"E18\",\"Hyde Park\")\n",
        "union_df['DISTRICT']= union_df['DISTRICT'].str.replace(\"E13\",\"Jamaica Plain\")\n",
        "\n",
        "\n",
        "ym = union_df.groupby(['MONTH','DISTRICT']).count()['INCIDENT_NUMBER'].reset_index()\n",
        "#ym\n",
        "\n",
        "\n",
        "g=sns.barplot(x = \"DISTRICT\", y = \"INCIDENT_NUMBER\",data = ym)\n",
        "g.set_xticklabels(g.get_xticklabels(),rotation=90)\n"
      ],
      "execution_count": 183,
      "outputs": [
        {
          "output_type": "stream",
          "text": [
            "/usr/local/lib/python3.7/dist-packages/ipykernel_launcher.py:1: SettingWithCopyWarning:\n",
            "\n",
            "\n",
            "A value is trying to be set on a copy of a slice from a DataFrame.\n",
            "Try using .loc[row_indexer,col_indexer] = value instead\n",
            "\n",
            "See the caveats in the documentation: https://pandas.pydata.org/pandas-docs/stable/user_guide/indexing.html#returning-a-view-versus-a-copy\n",
            "\n",
            "/usr/local/lib/python3.7/dist-packages/ipykernel_launcher.py:2: SettingWithCopyWarning:\n",
            "\n",
            "\n",
            "A value is trying to be set on a copy of a slice from a DataFrame.\n",
            "Try using .loc[row_indexer,col_indexer] = value instead\n",
            "\n",
            "See the caveats in the documentation: https://pandas.pydata.org/pandas-docs/stable/user_guide/indexing.html#returning-a-view-versus-a-copy\n",
            "\n",
            "/usr/local/lib/python3.7/dist-packages/ipykernel_launcher.py:3: SettingWithCopyWarning:\n",
            "\n",
            "\n",
            "A value is trying to be set on a copy of a slice from a DataFrame.\n",
            "Try using .loc[row_indexer,col_indexer] = value instead\n",
            "\n",
            "See the caveats in the documentation: https://pandas.pydata.org/pandas-docs/stable/user_guide/indexing.html#returning-a-view-versus-a-copy\n",
            "\n",
            "/usr/local/lib/python3.7/dist-packages/ipykernel_launcher.py:4: SettingWithCopyWarning:\n",
            "\n",
            "\n",
            "A value is trying to be set on a copy of a slice from a DataFrame.\n",
            "Try using .loc[row_indexer,col_indexer] = value instead\n",
            "\n",
            "See the caveats in the documentation: https://pandas.pydata.org/pandas-docs/stable/user_guide/indexing.html#returning-a-view-versus-a-copy\n",
            "\n",
            "/usr/local/lib/python3.7/dist-packages/ipykernel_launcher.py:5: SettingWithCopyWarning:\n",
            "\n",
            "\n",
            "A value is trying to be set on a copy of a slice from a DataFrame.\n",
            "Try using .loc[row_indexer,col_indexer] = value instead\n",
            "\n",
            "See the caveats in the documentation: https://pandas.pydata.org/pandas-docs/stable/user_guide/indexing.html#returning-a-view-versus-a-copy\n",
            "\n",
            "/usr/local/lib/python3.7/dist-packages/ipykernel_launcher.py:6: SettingWithCopyWarning:\n",
            "\n",
            "\n",
            "A value is trying to be set on a copy of a slice from a DataFrame.\n",
            "Try using .loc[row_indexer,col_indexer] = value instead\n",
            "\n",
            "See the caveats in the documentation: https://pandas.pydata.org/pandas-docs/stable/user_guide/indexing.html#returning-a-view-versus-a-copy\n",
            "\n",
            "/usr/local/lib/python3.7/dist-packages/ipykernel_launcher.py:7: SettingWithCopyWarning:\n",
            "\n",
            "\n",
            "A value is trying to be set on a copy of a slice from a DataFrame.\n",
            "Try using .loc[row_indexer,col_indexer] = value instead\n",
            "\n",
            "See the caveats in the documentation: https://pandas.pydata.org/pandas-docs/stable/user_guide/indexing.html#returning-a-view-versus-a-copy\n",
            "\n",
            "/usr/local/lib/python3.7/dist-packages/ipykernel_launcher.py:8: SettingWithCopyWarning:\n",
            "\n",
            "\n",
            "A value is trying to be set on a copy of a slice from a DataFrame.\n",
            "Try using .loc[row_indexer,col_indexer] = value instead\n",
            "\n",
            "See the caveats in the documentation: https://pandas.pydata.org/pandas-docs/stable/user_guide/indexing.html#returning-a-view-versus-a-copy\n",
            "\n",
            "/usr/local/lib/python3.7/dist-packages/ipykernel_launcher.py:9: SettingWithCopyWarning:\n",
            "\n",
            "\n",
            "A value is trying to be set on a copy of a slice from a DataFrame.\n",
            "Try using .loc[row_indexer,col_indexer] = value instead\n",
            "\n",
            "See the caveats in the documentation: https://pandas.pydata.org/pandas-docs/stable/user_guide/indexing.html#returning-a-view-versus-a-copy\n",
            "\n",
            "/usr/local/lib/python3.7/dist-packages/ipykernel_launcher.py:10: SettingWithCopyWarning:\n",
            "\n",
            "\n",
            "A value is trying to be set on a copy of a slice from a DataFrame.\n",
            "Try using .loc[row_indexer,col_indexer] = value instead\n",
            "\n",
            "See the caveats in the documentation: https://pandas.pydata.org/pandas-docs/stable/user_guide/indexing.html#returning-a-view-versus-a-copy\n",
            "\n",
            "/usr/local/lib/python3.7/dist-packages/ipykernel_launcher.py:11: SettingWithCopyWarning:\n",
            "\n",
            "\n",
            "A value is trying to be set on a copy of a slice from a DataFrame.\n",
            "Try using .loc[row_indexer,col_indexer] = value instead\n",
            "\n",
            "See the caveats in the documentation: https://pandas.pydata.org/pandas-docs/stable/user_guide/indexing.html#returning-a-view-versus-a-copy\n",
            "\n",
            "/usr/local/lib/python3.7/dist-packages/ipykernel_launcher.py:12: SettingWithCopyWarning:\n",
            "\n",
            "\n",
            "A value is trying to be set on a copy of a slice from a DataFrame.\n",
            "Try using .loc[row_indexer,col_indexer] = value instead\n",
            "\n",
            "See the caveats in the documentation: https://pandas.pydata.org/pandas-docs/stable/user_guide/indexing.html#returning-a-view-versus-a-copy\n",
            "\n"
          ],
          "name": "stderr"
        },
        {
          "output_type": "execute_result",
          "data": {
            "text/plain": [
              "[Text(0, 0, 'Brighton'),\n",
              " Text(0, 0, 'Charlestown'),\n",
              " Text(0, 0, 'Dorchester'),\n",
              " Text(0, 0, 'Downtown'),\n",
              " Text(0, 0, 'East Boston'),\n",
              " Text(0, 0, 'External'),\n",
              " Text(0, 0, 'Hyde Park'),\n",
              " Text(0, 0, 'Jamaica Plain'),\n",
              " Text(0, 0, 'Mattapan'),\n",
              " Text(0, 0, 'Roxbury'),\n",
              " Text(0, 0, 'South Boston'),\n",
              " Text(0, 0, 'South End'),\n",
              " Text(0, 0, 'West Roxbury')]"
            ]
          },
          "metadata": {
            "tags": []
          },
          "execution_count": 183
        },
        {
          "output_type": "display_data",
          "data": {
            "image/png": "[encoded data removed]",
            "text/plain": [
              "<Figure size 432x288 with 1 Axes>"
            ]
          },
          "metadata": {
            "tags": [],
            "needs_background": "light"
          }
        }
      ]
    },
    {
      "cell_type": "code",
      "metadata": {
        "colab": {
          "base_uri": "https://localhost:8080/"
        },
        "id": "TDHxw8OmwKuL",
        "outputId": "41e9e5e4-980b-419c-a6cf-dcea724b991c"
      },
      "source": [
        "from sklearn.preprocessing import LabelEncoder\n",
        "le= LabelEncoder()\n",
        "categorical_col=union_df.select_dtypes(include=['object']).columns.tolist()\n",
        "for x in categorical_col:\n",
        "    union_df[x] = le.fit_transform(union_df[x].astype(str))"
      ],
      "execution_count": 184,
      "outputs": [
        {
          "output_type": "stream",
          "text": [
            "/usr/local/lib/python3.7/dist-packages/ipykernel_launcher.py:5: SettingWithCopyWarning:\n",
            "\n",
            "\n",
            "A value is trying to be set on a copy of a slice from a DataFrame.\n",
            "Try using .loc[row_indexer,col_indexer] = value instead\n",
            "\n",
            "See the caveats in the documentation: https://pandas.pydata.org/pandas-docs/stable/user_guide/indexing.html#returning-a-view-versus-a-copy\n",
            "\n"
          ],
          "name": "stderr"
        }
      ]
    },
    {
      "cell_type": "code",
      "metadata": {
        "id": "8yyuLhvap8A5",
        "colab": {
          "base_uri": "https://localhost:8080/",
          "height": 649
        },
        "outputId": "969fe158-647d-450c-cefb-0436f01f6139"
      },
      "source": [
        "corrMatrix= union_df.corr()\n",
        "\n",
        "fig, ax = plt.subplots(figsize=(9,9))         # Sample figsize in inches\n",
        "\n",
        "sns.heatmap(corrMatrix, annot=True,linewidth=0.8)\n",
        "plt.show()"
      ],
      "execution_count": 185,
      "outputs": [
        {
          "output_type": "display_data",
          "data": {
            "image/png": "[encoded data removed]",
            "text/plain": [
              "<Figure size 648x648 with 2 Axes>"
            ]
          },
          "metadata": {
            "tags": [],
            "needs_background": "light"
          }
        }
      ]
    },
    {
      "cell_type": "code",
      "metadata": {
        "id": "7DFw6UAC_2OV"
      },
      "source": [
        ""
      ],
      "execution_count": 8,
      "outputs": []
    },
    {
      "cell_type": "markdown",
      "metadata": {
        "id": "GNtGCuaJp0X0"
      },
      "source": [
        "### Building Model"
      ]
    },
    {
      "cell_type": "code",
      "metadata": {
        "id": "WvV6IfiZHDKQ",
        "colab": {
          "base_uri": "https://localhost:8080/"
        },
        "outputId": "11ac4da5-61df-4c39-9f34-7b1033e7e2a0"
      },
      "source": [
        "# drop column with High Correlation and intuitively \n",
        "\n",
        "columns_to_drop = ['INCIDENT_NUMBER', 'OFFENSE_CODE','OFFENSE_CODE_GROUP','OFFENSE_DESCRIPTION','SHOOTING','OCCURRED_ON_DATE','Location']\n",
        "\n",
        "union_data_clean = union_data.drop(*columns_to_drop)\n",
        "\n",
        "union_data_clean.show()\n",
        "\n",
        "\n",
        "# Removing Null Values from Data\n",
        "union_data_clean=union_data_clean.na.drop()\n",
        "union_data_clean=union_data_clean.fillna(0)\n",
        "\n",
        "\n",
        "# Converting Data types of column for processing\n",
        "union_data_clean = union_data_clean.withColumn(\"REPORTING_AREA\", union_data_clean['REPORTING_AREA'].cast('float'))\n",
        "union_data_clean = union_data_clean.withColumn(\"MONTH\", union_data_clean['MONTH'].cast('float'))\n",
        "union_data_clean = union_data_clean.withColumn(\"HOUR\", union_data_clean['HOUR'].cast('float'))\n",
        "union_data_clean = union_data_clean.withColumn(\"Lat\", union_data_clean['Lat'].cast('float'))\n",
        "union_data_clean = union_data_clean.withColumn(\"Long\", union_data_clean['Long'].cast('float'))\n",
        "\n"
      ],
      "execution_count": 186,
      "outputs": [
        {
          "output_type": "stream",
          "text": [
            "+--------+--------------+----+-----+-----------+----+----------+-------------+-----------+------------+\n",
            "|DISTRICT|REPORTING_AREA|YEAR|MONTH|DAY_OF_WEEK|HOUR|  UCR_PART|       STREET|        Lat|        Long|\n",
            "+--------+--------------+----+-----+-----------+----+----------+-------------+-----------+------------+\n",
            "|      B2|           280|2015|    8|     Friday|  10|  Part Two|WASHINGTON ST|42.33011862|-71.08425106|\n",
            "|     C11|           356|2015|    8|   Thursday|   0|  Part Two|   CHARLES ST|42.30060543|-71.06126785|\n",
            "|      A1|           172|2015|   11|     Monday|  12|  Part Two|    ALBANY ST|42.33428841|-71.07239518|\n",
            "|     E18|           525|2015|    7|     Friday|  10|  Part Two|   WINGATE RD| 42.2370095|-71.12956606|\n",
            "|      D4|           159|2015|   12|    Tuesday|  12|  Part Two|     UPTON ST|42.34243222|-71.07225766|\n",
            "|     C11|           336|2015|   12|     Friday|   0|  Part Two|    NORTON ST|42.30626521|-71.06864556|\n",
            "|     E18|           478|2015|   12|    Tuesday|  12|  Part Two|RUSKINDALE RD|42.26889666| -71.1081375|\n",
            "|      B2|           258|2015|    9|     Monday|   9|  Part Two|  COLUMBIA RD|42.31514179|-71.06704709|\n",
            "|      B3|           455|2015|    7|     Friday|  23|  Part Two| RADCLIFFE ST|42.30020194|-71.07835353|\n",
            "|    null|              |2015|    6|     Monday|   0|Part Three|      BERNARD|         -1|          -1|\n",
            "|      B2|           326|2015|    7|     Sunday|  15|  Part Two|   FAYSTON ST|42.31224327|-71.07549901|\n",
            "|      B2|           326|2015|    7|     Sunday|  15|Part Three|   FAYSTON ST|42.31224327|-71.07549901|\n",
            "|      B2|           326|2015|    7|     Sunday|  15|  Part Two|   FAYSTON ST|42.31224327|-71.07549901|\n",
            "|      D4|           149|2015|   12|     Sunday|  14|  Part Two| DARTMOUTH ST|42.34767067|-71.07620742|\n",
            "|      D4|           149|2015|   12|     Sunday|  14|  Part One| DARTMOUTH ST|42.34767067|-71.07620742|\n",
            "|     E18|           486|2015|    7|  Wednesday|  12|  Part Two|  OAKCREST RD|42.26452149|-71.10429211|\n",
            "|      C6|           226|2015|   11|   Thursday|   8|  Part Two|  E FOURTH ST|       null|        null|\n",
            "|      D4|           129|2015|   10|   Saturday|  13|  Part Two|  BERKELEY ST|42.34997636|-71.07242619|\n",
            "|     D14|           791|2015|    9|    Tuesday|  11|  Part Two|   ALLSTON ST|42.34438811| -71.1405858|\n",
            "|     C11|           366|2015|    8|   Thursday|   8|Part Three|     EDWIN ST|42.28943324| -71.0605219|\n",
            "+--------+--------------+----+-----+-----------+----+----------+-------------+-----------+------------+\n",
            "only showing top 20 rows\n",
            "\n"
          ],
          "name": "stdout"
        }
      ]
    },
    {
      "cell_type": "code",
      "metadata": {
        "id": "Wo-7gkzmKgne"
      },
      "source": [
        "\n",
        "from pyspark.ml.feature import VectorAssembler\n",
        "from pyspark.ml.feature import StringIndexer\n",
        "\n",
        "from pyspark.ml.feature import StringIndexer\n",
        "from pyspark.ml import Pipeline\n",
        "\n",
        "indexers = [StringIndexer(inputCol=\"DISTRICT\", outputCol=\"DISTRICTIndex\",handleInvalid=\"skip\"),StringIndexer(inputCol=\"DAY_OF_WEEK\", outputCol=\"DAY_OF_WEEKIndex\",handleInvalid=\"skip\"), StringIndexer(inputCol=\"UCR_PART\", outputCol=\"UCR_PARTIndex\",handleInvalid=\"skip\"),StringIndexer(inputCol=\"STREET\", outputCol=\"STREETIndex\",handleInvalid=\"skip\"),StringIndexer(inputCol=\"YEAR\", outputCol=\"YEARIndex\",handleInvalid=\"skip\")]\n",
        "\n",
        "pipeline = Pipeline(stages=indexers)\n",
        "union_data_clean = pipeline.fit(union_data_clean).transform(union_data_clean)\n",
        "\n",
        "\n",
        "\n",
        "vectorAssembler = VectorAssembler(inputCols = ['DISTRICTIndex','REPORTING_AREA','YEARIndex','MONTH','DAY_OF_WEEKIndex','HOUR','STREETIndex','Lat','Long'], outputCol = 'features',handleInvalid=\"skip\")\n",
        "\n",
        "vunion_data = vectorAssembler.transform(union_data_clean)\n",
        "\n",
        "\n",
        "vunion_data_f = vunion_data.select(['features', 'UCR_PARTIndex'])\n",
        "\n"
      ],
      "execution_count": 187,
      "outputs": []
    },
    {
      "cell_type": "code",
      "metadata": {
        "colab": {
          "base_uri": "https://localhost:8080/"
        },
        "id": "mwayYenCL66K",
        "outputId": "48df1b7c-c74b-4159-c743-b5c6e82413d3"
      },
      "source": [
        "from pyspark.ml.stat import Correlation\n",
        "\n",
        "r1 = Correlation.corr(vunion_data_f, \"features\").head()\n",
        "print(\"Pearson correlation matrix:\\n\" + str(r1[0]))\n",
        "\n"
      ],
      "execution_count": 188,
      "outputs": [
        {
          "output_type": "stream",
          "text": [
            "Pearson correlation matrix:\n",
            "DenseMatrix([[ 1.00000000e+00,  1.71371713e-01,  2.42961013e-02,\n",
            "              -1.36866432e-03, -3.57794607e-03, -6.92734886e-03,\n",
            "               1.21542534e-01,  1.68591961e-04, -1.35652118e-04],\n",
            "             [ 1.71371713e-01,  1.00000000e+00, -9.52273538e-03,\n",
            "              -2.15155224e-03, -7.99535010e-04,  1.94849205e-02,\n",
            "               1.20132930e-01, -3.86246539e-03, -6.39606405e-03],\n",
            "             [ 2.42961013e-02, -9.52273538e-03,  1.00000000e+00,\n",
            "               9.74763674e-02,  1.58602597e-03, -1.94524958e-02,\n",
            "               3.08894831e-02, -8.53451706e-02,  8.53953193e-02],\n",
            "             [-1.36866432e-03, -2.15155224e-03,  9.74763674e-02,\n",
            "               1.00000000e+00,  2.19864710e-03, -4.31731551e-04,\n",
            "               1.78381794e-03,  5.68359483e-03, -5.63117640e-03],\n",
            "             [-3.57794607e-03, -7.99535010e-04,  1.58602597e-03,\n",
            "               2.19864710e-03,  1.00000000e+00, -3.61227367e-02,\n",
            "               4.29217174e-03,  8.32255476e-03, -8.26412036e-03],\n",
            "             [-6.92734886e-03,  1.94849205e-02, -1.94524958e-02,\n",
            "              -4.31731551e-04, -3.61227367e-02,  1.00000000e+00,\n",
            "              -1.32292151e-02, -2.07445972e-04, -1.50155406e-04],\n",
            "             [ 1.21542534e-01,  1.20132930e-01,  3.08894831e-02,\n",
            "               1.78381794e-03,  4.29217174e-03, -1.32292151e-02,\n",
            "               1.00000000e+00, -4.24442190e-02,  3.97559749e-02],\n",
            "             [ 1.68591961e-04, -3.86246539e-03, -8.53451706e-02,\n",
            "               5.68359483e-03,  8.32255476e-03, -2.07445972e-04,\n",
            "              -4.24442190e-02,  1.00000000e+00, -9.99809235e-01],\n",
            "             [-1.35652118e-04, -6.39606405e-03,  8.53953193e-02,\n",
            "              -5.63117640e-03, -8.26412036e-03, -1.50155406e-04,\n",
            "               3.97559749e-02, -9.99809235e-01,  1.00000000e+00]])\n"
          ],
          "name": "stdout"
        }
      ]
    },
    {
      "cell_type": "code",
      "metadata": {
        "id": "DhLSOiR-E-tA"
      },
      "source": [
        "vunion_data_f.show()"
      ],
      "execution_count": null,
      "outputs": []
    },
    {
      "cell_type": "code",
      "metadata": {
        "colab": {
          "base_uri": "https://localhost:8080/",
          "height": 409
        },
        "id": "kjS-rX-AUj-K",
        "outputId": "8070b738-48ab-47ad-8e85-d585142bd953"
      },
      "source": [
        "from pyspark.ml import Pipeline\n",
        "from pyspark.ml.classification import RandomForestClassifier\n",
        "from pyspark.ml.feature import StringIndexer, VectorIndexer\n",
        "from pyspark.ml.evaluation import MulticlassClassificationEvaluator\n",
        "\n",
        "\n",
        "(trainingData, testData) = vunion_data_f.randomSplit([0.7, 0.3])\n",
        "\n",
        "rf = RandomForestClassifier(labelCol=\"UCR_PARTIndex\", featuresCol=\"features\",maxBins=4000)\n",
        "\n",
        "\n",
        "\n",
        "model = rf.fit(trainingData)\n",
        "\n",
        "# Make predictions.\n",
        "predictions = model.transform(testData)\n",
        "\n",
        "# Select example rows to display.\n",
        "predictions.select(\"prediction\", \"UCR_PARTIndex\", \"features\").show(5)\n",
        "\n",
        "# Select (prediction, true label) and compute test error\n",
        "evaluator = MulticlassClassificationEvaluator(\n",
        "    labelCol=\"UCR_PARTIndex\", predictionCol=\"prediction\", metricName=\"accuracy\")\n",
        "accuracy = evaluator.evaluate(predictions)\n",
        "print(\"Test Error = %g \" % (1.0 - accuracy))\n",
        "\n"
      ],
      "execution_count": 189,
      "outputs": [
        {
          "output_type": "error",
          "ename": "IllegalArgumentException",
          "evalue": "ignored",
          "traceback": [
            "\u001b[0;31m---------------------------------------------------------------------------\u001b[0m",
            "\u001b[0;31mIllegalArgumentException\u001b[0m                  Traceback (most recent call last)",
            "\u001b[0;32m<ipython-input-189-75de0267996c>\u001b[0m in \u001b[0;36m<module>\u001b[0;34m()\u001b[0m\n\u001b[1;32m     11\u001b[0m \u001b[0;34m\u001b[0m\u001b[0m\n\u001b[1;32m     12\u001b[0m \u001b[0;34m\u001b[0m\u001b[0m\n\u001b[0;32m---> 13\u001b[0;31m \u001b[0mmodel\u001b[0m \u001b[0;34m=\u001b[0m \u001b[0mrf\u001b[0m\u001b[0;34m.\u001b[0m\u001b[0mfit\u001b[0m\u001b[0;34m(\u001b[0m\u001b[0mtrainingData\u001b[0m\u001b[0;34m)\u001b[0m\u001b[0;34m\u001b[0m\u001b[0;34m\u001b[0m\u001b[0m\n\u001b[0m\u001b[1;32m     14\u001b[0m \u001b[0;34m\u001b[0m\u001b[0m\n\u001b[1;32m     15\u001b[0m \u001b[0;31m# Make predictions.\u001b[0m\u001b[0;34m\u001b[0m\u001b[0;34m\u001b[0m\u001b[0;34m\u001b[0m\u001b[0m\n",
            "\u001b[0;32m/usr/local/lib/python3.7/dist-packages/pyspark/ml/base.py\u001b[0m in \u001b[0;36mfit\u001b[0;34m(self, dataset, params)\u001b[0m\n\u001b[1;32m    159\u001b[0m                 \u001b[0;32mreturn\u001b[0m \u001b[0mself\u001b[0m\u001b[0;34m.\u001b[0m\u001b[0mcopy\u001b[0m\u001b[0;34m(\u001b[0m\u001b[0mparams\u001b[0m\u001b[0;34m)\u001b[0m\u001b[0;34m.\u001b[0m\u001b[0m_fit\u001b[0m\u001b[0;34m(\u001b[0m\u001b[0mdataset\u001b[0m\u001b[0;34m)\u001b[0m\u001b[0;34m\u001b[0m\u001b[0;34m\u001b[0m\u001b[0m\n\u001b[1;32m    160\u001b[0m             \u001b[0;32melse\u001b[0m\u001b[0;34m:\u001b[0m\u001b[0;34m\u001b[0m\u001b[0;34m\u001b[0m\u001b[0m\n\u001b[0;32m--> 161\u001b[0;31m                 \u001b[0;32mreturn\u001b[0m \u001b[0mself\u001b[0m\u001b[0;34m.\u001b[0m\u001b[0m_fit\u001b[0m\u001b[0;34m(\u001b[0m\u001b[0mdataset\u001b[0m\u001b[0;34m)\u001b[0m\u001b[0;34m\u001b[0m\u001b[0;34m\u001b[0m\u001b[0m\n\u001b[0m\u001b[1;32m    162\u001b[0m         \u001b[0;32melse\u001b[0m\u001b[0;34m:\u001b[0m\u001b[0;34m\u001b[0m\u001b[0;34m\u001b[0m\u001b[0m\n\u001b[1;32m    163\u001b[0m             raise ValueError(\"Params must be either a param map or a list/tuple of param maps, \"\n",
            "\u001b[0;32m/usr/local/lib/python3.7/dist-packages/pyspark/ml/wrapper.py\u001b[0m in \u001b[0;36m_fit\u001b[0;34m(self, dataset)\u001b[0m\n\u001b[1;32m    333\u001b[0m \u001b[0;34m\u001b[0m\u001b[0m\n\u001b[1;32m    334\u001b[0m     \u001b[0;32mdef\u001b[0m \u001b[0m_fit\u001b[0m\u001b[0;34m(\u001b[0m\u001b[0mself\u001b[0m\u001b[0;34m,\u001b[0m \u001b[0mdataset\u001b[0m\u001b[0;34m)\u001b[0m\u001b[0;34m:\u001b[0m\u001b[0;34m\u001b[0m\u001b[0;34m\u001b[0m\u001b[0m\n\u001b[0;32m--> 335\u001b[0;31m         \u001b[0mjava_model\u001b[0m \u001b[0;34m=\u001b[0m \u001b[0mself\u001b[0m\u001b[0;34m.\u001b[0m\u001b[0m_fit_java\u001b[0m\u001b[0;34m(\u001b[0m\u001b[0mdataset\u001b[0m\u001b[0;34m)\u001b[0m\u001b[0;34m\u001b[0m\u001b[0;34m\u001b[0m\u001b[0m\n\u001b[0m\u001b[1;32m    336\u001b[0m         \u001b[0mmodel\u001b[0m \u001b[0;34m=\u001b[0m \u001b[0mself\u001b[0m\u001b[0;34m.\u001b[0m\u001b[0m_create_model\u001b[0m\u001b[0;34m(\u001b[0m\u001b[0mjava_model\u001b[0m\u001b[0;34m)\u001b[0m\u001b[0;34m\u001b[0m\u001b[0;34m\u001b[0m\u001b[0m\n\u001b[1;32m    337\u001b[0m         \u001b[0;32mreturn\u001b[0m \u001b[0mself\u001b[0m\u001b[0;34m.\u001b[0m\u001b[0m_copyValues\u001b[0m\u001b[0;34m(\u001b[0m\u001b[0mmodel\u001b[0m\u001b[0;34m)\u001b[0m\u001b[0;34m\u001b[0m\u001b[0;34m\u001b[0m\u001b[0m\n",
            "\u001b[0;32m/usr/local/lib/python3.7/dist-packages/pyspark/ml/wrapper.py\u001b[0m in \u001b[0;36m_fit_java\u001b[0;34m(self, dataset)\u001b[0m\n\u001b[1;32m    330\u001b[0m         \"\"\"\n\u001b[1;32m    331\u001b[0m         \u001b[0mself\u001b[0m\u001b[0;34m.\u001b[0m\u001b[0m_transfer_params_to_java\u001b[0m\u001b[0;34m(\u001b[0m\u001b[0;34m)\u001b[0m\u001b[0;34m\u001b[0m\u001b[0;34m\u001b[0m\u001b[0m\n\u001b[0;32m--> 332\u001b[0;31m         \u001b[0;32mreturn\u001b[0m \u001b[0mself\u001b[0m\u001b[0;34m.\u001b[0m\u001b[0m_java_obj\u001b[0m\u001b[0;34m.\u001b[0m\u001b[0mfit\u001b[0m\u001b[0;34m(\u001b[0m\u001b[0mdataset\u001b[0m\u001b[0;34m.\u001b[0m\u001b[0m_jdf\u001b[0m\u001b[0;34m)\u001b[0m\u001b[0;34m\u001b[0m\u001b[0;34m\u001b[0m\u001b[0m\n\u001b[0m\u001b[1;32m    333\u001b[0m \u001b[0;34m\u001b[0m\u001b[0m\n\u001b[1;32m    334\u001b[0m     \u001b[0;32mdef\u001b[0m \u001b[0m_fit\u001b[0m\u001b[0;34m(\u001b[0m\u001b[0mself\u001b[0m\u001b[0;34m,\u001b[0m \u001b[0mdataset\u001b[0m\u001b[0;34m)\u001b[0m\u001b[0;34m:\u001b[0m\u001b[0;34m\u001b[0m\u001b[0;34m\u001b[0m\u001b[0m\n",
            "\u001b[0;32m/usr/local/lib/python3.7/dist-packages/py4j/java_gateway.py\u001b[0m in \u001b[0;36m__call__\u001b[0;34m(self, *args)\u001b[0m\n\u001b[1;32m   1303\u001b[0m         \u001b[0manswer\u001b[0m \u001b[0;34m=\u001b[0m \u001b[0mself\u001b[0m\u001b[0;34m.\u001b[0m\u001b[0mgateway_client\u001b[0m\u001b[0;34m.\u001b[0m\u001b[0msend_command\u001b[0m\u001b[0;34m(\u001b[0m\u001b[0mcommand\u001b[0m\u001b[0;34m)\u001b[0m\u001b[0;34m\u001b[0m\u001b[0;34m\u001b[0m\u001b[0m\n\u001b[1;32m   1304\u001b[0m         return_value = get_return_value(\n\u001b[0;32m-> 1305\u001b[0;31m             answer, self.gateway_client, self.target_id, self.name)\n\u001b[0m\u001b[1;32m   1306\u001b[0m \u001b[0;34m\u001b[0m\u001b[0m\n\u001b[1;32m   1307\u001b[0m         \u001b[0;32mfor\u001b[0m \u001b[0mtemp_arg\u001b[0m \u001b[0;32min\u001b[0m \u001b[0mtemp_args\u001b[0m\u001b[0;34m:\u001b[0m\u001b[0;34m\u001b[0m\u001b[0;34m\u001b[0m\u001b[0m\n",
            "\u001b[0;32m/usr/local/lib/python3.7/dist-packages/pyspark/sql/utils.py\u001b[0m in \u001b[0;36mdeco\u001b[0;34m(*a, **kw)\u001b[0m\n\u001b[1;32m    115\u001b[0m                 \u001b[0;31m# Hide where the exception came from that shows a non-Pythonic\u001b[0m\u001b[0;34m\u001b[0m\u001b[0;34m\u001b[0m\u001b[0;34m\u001b[0m\u001b[0m\n\u001b[1;32m    116\u001b[0m                 \u001b[0;31m# JVM exception message.\u001b[0m\u001b[0;34m\u001b[0m\u001b[0;34m\u001b[0m\u001b[0;34m\u001b[0m\u001b[0m\n\u001b[0;32m--> 117\u001b[0;31m                 \u001b[0;32mraise\u001b[0m \u001b[0mconverted\u001b[0m \u001b[0;32mfrom\u001b[0m \u001b[0;32mNone\u001b[0m\u001b[0;34m\u001b[0m\u001b[0;34m\u001b[0m\u001b[0m\n\u001b[0m\u001b[1;32m    118\u001b[0m             \u001b[0;32melse\u001b[0m\u001b[0;34m:\u001b[0m\u001b[0;34m\u001b[0m\u001b[0;34m\u001b[0m\u001b[0m\n\u001b[1;32m    119\u001b[0m                 \u001b[0;32mraise\u001b[0m\u001b[0;34m\u001b[0m\u001b[0;34m\u001b[0m\u001b[0m\n",
            "\u001b[0;31mIllegalArgumentException\u001b[0m: requirement failed: DecisionTree requires maxBins (= 4000) to be at least as large as the number of values in each categorical feature, but categorical feature 6 has 4647 values. Consider removing this and other categorical features with a large number of values, or add more training examples."
          ]
        }
      ]
    }
  ]
}