{
  "nbformat": 4,
  "nbformat_minor": 0,
  "metadata": {
    "colab": {
      "name": "Untitled15.ipynb",
      "provenance": [],
      "mount_file_id": "https://github.com/Mayank-004/Car-Horsepower-prediction-using-Pyspark/blob/main/Untitled15.ipynb",
      "authorship_tag": "ABX9TyNamHINpa/7bBNiblr0n0Sa",
      "include_colab_link": true
    },
    "kernelspec": {
      "name": "python3",
      "display_name": "Python 3"
    },
    "language_info": {
      "name": "python"
    }
  },
  "cells": [
    {
      "cell_type": "markdown",
      "metadata": {
        "id": "view-in-github",
        "colab_type": "text"
      },
      "source": [
        "<a href=\"https://colab.research.google.com/github/Mayank-004/Boston-Crime/blob/main/BostonCRIME_Pyspark_Randomforest.ipynb\" target=\"_parent\"><img src=\"https://colab.research.google.com/assets/colab-badge.svg\" alt=\"Open In Colab\"/></a>"
      ]
    },
    {
      "cell_type": "code",
      "metadata": {
        "colab": {
          "base_uri": "https://localhost:8080/",
          "height": 439
        },
        "id": "25Rvqhn6Kaqo",
        "outputId": "6ac079ef-6476-4377-893b-6b46f722068c"
      },
      "source": [
        "!pip install pyspark\n",
        "\n"
      ],
      "execution_count": 1,
      "outputs": [
        {
          "output_type": "stream",
          "text": [
            "Collecting pyspark\n",
            "\u001b[?25l  Downloading https://files.pythonhosted.org/packages/45/b0/9d6860891ab14a39d4bddf80ba26ce51c2f9dc4805e5c6978ac0472c120a/pyspark-3.1.1.tar.gz (212.3MB)\n",
            "\u001b[K     |████████████████████████████████| 212.3MB 69kB/s \n",
            "\u001b[?25hCollecting py4j==0.10.9\n",
            "\u001b[?25l  Downloading https://files.pythonhosted.org/packages/9e/b6/6a4fb90cd235dc8e265a6a2067f2a2c99f0d91787f06aca4bcf7c23f3f80/py4j-0.10.9-py2.py3-none-any.whl (198kB)\n",
            "\u001b[K     |████████████████████████████████| 204kB 36.7MB/s \n",
            "\u001b[?25hBuilding wheels for collected packages: pyspark\n",
            "  Building wheel for pyspark (setup.py) ... \u001b[?25l\u001b[?25hdone\n",
            "  Created wheel for pyspark: filename=pyspark-3.1.1-py2.py3-none-any.whl size=212767604 sha256=cffe509763d4246b6aa985c8d8f26fae0184bfa1f6ac58dd973f87e8a30177e5\n",
            "  Stored in directory: /root/.cache/pip/wheels/0b/90/c0/01de724414ef122bd05f056541fb6a0ecf47c7ca655f8b3c0f\n",
            "Successfully built pyspark\n",
            "Installing collected packages: py4j, pyspark\n",
            "Successfully installed py4j-0.10.9 pyspark-3.1.1\n"
          ],
          "name": "stdout"
        },
        {
          "output_type": "error",
          "ename": "NameError",
          "evalue": "ignored",
          "traceback": [
            "\u001b[0;31m---------------------------------------------------------------------------\u001b[0m",
            "\u001b[0;31mNameError\u001b[0m                                 Traceback (most recent call last)",
            "\u001b[0;32m<ipython-input-1-fa8690d9c36f>\u001b[0m in \u001b[0;36m<module>\u001b[0;34m()\u001b[0m\n\u001b[1;32m      1\u001b[0m \u001b[0mget_ipython\u001b[0m\u001b[0;34m(\u001b[0m\u001b[0;34m)\u001b[0m\u001b[0;34m.\u001b[0m\u001b[0msystem\u001b[0m\u001b[0;34m(\u001b[0m\u001b[0;34m'pip install pyspark'\u001b[0m\u001b[0;34m)\u001b[0m\u001b[0;34m\u001b[0m\u001b[0;34m\u001b[0m\u001b[0m\n\u001b[1;32m      2\u001b[0m \u001b[0;34m\u001b[0m\u001b[0m\n\u001b[0;32m----> 3\u001b[0;31m \u001b[0mfdf\u001b[0m \u001b[0;34m=\u001b[0m \u001b[0mspark\u001b[0m\u001b[0;34m.\u001b[0m\u001b[0mread\u001b[0m\u001b[0;34m.\u001b[0m\u001b[0mload\u001b[0m\u001b[0;34m(\u001b[0m\u001b[0;34m\"crime-incident-reports-2015.csv\"\u001b[0m\u001b[0;34m,\u001b[0m\u001b[0mformat\u001b[0m\u001b[0;34m=\u001b[0m\u001b[0;34m\"csv\"\u001b[0m\u001b[0;34m,\u001b[0m \u001b[0msep\u001b[0m\u001b[0;34m=\u001b[0m\u001b[0;34m\",\"\u001b[0m\u001b[0;34m,\u001b[0m \u001b[0minferSchema\u001b[0m\u001b[0;34m=\u001b[0m\u001b[0;34m\"true\"\u001b[0m\u001b[0;34m,\u001b[0m \u001b[0mheader\u001b[0m\u001b[0;34m=\u001b[0m\u001b[0;34m\"true\"\u001b[0m\u001b[0;34m)\u001b[0m\u001b[0;34m\u001b[0m\u001b[0;34m\u001b[0m\u001b[0m\n\u001b[0m",
            "\u001b[0;31mNameError\u001b[0m: name 'spark' is not defined"
          ]
        }
      ]
    },
    {
      "cell_type": "code",
      "metadata": {
        "id": "6LTbMHDatAMH"
      },
      "source": [
        "import pyspark\n",
        "import pandas as pd\n",
        "#from pyspark.sql import SparkSession\n",
        "#from pyspark.sql.types import StructType,StructField, StringType, IntegerType \n",
        "#from pyspark.sql.types import ArrayType, DoubleType, BooleanType\n",
        "#from pyspark.sql.functions import col,array_contains\n",
        "#fdf = spark.read.load(\"crime-incident-reports-2015.csv\",format=\"csv\", sep=\",\", inferSchema=\"true\", header=\"true\")"
      ],
      "execution_count": 18,
      "outputs": []
    },
    {
      "cell_type": "code",
      "metadata": {
        "id": "846b0PEpwBkL"
      },
      "source": [
        "#spark = SparkSession.builder.appName('SparkByExamples.com').getOrCreate()\n"
      ],
      "execution_count": 5,
      "outputs": []
    },
    {
      "cell_type": "code",
      "metadata": {
        "id": "S7gbjp1UwGBm"
      },
      "source": [
        "df1 = spark.read.csv(\"/content/drive/MyDrive/Boston Crime Data/crime-incident-reports-2015.csv\")\n",
        "df2 = spark.read.csv(\"/content/drive/MyDrive/Boston Crime Data/crime-incident-reports-2016.csv\")\n",
        "df3 = spark.read.csv(\"/content/drive/MyDrive/Boston Crime Data/crime-incident-reports-2017.csv\")\n",
        "df4 = spark.read.csv(\"/content/drive/MyDrive/Boston Crime Data/crime-incident-reports-2018.csv\")\n",
        "df5 = spark.read.csv(\"/content/drive/MyDrive/Boston Crime Data/crime-incident-reports-2019.csv\")\n",
        "df6 = spark.read.csv(\"/content/drive/MyDrive/Boston Crime Data/crime-incident-reports-2020.csv\")\n",
        "df6 = spark.read.csv(\"/content/drive/MyDrive/Boston Crime Data/crime-incident-reports-2021.csv\")\n",
        "union_data = df1.unionAll(df2).unionAll(df3).unionAll(df4)\n"
      ],
      "execution_count": 23,
      "outputs": []
    },
    {
      "cell_type": "code",
      "metadata": {
        "id": "TkJq15wj6xH4",
        "outputId": "0f866d00-4b57-404c-9b32-6a69113f3e30",
        "colab": {
          "base_uri": "https://localhost:8080/"
        }
      },
      "source": [
        "union_data.show()"
      ],
      "execution_count": 24,
      "outputs": [
        {
          "output_type": "stream",
          "text": [
            "+---------------+------------+-------------------+--------------------+--------+--------------+--------+-------------------+----+-----+-----------+----+----------+-------------+-----------+------------+--------------------+\n",
            "|            _c0|         _c1|                _c2|                 _c3|     _c4|           _c5|     _c6|                _c7| _c8|  _c9|       _c10|_c11|      _c12|         _c13|       _c14|        _c15|                _c16|\n",
            "+---------------+------------+-------------------+--------------------+--------+--------------+--------+-------------------+----+-----+-----------+----+----------+-------------+-----------+------------+--------------------+\n",
            "|INCIDENT_NUMBER|OFFENSE_CODE| OFFENSE_CODE_GROUP| OFFENSE_DESCRIPTION|DISTRICT|REPORTING_AREA|SHOOTING|   OCCURRED_ON_DATE|YEAR|MONTH|DAY_OF_WEEK|HOUR|  UCR_PART|       STREET|        Lat|        Long|            Location|\n",
            "|     I192068249|       02647|              Other|THREATS TO DO BOD...|      B2|           280|    null|2015-08-28 10:20:00|2015|    8|     Friday|  10|  Part Two|WASHINGTON ST|42.33011862|-71.08425106|(42.33011862, -71...|\n",
            "|     I192061894|       01106|   Confidence Games|FRAUD - CREDIT CA...|     C11|           356|    null|2015-08-20 00:00:00|2015|    8|   Thursday|   0|  Part Two|   CHARLES ST|42.30060543|-71.06126785|(42.30060543, -71...|\n",
            "|     I192038828|       01107|              Fraud|FRAUD - IMPERSONA...|      A1|           172|    null|2015-11-02 12:24:00|2015|   11|     Monday|  12|  Part Two|    ALBANY ST|42.33428841|-71.07239518|(42.33428841, -71...|\n",
            "|     I192008877|       01107|              Fraud|FRAUD - IMPERSONA...|     E18|           525|    null|2015-07-31 10:00:00|2015|    7|     Friday|  10|  Part Two|   WINGATE RD| 42.2370095|-71.12956606|(42.23700950, -71...|\n",
            "|     I182090828|       01102|              Fraud|FRAUD - FALSE PRE...|      D4|           159|    null|2015-12-01 12:00:00|2015|   12|    Tuesday|  12|  Part Two|     UPTON ST|42.34243222|-71.07225766|(42.34243222, -71...|\n",
            "|     I182090458|       01107|              Fraud|FRAUD - IMPERSONA...|     C11|           336|    null|2015-12-04 00:00:00|2015|   12|     Friday|   0|  Part Two|    NORTON ST|42.30626521|-71.06864556|(42.30626521, -71...|\n",
            "|     I182081063|       01107|              Fraud|FRAUD - IMPERSONA...|     E18|           478|    null|2015-12-01 12:25:00|2015|   12|    Tuesday|  12|  Part Two|RUSKINDALE RD|42.26889666| -71.1081375|(42.26889666, -71...|\n",
            "|     I182074094|       02629|         Harassment|          HARASSMENT|      B2|           258|    null|2015-09-14 09:31:00|2015|    9|     Monday|   9|  Part Two|  COLUMBIA RD|42.31514179|-71.06704709|(42.31514179, -71...|\n",
            "|     I182066132|       02629|         Harassment|          HARASSMENT|      B3|           455|    null|2015-07-31 23:27:00|2015|    7|     Friday|  23|  Part Two| RADCLIFFE ST|42.30020194|-71.07835353|(42.30020194, -71...|\n",
            "|     I182061268|       03201|      Property Lost|     PROPERTY - LOST|    null|              |    null|2015-06-15 00:00:00|2015|    6|     Monday|   0|Part Three|      BERNARD|         -1|          -1|(-1.00000000, -1....|\n",
            "|     I182054888|       02670|Criminal Harassment| CRIMINAL HARASSMENT|      B2|           326|    null|2015-07-12 15:37:00|2015|    7|     Sunday|  15|  Part Two|   FAYSTON ST|42.31224327|-71.07549901|(42.31224327, -71...|\n",
            "|     I182054888|       03170|              Other|INTIMIDATING WITNESS|      B2|           326|    null|2015-07-12 15:37:00|2015|    7|     Sunday|  15|Part Three|   FAYSTON ST|42.31224327|-71.07549901|(42.31224327, -71...|\n",
            "|     I182054888|       02647|              Other|THREATS TO DO BOD...|      B2|           326|    null|2015-07-12 15:37:00|2015|    7|     Sunday|  15|  Part Two|   FAYSTON ST|42.31224327|-71.07549901|(42.31224327, -71...|\n",
            "|     I182052842|       01102|              Fraud|FRAUD - FALSE PRE...|      D4|           149|    null|2015-12-20 14:00:00|2015|   12|     Sunday|  14|  Part Two| DARTMOUTH ST|42.34767067|-71.07620742|(42.34767067, -71...|\n",
            "|     I182052842|       00619|            Larceny|  LARCENY ALL OTHERS|      D4|           149|    null|2015-12-20 14:00:00|2015|   12|     Sunday|  14|  Part One| DARTMOUTH ST|42.34767067|-71.07620742|(42.34767067, -71...|\n",
            "|     I182044114|       01107|              Fraud|FRAUD - IMPERSONA...|     E18|           486|    null|2015-07-01 12:00:00|2015|    7|  Wednesday|  12|  Part Two|  OAKCREST RD|42.26452149|-71.10429211|(42.26452149, -71...|\n",
            "|     I182039429|       01107|              Fraud|FRAUD - IMPERSONA...|      C6|           226|    null|2015-11-26 08:00:00|2015|   11|   Thursday|   8|  Part Two|  E FOURTH ST|       null|        null|(0.00000000, 0.00...|\n",
            "|     I182032622|       02647|              Other|THREATS TO DO BOD...|      D4|           129|    null|2015-10-10 13:17:00|2015|   10|   Saturday|  13|  Part Two|  BERKELEY ST|42.34997636|-71.07242619|(42.34997636, -71...|\n",
            "|     I182031354|       01102|              Fraud|FRAUD - FALSE PRE...|     D14|           791|    null|2015-09-15 11:00:00|2015|    9|    Tuesday|  11|  Part Two|   ALLSTON ST|42.34438811| -71.1405858|(42.34438811, -71...|\n",
            "+---------------+------------+-------------------+--------------------+--------+--------------+--------+-------------------+----+-----+-----------+----+----------+-------------+-----------+------------+--------------------+\n",
            "only showing top 20 rows\n",
            "\n"
          ],
          "name": "stdout"
        }
      ]
    },
    {
      "cell_type": "code",
      "metadata": {
        "colab": {
          "base_uri": "https://localhost:8080/"
        },
        "id": "QYtgSGVScMgv",
        "outputId": "a203068e-a1ca-46d3-bb8e-233089a3c4a5"
      },
      "source": [
        "union_data.show()"
      ],
      "execution_count": 26,
      "outputs": [
        {
          "output_type": "stream",
          "text": [
            "+---------------+------------+-------------------+--------------------+--------+--------------+--------+-------------------+----+-----+-----------+----+----------+-------------+-----------+------------+--------------------+\n",
            "|            _c0|         _c1|                _c2|                 _c3|     _c4|           _c5|     _c6|                _c7| _c8|  _c9|       _c10|_c11|      _c12|         _c13|       _c14|        _c15|                _c16|\n",
            "+---------------+------------+-------------------+--------------------+--------+--------------+--------+-------------------+----+-----+-----------+----+----------+-------------+-----------+------------+--------------------+\n",
            "|INCIDENT_NUMBER|OFFENSE_CODE| OFFENSE_CODE_GROUP| OFFENSE_DESCRIPTION|DISTRICT|REPORTING_AREA|SHOOTING|   OCCURRED_ON_DATE|YEAR|MONTH|DAY_OF_WEEK|HOUR|  UCR_PART|       STREET|        Lat|        Long|            Location|\n",
            "|     I192068249|       02647|              Other|THREATS TO DO BOD...|      B2|           280|    null|2015-08-28 10:20:00|2015|    8|     Friday|  10|  Part Two|WASHINGTON ST|42.33011862|-71.08425106|(42.33011862, -71...|\n",
            "|     I192061894|       01106|   Confidence Games|FRAUD - CREDIT CA...|     C11|           356|    null|2015-08-20 00:00:00|2015|    8|   Thursday|   0|  Part Two|   CHARLES ST|42.30060543|-71.06126785|(42.30060543, -71...|\n",
            "|     I192038828|       01107|              Fraud|FRAUD - IMPERSONA...|      A1|           172|    null|2015-11-02 12:24:00|2015|   11|     Monday|  12|  Part Two|    ALBANY ST|42.33428841|-71.07239518|(42.33428841, -71...|\n",
            "|     I192008877|       01107|              Fraud|FRAUD - IMPERSONA...|     E18|           525|    null|2015-07-31 10:00:00|2015|    7|     Friday|  10|  Part Two|   WINGATE RD| 42.2370095|-71.12956606|(42.23700950, -71...|\n",
            "|     I182090828|       01102|              Fraud|FRAUD - FALSE PRE...|      D4|           159|    null|2015-12-01 12:00:00|2015|   12|    Tuesday|  12|  Part Two|     UPTON ST|42.34243222|-71.07225766|(42.34243222, -71...|\n",
            "|     I182090458|       01107|              Fraud|FRAUD - IMPERSONA...|     C11|           336|    null|2015-12-04 00:00:00|2015|   12|     Friday|   0|  Part Two|    NORTON ST|42.30626521|-71.06864556|(42.30626521, -71...|\n",
            "|     I182081063|       01107|              Fraud|FRAUD - IMPERSONA...|     E18|           478|    null|2015-12-01 12:25:00|2015|   12|    Tuesday|  12|  Part Two|RUSKINDALE RD|42.26889666| -71.1081375|(42.26889666, -71...|\n",
            "|     I182074094|       02629|         Harassment|          HARASSMENT|      B2|           258|    null|2015-09-14 09:31:00|2015|    9|     Monday|   9|  Part Two|  COLUMBIA RD|42.31514179|-71.06704709|(42.31514179, -71...|\n",
            "|     I182066132|       02629|         Harassment|          HARASSMENT|      B3|           455|    null|2015-07-31 23:27:00|2015|    7|     Friday|  23|  Part Two| RADCLIFFE ST|42.30020194|-71.07835353|(42.30020194, -71...|\n",
            "|     I182061268|       03201|      Property Lost|     PROPERTY - LOST|    null|              |    null|2015-06-15 00:00:00|2015|    6|     Monday|   0|Part Three|      BERNARD|         -1|          -1|(-1.00000000, -1....|\n",
            "|     I182054888|       02670|Criminal Harassment| CRIMINAL HARASSMENT|      B2|           326|    null|2015-07-12 15:37:00|2015|    7|     Sunday|  15|  Part Two|   FAYSTON ST|42.31224327|-71.07549901|(42.31224327, -71...|\n",
            "|     I182054888|       03170|              Other|INTIMIDATING WITNESS|      B2|           326|    null|2015-07-12 15:37:00|2015|    7|     Sunday|  15|Part Three|   FAYSTON ST|42.31224327|-71.07549901|(42.31224327, -71...|\n",
            "|     I182054888|       02647|              Other|THREATS TO DO BOD...|      B2|           326|    null|2015-07-12 15:37:00|2015|    7|     Sunday|  15|  Part Two|   FAYSTON ST|42.31224327|-71.07549901|(42.31224327, -71...|\n",
            "|     I182052842|       01102|              Fraud|FRAUD - FALSE PRE...|      D4|           149|    null|2015-12-20 14:00:00|2015|   12|     Sunday|  14|  Part Two| DARTMOUTH ST|42.34767067|-71.07620742|(42.34767067, -71...|\n",
            "|     I182052842|       00619|            Larceny|  LARCENY ALL OTHERS|      D4|           149|    null|2015-12-20 14:00:00|2015|   12|     Sunday|  14|  Part One| DARTMOUTH ST|42.34767067|-71.07620742|(42.34767067, -71...|\n",
            "|     I182044114|       01107|              Fraud|FRAUD - IMPERSONA...|     E18|           486|    null|2015-07-01 12:00:00|2015|    7|  Wednesday|  12|  Part Two|  OAKCREST RD|42.26452149|-71.10429211|(42.26452149, -71...|\n",
            "|     I182039429|       01107|              Fraud|FRAUD - IMPERSONA...|      C6|           226|    null|2015-11-26 08:00:00|2015|   11|   Thursday|   8|  Part Two|  E FOURTH ST|       null|        null|(0.00000000, 0.00...|\n",
            "|     I182032622|       02647|              Other|THREATS TO DO BOD...|      D4|           129|    null|2015-10-10 13:17:00|2015|   10|   Saturday|  13|  Part Two|  BERKELEY ST|42.34997636|-71.07242619|(42.34997636, -71...|\n",
            "|     I182031354|       01102|              Fraud|FRAUD - FALSE PRE...|     D14|           791|    null|2015-09-15 11:00:00|2015|    9|    Tuesday|  11|  Part Two|   ALLSTON ST|42.34438811| -71.1405858|(42.34438811, -71...|\n",
            "+---------------+------------+-------------------+--------------------+--------+--------------+--------+-------------------+----+-----+-----------+----+----------+-------------+-----------+------------+--------------------+\n",
            "only showing top 20 rows\n",
            "\n"
          ],
          "name": "stdout"
        }
      ]
    },
    {
      "cell_type": "code",
      "metadata": {
        "colab": {
          "base_uri": "https://localhost:8080/",
          "height": 624
        },
        "id": "5BwJuHD2Kd_h",
        "outputId": "2310ac10-b4eb-425c-bd87-2616c8784516"
      },
      "source": [
        "union_data.describe().toPandas().transpose()\n"
      ],
      "execution_count": 25,
      "outputs": [
        {
          "output_type": "execute_result",
          "data": {
            "text/html": [
              "<div>\n",
              "<style scoped>\n",
              "    .dataframe tbody tr th:only-of-type {\n",
              "        vertical-align: middle;\n",
              "    }\n",
              "\n",
              "    .dataframe tbody tr th {\n",
              "        vertical-align: top;\n",
              "    }\n",
              "\n",
              "    .dataframe thead th {\n",
              "        text-align: right;\n",
              "    }\n",
              "</style>\n",
              "<table border=\"1\" class=\"dataframe\">\n",
              "  <thead>\n",
              "    <tr style=\"text-align: right;\">\n",
              "      <th></th>\n",
              "      <th>0</th>\n",
              "      <th>1</th>\n",
              "      <th>2</th>\n",
              "      <th>3</th>\n",
              "      <th>4</th>\n",
              "    </tr>\n",
              "  </thead>\n",
              "  <tbody>\n",
              "    <tr>\n",
              "      <th>summary</th>\n",
              "      <td>count</td>\n",
              "      <td>mean</td>\n",
              "      <td>stddev</td>\n",
              "      <td>min</td>\n",
              "      <td>max</td>\n",
              "    </tr>\n",
              "    <tr>\n",
              "      <th>_c0</th>\n",
              "      <td>353257</td>\n",
              "      <td>None</td>\n",
              "      <td>None</td>\n",
              "      <td>I010370257-00</td>\n",
              "      <td>INCIDENT_NUMBER</td>\n",
              "    </tr>\n",
              "    <tr>\n",
              "      <th>_c1</th>\n",
              "      <td>353257</td>\n",
              "      <td>2318.6886650644155</td>\n",
              "      <td>1185.3273469951023</td>\n",
              "      <td>00111</td>\n",
              "      <td>OFFENSE_CODE</td>\n",
              "    </tr>\n",
              "    <tr>\n",
              "      <th>_c2</th>\n",
              "      <td>353257</td>\n",
              "      <td>None</td>\n",
              "      <td>None</td>\n",
              "      <td>Aggravated Assault</td>\n",
              "      <td>Warrant Arrests</td>\n",
              "    </tr>\n",
              "    <tr>\n",
              "      <th>_c3</th>\n",
              "      <td>353257</td>\n",
              "      <td>None</td>\n",
              "      <td>None</td>\n",
              "      <td>A&amp;B HANDS, FEET, ETC.  - MED. ATTENTION REQ.</td>\n",
              "      <td>WEAPON - OTHER - OTHER VIOLATION</td>\n",
              "    </tr>\n",
              "    <tr>\n",
              "      <th>_c4</th>\n",
              "      <td>351430</td>\n",
              "      <td>None</td>\n",
              "      <td>None</td>\n",
              "      <td>A1</td>\n",
              "      <td>E5</td>\n",
              "    </tr>\n",
              "    <tr>\n",
              "      <th>_c5</th>\n",
              "      <td>353257</td>\n",
              "      <td>384.54719403941095</td>\n",
              "      <td>241.8431942724011</td>\n",
              "      <td></td>\n",
              "      <td>REPORTING_AREA</td>\n",
              "    </tr>\n",
              "    <tr>\n",
              "      <th>_c6</th>\n",
              "      <td>1459</td>\n",
              "      <td>None</td>\n",
              "      <td>None</td>\n",
              "      <td>SHOOTING</td>\n",
              "      <td>Y</td>\n",
              "    </tr>\n",
              "    <tr>\n",
              "      <th>_c7</th>\n",
              "      <td>353257</td>\n",
              "      <td>None</td>\n",
              "      <td>None</td>\n",
              "      <td>2015-06-15 00:00:00</td>\n",
              "      <td>OCCURRED_ON_DATE</td>\n",
              "    </tr>\n",
              "    <tr>\n",
              "      <th>_c8</th>\n",
              "      <td>353257</td>\n",
              "      <td>2016.6950174520812</td>\n",
              "      <td>1.036961986645097</td>\n",
              "      <td>2015</td>\n",
              "      <td>YEAR</td>\n",
              "    </tr>\n",
              "    <tr>\n",
              "      <th>_c9</th>\n",
              "      <td>353257</td>\n",
              "      <td>6.958058388746876</td>\n",
              "      <td>3.3268346235849657</td>\n",
              "      <td>1</td>\n",
              "      <td>MONTH</td>\n",
              "    </tr>\n",
              "    <tr>\n",
              "      <th>_c10</th>\n",
              "      <td>353257</td>\n",
              "      <td>None</td>\n",
              "      <td>None</td>\n",
              "      <td>DAY_OF_WEEK</td>\n",
              "      <td>Wednesday</td>\n",
              "    </tr>\n",
              "    <tr>\n",
              "      <th>_c11</th>\n",
              "      <td>353257</td>\n",
              "      <td>13.098091169784828</td>\n",
              "      <td>6.298344900954269</td>\n",
              "      <td>0</td>\n",
              "      <td>HOUR</td>\n",
              "    </tr>\n",
              "    <tr>\n",
              "      <th>_c12</th>\n",
              "      <td>353160</td>\n",
              "      <td>None</td>\n",
              "      <td>None</td>\n",
              "      <td>Other</td>\n",
              "      <td>UCR_PART</td>\n",
              "    </tr>\n",
              "    <tr>\n",
              "      <th>_c13</th>\n",
              "      <td>342052</td>\n",
              "      <td>54.0</td>\n",
              "      <td>0.0</td>\n",
              "      <td>ALBANY ST</td>\n",
              "      <td>ZELLER ST</td>\n",
              "    </tr>\n",
              "    <tr>\n",
              "      <th>_c14</th>\n",
              "      <td>330727</td>\n",
              "      <td>42.212353218559436</td>\n",
              "      <td>2.1794916840757637</td>\n",
              "      <td>-1</td>\n",
              "      <td>Lat</td>\n",
              "    </tr>\n",
              "    <tr>\n",
              "      <th>_c15</th>\n",
              "      <td>330727</td>\n",
              "      <td>-70.90510702845228</td>\n",
              "      <td>3.5255374068055874</td>\n",
              "      <td>-1</td>\n",
              "      <td>Long</td>\n",
              "    </tr>\n",
              "    <tr>\n",
              "      <th>_c16</th>\n",
              "      <td>353257</td>\n",
              "      <td>None</td>\n",
              "      <td>None</td>\n",
              "      <td>(-1.00000000, -1.00000000)</td>\n",
              "      <td>Location</td>\n",
              "    </tr>\n",
              "  </tbody>\n",
              "</table>\n",
              "</div>"
            ],
            "text/plain": [
              "              0  ...                                 4\n",
              "summary   count  ...                               max\n",
              "_c0      353257  ...                   INCIDENT_NUMBER\n",
              "_c1      353257  ...                      OFFENSE_CODE\n",
              "_c2      353257  ...                   Warrant Arrests\n",
              "_c3      353257  ...  WEAPON - OTHER - OTHER VIOLATION\n",
              "_c4      351430  ...                                E5\n",
              "_c5      353257  ...                    REPORTING_AREA\n",
              "_c6        1459  ...                                 Y\n",
              "_c7      353257  ...                  OCCURRED_ON_DATE\n",
              "_c8      353257  ...                              YEAR\n",
              "_c9      353257  ...                             MONTH\n",
              "_c10     353257  ...                         Wednesday\n",
              "_c11     353257  ...                              HOUR\n",
              "_c12     353160  ...                          UCR_PART\n",
              "_c13     342052  ...                         ZELLER ST\n",
              "_c14     330727  ...                               Lat\n",
              "_c15     330727  ...                              Long\n",
              "_c16     353257  ...                          Location\n",
              "\n",
              "[18 rows x 5 columns]"
            ]
          },
          "metadata": {
            "tags": []
          },
          "execution_count": 25
        }
      ]
    },
    {
      "cell_type": "code",
      "metadata": {
        "id": "aUMgYCKA9Ile"
      },
      "source": [
        "columns_to_drop = ['INCIDENT_NUMBER', 'OFFENSE_CODE']\n",
        "\n",
        "union_data = union_data.drop(*columns_to_drop)"
      ],
      "execution_count": 38,
      "outputs": []
    },
    {
      "cell_type": "code",
      "metadata": {
        "id": "-9N-Z4RB9v-O"
      },
      "source": [
        "#union_data.drop('INCIDENT_NUMBER').collect()\n",
        "\n",
        "df11 = union_data.drop('OFFENSE_CODE')\n"
      ],
      "execution_count": 52,
      "outputs": []
    },
    {
      "cell_type": "code",
      "metadata": {
        "id": "J0uvJ1AYAKBu",
        "outputId": "61c03133-9f81-4ecd-a49e-1298cf0fdb23",
        "colab": {
          "base_uri": "https://localhost:8080/"
        }
      },
      "source": [
        "df11.show()"
      ],
      "execution_count": 53,
      "outputs": [
        {
          "output_type": "stream",
          "text": [
            "+---------------+------------+-------------------+--------------------+--------+--------------+--------+-------------------+----+-----+-----------+----+----------+-------------+-----------+------------+--------------------+\n",
            "|            _c0|         _c1|                _c2|                 _c3|     _c4|           _c5|     _c6|                _c7| _c8|  _c9|       _c10|_c11|      _c12|         _c13|       _c14|        _c15|                _c16|\n",
            "+---------------+------------+-------------------+--------------------+--------+--------------+--------+-------------------+----+-----+-----------+----+----------+-------------+-----------+------------+--------------------+\n",
            "|INCIDENT_NUMBER|OFFENSE_CODE| OFFENSE_CODE_GROUP| OFFENSE_DESCRIPTION|DISTRICT|REPORTING_AREA|SHOOTING|   OCCURRED_ON_DATE|YEAR|MONTH|DAY_OF_WEEK|HOUR|  UCR_PART|       STREET|        Lat|        Long|            Location|\n",
            "|     I192068249|       02647|              Other|THREATS TO DO BOD...|      B2|           280|    null|2015-08-28 10:20:00|2015|    8|     Friday|  10|  Part Two|WASHINGTON ST|42.33011862|-71.08425106|(42.33011862, -71...|\n",
            "|     I192061894|       01106|   Confidence Games|FRAUD - CREDIT CA...|     C11|           356|    null|2015-08-20 00:00:00|2015|    8|   Thursday|   0|  Part Two|   CHARLES ST|42.30060543|-71.06126785|(42.30060543, -71...|\n",
            "|     I192038828|       01107|              Fraud|FRAUD - IMPERSONA...|      A1|           172|    null|2015-11-02 12:24:00|2015|   11|     Monday|  12|  Part Two|    ALBANY ST|42.33428841|-71.07239518|(42.33428841, -71...|\n",
            "|     I192008877|       01107|              Fraud|FRAUD - IMPERSONA...|     E18|           525|    null|2015-07-31 10:00:00|2015|    7|     Friday|  10|  Part Two|   WINGATE RD| 42.2370095|-71.12956606|(42.23700950, -71...|\n",
            "|     I182090828|       01102|              Fraud|FRAUD - FALSE PRE...|      D4|           159|    null|2015-12-01 12:00:00|2015|   12|    Tuesday|  12|  Part Two|     UPTON ST|42.34243222|-71.07225766|(42.34243222, -71...|\n",
            "|     I182090458|       01107|              Fraud|FRAUD - IMPERSONA...|     C11|           336|    null|2015-12-04 00:00:00|2015|   12|     Friday|   0|  Part Two|    NORTON ST|42.30626521|-71.06864556|(42.30626521, -71...|\n",
            "|     I182081063|       01107|              Fraud|FRAUD - IMPERSONA...|     E18|           478|    null|2015-12-01 12:25:00|2015|   12|    Tuesday|  12|  Part Two|RUSKINDALE RD|42.26889666| -71.1081375|(42.26889666, -71...|\n",
            "|     I182074094|       02629|         Harassment|          HARASSMENT|      B2|           258|    null|2015-09-14 09:31:00|2015|    9|     Monday|   9|  Part Two|  COLUMBIA RD|42.31514179|-71.06704709|(42.31514179, -71...|\n",
            "|     I182066132|       02629|         Harassment|          HARASSMENT|      B3|           455|    null|2015-07-31 23:27:00|2015|    7|     Friday|  23|  Part Two| RADCLIFFE ST|42.30020194|-71.07835353|(42.30020194, -71...|\n",
            "|     I182061268|       03201|      Property Lost|     PROPERTY - LOST|    null|              |    null|2015-06-15 00:00:00|2015|    6|     Monday|   0|Part Three|      BERNARD|         -1|          -1|(-1.00000000, -1....|\n",
            "|     I182054888|       02670|Criminal Harassment| CRIMINAL HARASSMENT|      B2|           326|    null|2015-07-12 15:37:00|2015|    7|     Sunday|  15|  Part Two|   FAYSTON ST|42.31224327|-71.07549901|(42.31224327, -71...|\n",
            "|     I182054888|       03170|              Other|INTIMIDATING WITNESS|      B2|           326|    null|2015-07-12 15:37:00|2015|    7|     Sunday|  15|Part Three|   FAYSTON ST|42.31224327|-71.07549901|(42.31224327, -71...|\n",
            "|     I182054888|       02647|              Other|THREATS TO DO BOD...|      B2|           326|    null|2015-07-12 15:37:00|2015|    7|     Sunday|  15|  Part Two|   FAYSTON ST|42.31224327|-71.07549901|(42.31224327, -71...|\n",
            "|     I182052842|       01102|              Fraud|FRAUD - FALSE PRE...|      D4|           149|    null|2015-12-20 14:00:00|2015|   12|     Sunday|  14|  Part Two| DARTMOUTH ST|42.34767067|-71.07620742|(42.34767067, -71...|\n",
            "|     I182052842|       00619|            Larceny|  LARCENY ALL OTHERS|      D4|           149|    null|2015-12-20 14:00:00|2015|   12|     Sunday|  14|  Part One| DARTMOUTH ST|42.34767067|-71.07620742|(42.34767067, -71...|\n",
            "|     I182044114|       01107|              Fraud|FRAUD - IMPERSONA...|     E18|           486|    null|2015-07-01 12:00:00|2015|    7|  Wednesday|  12|  Part Two|  OAKCREST RD|42.26452149|-71.10429211|(42.26452149, -71...|\n",
            "|     I182039429|       01107|              Fraud|FRAUD - IMPERSONA...|      C6|           226|    null|2015-11-26 08:00:00|2015|   11|   Thursday|   8|  Part Two|  E FOURTH ST|       null|        null|(0.00000000, 0.00...|\n",
            "|     I182032622|       02647|              Other|THREATS TO DO BOD...|      D4|           129|    null|2015-10-10 13:17:00|2015|   10|   Saturday|  13|  Part Two|  BERKELEY ST|42.34997636|-71.07242619|(42.34997636, -71...|\n",
            "|     I182031354|       01102|              Fraud|FRAUD - FALSE PRE...|     D14|           791|    null|2015-09-15 11:00:00|2015|    9|    Tuesday|  11|  Part Two|   ALLSTON ST|42.34438811| -71.1405858|(42.34438811, -71...|\n",
            "+---------------+------------+-------------------+--------------------+--------+--------------+--------+-------------------+----+-----+-----------+----+----------+-------------+-----------+------------+--------------------+\n",
            "only showing top 20 rows\n",
            "\n"
          ],
          "name": "stdout"
        }
      ]
    },
    {
      "cell_type": "code",
      "metadata": {
        "id": "hohSaSre_Eoa"
      },
      "source": [
        "drop_column_list = [\"INCIDENT_NUMBER\"]\n",
        "union_data = union_data.select([column for column in union_data.columns if column not in drop_column_list])"
      ],
      "execution_count": 42,
      "outputs": []
    },
    {
      "cell_type": "code",
      "metadata": {
        "id": "fef6wcxV9hb0",
        "outputId": "65423802-94be-42ed-bf84-b9175ed8f873",
        "colab": {
          "base_uri": "https://localhost:8080/"
        }
      },
      "source": [
        "union_data.show()"
      ],
      "execution_count": 43,
      "outputs": [
        {
          "output_type": "stream",
          "text": [
            "+---------------+------------+-------------------+--------------------+--------+--------------+--------+-------------------+----+-----+-----------+----+----------+-------------+-----------+------------+--------------------+\n",
            "|            _c0|         _c1|                _c2|                 _c3|     _c4|           _c5|     _c6|                _c7| _c8|  _c9|       _c10|_c11|      _c12|         _c13|       _c14|        _c15|                _c16|\n",
            "+---------------+------------+-------------------+--------------------+--------+--------------+--------+-------------------+----+-----+-----------+----+----------+-------------+-----------+------------+--------------------+\n",
            "|INCIDENT_NUMBER|OFFENSE_CODE| OFFENSE_CODE_GROUP| OFFENSE_DESCRIPTION|DISTRICT|REPORTING_AREA|SHOOTING|   OCCURRED_ON_DATE|YEAR|MONTH|DAY_OF_WEEK|HOUR|  UCR_PART|       STREET|        Lat|        Long|            Location|\n",
            "|     I192068249|       02647|              Other|THREATS TO DO BOD...|      B2|           280|    null|2015-08-28 10:20:00|2015|    8|     Friday|  10|  Part Two|WASHINGTON ST|42.33011862|-71.08425106|(42.33011862, -71...|\n",
            "|     I192061894|       01106|   Confidence Games|FRAUD - CREDIT CA...|     C11|           356|    null|2015-08-20 00:00:00|2015|    8|   Thursday|   0|  Part Two|   CHARLES ST|42.30060543|-71.06126785|(42.30060543, -71...|\n",
            "|     I192038828|       01107|              Fraud|FRAUD - IMPERSONA...|      A1|           172|    null|2015-11-02 12:24:00|2015|   11|     Monday|  12|  Part Two|    ALBANY ST|42.33428841|-71.07239518|(42.33428841, -71...|\n",
            "|     I192008877|       01107|              Fraud|FRAUD - IMPERSONA...|     E18|           525|    null|2015-07-31 10:00:00|2015|    7|     Friday|  10|  Part Two|   WINGATE RD| 42.2370095|-71.12956606|(42.23700950, -71...|\n",
            "|     I182090828|       01102|              Fraud|FRAUD - FALSE PRE...|      D4|           159|    null|2015-12-01 12:00:00|2015|   12|    Tuesday|  12|  Part Two|     UPTON ST|42.34243222|-71.07225766|(42.34243222, -71...|\n",
            "|     I182090458|       01107|              Fraud|FRAUD - IMPERSONA...|     C11|           336|    null|2015-12-04 00:00:00|2015|   12|     Friday|   0|  Part Two|    NORTON ST|42.30626521|-71.06864556|(42.30626521, -71...|\n",
            "|     I182081063|       01107|              Fraud|FRAUD - IMPERSONA...|     E18|           478|    null|2015-12-01 12:25:00|2015|   12|    Tuesday|  12|  Part Two|RUSKINDALE RD|42.26889666| -71.1081375|(42.26889666, -71...|\n",
            "|     I182074094|       02629|         Harassment|          HARASSMENT|      B2|           258|    null|2015-09-14 09:31:00|2015|    9|     Monday|   9|  Part Two|  COLUMBIA RD|42.31514179|-71.06704709|(42.31514179, -71...|\n",
            "|     I182066132|       02629|         Harassment|          HARASSMENT|      B3|           455|    null|2015-07-31 23:27:00|2015|    7|     Friday|  23|  Part Two| RADCLIFFE ST|42.30020194|-71.07835353|(42.30020194, -71...|\n",
            "|     I182061268|       03201|      Property Lost|     PROPERTY - LOST|    null|              |    null|2015-06-15 00:00:00|2015|    6|     Monday|   0|Part Three|      BERNARD|         -1|          -1|(-1.00000000, -1....|\n",
            "|     I182054888|       02670|Criminal Harassment| CRIMINAL HARASSMENT|      B2|           326|    null|2015-07-12 15:37:00|2015|    7|     Sunday|  15|  Part Two|   FAYSTON ST|42.31224327|-71.07549901|(42.31224327, -71...|\n",
            "|     I182054888|       03170|              Other|INTIMIDATING WITNESS|      B2|           326|    null|2015-07-12 15:37:00|2015|    7|     Sunday|  15|Part Three|   FAYSTON ST|42.31224327|-71.07549901|(42.31224327, -71...|\n",
            "|     I182054888|       02647|              Other|THREATS TO DO BOD...|      B2|           326|    null|2015-07-12 15:37:00|2015|    7|     Sunday|  15|  Part Two|   FAYSTON ST|42.31224327|-71.07549901|(42.31224327, -71...|\n",
            "|     I182052842|       01102|              Fraud|FRAUD - FALSE PRE...|      D4|           149|    null|2015-12-20 14:00:00|2015|   12|     Sunday|  14|  Part Two| DARTMOUTH ST|42.34767067|-71.07620742|(42.34767067, -71...|\n",
            "|     I182052842|       00619|            Larceny|  LARCENY ALL OTHERS|      D4|           149|    null|2015-12-20 14:00:00|2015|   12|     Sunday|  14|  Part One| DARTMOUTH ST|42.34767067|-71.07620742|(42.34767067, -71...|\n",
            "|     I182044114|       01107|              Fraud|FRAUD - IMPERSONA...|     E18|           486|    null|2015-07-01 12:00:00|2015|    7|  Wednesday|  12|  Part Two|  OAKCREST RD|42.26452149|-71.10429211|(42.26452149, -71...|\n",
            "|     I182039429|       01107|              Fraud|FRAUD - IMPERSONA...|      C6|           226|    null|2015-11-26 08:00:00|2015|   11|   Thursday|   8|  Part Two|  E FOURTH ST|       null|        null|(0.00000000, 0.00...|\n",
            "|     I182032622|       02647|              Other|THREATS TO DO BOD...|      D4|           129|    null|2015-10-10 13:17:00|2015|   10|   Saturday|  13|  Part Two|  BERKELEY ST|42.34997636|-71.07242619|(42.34997636, -71...|\n",
            "|     I182031354|       01102|              Fraud|FRAUD - FALSE PRE...|     D14|           791|    null|2015-09-15 11:00:00|2015|    9|    Tuesday|  11|  Part Two|   ALLSTON ST|42.34438811| -71.1405858|(42.34438811, -71...|\n",
            "+---------------+------------+-------------------+--------------------+--------+--------------+--------+-------------------+----+-----+-----------+----+----------+-------------+-----------+------------+--------------------+\n",
            "only showing top 20 rows\n",
            "\n"
          ],
          "name": "stdout"
        }
      ]
    },
    {
      "cell_type": "code",
      "metadata": {
        "colab": {
          "base_uri": "https://localhost:8080/"
        },
        "id": "Wo-7gkzmKgne",
        "outputId": "55b8f7d1-aa27-4742-e762-39d3594f7b22"
      },
      "source": [
        "\n",
        "from pyspark.ml.feature import VectorAssembler\n",
        "from pyspark.ml.feature import StringIndexer\n",
        "\n",
        "from pyspark.ml.feature import StringIndexer\n",
        "from pyspark.ml import Pipeline\n",
        "\n",
        "indexers = [StringIndexer(inputCol=\"Origin\", outputCol=\"OriginIndex\"),StringIndexer(inputCol=\"Manufacturer\", outputCol=\"ManufactureIndex\") , StringIndexer(inputCol=\"Model\", outputCol=\"ModelIndex\")]\n",
        "\n",
        "\n",
        "pipeline = Pipeline(stages=indexers)\n",
        "car_df = pipeline.fit(car_df).transform(car_df)\n",
        "\n",
        "car_df.show()\n",
        "\n",
        "vectorAssembler = VectorAssembler(inputCols = ['Cylinders','Displacement','ManufactureIndex','ModelIndex','OriginIndex','Weight'], outputCol = 'features')\n",
        "vcar_df = vectorAssembler.transform(car_df)\n",
        "\n",
        "vcar_df = vcar_df.select(['features', 'Horsepower'])\n",
        "\n"
      ],
      "execution_count": null,
      "outputs": [
        {
          "output_type": "stream",
          "text": [
            "+---+------------+---------+------------+----------+-------------+--------------------+----------+----+-------+------+-----------+----------------+----------+\n",
            "|_c0|Acceleration|Cylinders|Displacement|Horsepower| Manufacturer|               Model|Model_Year| MPG| Origin|Weight|OriginIndex|ManufactureIndex|ModelIndex|\n",
            "+---+------------+---------+------------+----------+-------------+--------------------+----------+----+-------+------+-----------+----------------+----------+\n",
            "|  1|        12.0|        8|         307|       130|chevrolet    |chevrolet chevell...|        70|18.0|USA    |  3504|        0.0|             1.0|      26.0|\n",
            "|  2|        11.5|        8|         350|       165|buick        |buick skylark 320...|        70|15.0|USA    |  3693|        0.0|             9.0|      17.0|\n",
            "|  3|        11.0|        8|         318|       150|plymouth     |plymouth satellit...|        70|18.0|USA    |  3436|        0.0|             4.0|      77.0|\n",
            "|  4|        12.0|        8|         304|       150|amc          |amc rebel sst    ...|        70|16.0|USA    |  3433|        0.0|             2.0|      11.0|\n",
            "|  5|        10.5|        8|         302|       140|ford         |ford torino      ...|        70|17.0|USA    |  3449|        0.0|             0.0|      61.0|\n",
            "|  6|        10.0|        8|         429|       198|ford         |ford galaxie 500 ...|        70|15.0|USA    |  4341|        0.0|             0.0|      53.0|\n",
            "|  7|         9.0|        8|         454|       220|chevrolet    |chevrolet impala ...|        70|14.0|USA    |  4354|        0.0|             1.0|      29.0|\n",
            "|  8|         8.5|        8|         440|       215|plymouth     |plymouth fury iii...|        70|14.0|USA    |  4312|        0.0|             4.0|      75.0|\n",
            "|  9|        10.0|        8|         455|       225|pontiac      |pontiac catalina ...|        70|14.0|USA    |  4425|        0.0|             8.0|      81.0|\n",
            "| 10|         8.5|        8|         390|       190|amc          |amc ambassador dp...|        70|15.0|USA    |  3850|        0.0|             2.0|       6.0|\n",
            "| 11|        17.5|        4|         133|       115|citroen      |citroen ds-21 pal...|        70|14.0|France |  3090|        3.0|            17.0|      35.0|\n",
            "| 12|        11.5|        8|         350|       165|chevrolet    |chevrolet chevell...|        70|16.0|USA    |  4142|        0.0|             1.0|      25.0|\n",
            "| 13|        11.0|        8|         351|       153|ford         |ford torino (sw) ...|        70|17.0|USA    |  4034|        0.0|             0.0|      62.0|\n",
            "| 14|        10.5|        8|         383|       175|plymouth     |plymouth satellit...|        70|19.0|USA    |  4166|        0.0|             4.0|      78.0|\n",
            "| 15|        11.0|        8|         360|       175|amc          |amc rebel sst (sw...|        70|20.0|USA    |  3850|        0.0|             2.0|      12.0|\n",
            "| 16|        10.0|        8|         383|       170|dodge        |dodge challenger ...|        70|15.0|USA    |  3563|        0.0|             3.0|      41.0|\n",
            "| 17|         8.0|        8|         340|       160|plymouth     |plymouth 'cuda 34...|        70|14.0|USA    |  3609|        0.0|             4.0|      73.0|\n",
            "| 18|         8.0|        8|         302|       140|ford         |ford mustang boss...|        70|16.0|USA    |  3353|        0.0|             0.0|      57.0|\n",
            "| 19|         9.5|        8|         400|       150|chevrolet    |chevrolet monte c...|        70|15.0|USA    |  3761|        0.0|             1.0|      30.0|\n",
            "| 20|        10.0|        8|         455|       225|buick        |buick estate wago...|        70|14.0|USA    |  3086|        0.0|             9.0|      16.0|\n",
            "+---+------------+---------+------------+----------+-------------+--------------------+----------+----+-------+------+-----------+----------------+----------+\n",
            "only showing top 20 rows\n",
            "\n"
          ],
          "name": "stdout"
        }
      ]
    },
    {
      "cell_type": "code",
      "metadata": {
        "id": "zcWL3VP0KkIW"
      },
      "source": [
        "splits = vcar_df.randomSplit([0.9, 0.1])\n",
        "train_df = splits[0]\n",
        "test_df = splits[1]"
      ],
      "execution_count": null,
      "outputs": []
    },
    {
      "cell_type": "code",
      "metadata": {
        "colab": {
          "base_uri": "https://localhost:8080/"
        },
        "id": "OLH6Uy9QKnlZ",
        "outputId": "33d4fc6c-a45c-424e-f367-f528f3b10a8f"
      },
      "source": [
        "from pyspark.ml.regression import DecisionTreeRegressor\n",
        "from pyspark.ml.tuning import CrossValidator, ParamGridBuilder\n",
        "from pyspark.ml.feature import VectorAssembler\n",
        "\n",
        "vectorAssembler = VectorAssembler(inputCols = ['Cylinders','ManufactureIndex','ModelIndex','OriginIndex','Displacement','Weight'], outputCol = 'features')\n",
        "vcar_df = vectorAssembler.transform(car_df)\n",
        "\n",
        "dt = DecisionTreeRegressor(featuresCol ='features', labelCol = 'Horsepower')\n",
        "\n",
        "\n",
        "\n",
        "\n",
        "dt_model = dt.fit(train_df)\n",
        "\n",
        "dt_predictions_train = dt_model.transform(train_df)\n",
        "\n",
        "dt_predictions_test = dt_model.transform(test_df)\n",
        "dt_evaluator = RegressionEvaluator(\n",
        "    labelCol=\"Horsepower\", predictionCol=\"prediction\", metricName=\"rmse\")\n",
        "rmse_train = dt_evaluator.evaluate(dt_predictions_train)\n",
        "rmse_test = dt_evaluator.evaluate(dt_predictions_test)\n",
        "\n",
        "print(\"Root Mean Squared Error (RMSE) on train data = %g\" % rmse_train)\n",
        "print(\"Root Mean Squared Error (RMSE) on test data = %g\" % rmse_test)\n",
        "\n",
        "\n",
        "\n"
      ],
      "execution_count": null,
      "outputs": [
        {
          "output_type": "stream",
          "text": [
            "Root Mean Squared Error (RMSE) on train data = 6.79108\n",
            "Root Mean Squared Error (RMSE) on test data = 18.1077\n"
          ],
          "name": "stdout"
        }
      ]
    }
  ]
}