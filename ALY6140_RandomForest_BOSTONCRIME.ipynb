{
  "nbformat": 4,
  "nbformat_minor": 0,
  "metadata": {
    "colab": {
      "name": "ALY6140_RandomForest_HeartFail.ipynb",
      "provenance": []
    },
    "kernelspec": {
      "name": "python3",
      "display_name": "Python 3"
    },
    "language_info": {
      "name": "python"
    }
  },
  "cells": [
    {
      "cell_type": "code",
      "metadata": {
        "id": "NwFpEqfFmxl6"
      },
      "source": [
        "import pandas as pd\n",
        "import numpy as np\n",
        "import matplotlib.pyplot as plt\n",
        "import seaborn as sns"
      ],
      "execution_count": 236,
      "outputs": []
    },
    {
      "cell_type": "code",
      "metadata": {
        "id": "wW90_J57qRgH",
        "colab": {
          "base_uri": "https://localhost:8080/",
          "height": 171
        },
        "outputId": "0877aeaa-4a1f-44a8-dc4a-8f44b78faf92"
      },
      "source": [
        "'''\n",
        "url1 = 'https://data.boston.gov/dataset/6220d948-eae2-4e4b-8723-2dc8e67722a3/resource/f4495ee9-c42c-4019-82c1-d067f07e45d2/download/tmplvp64a10.csv'\n",
        "dataset1 = pd.read_csv(url1, error_bad_lines=False)\n",
        "url2 = 'https://data.boston.gov/dataset/6220d948-eae2-4e4b-8723-2dc8e67722a3/resource/be047094-85fe-4104-a480-4fa3d03f9623/download/script_113631134_20210423193017_combine.csv'\n",
        "dataset2 = pd.read_csv(url1, error_bad_lines=False)\n",
        "url3 = 'https://data.boston.gov/dataset/6220d948-eae2-4e4b-8723-2dc8e67722a3/resource/34e0ae6b-8c94-4998-ae9e-1b51551fe9ba/download/script_113631134_20210423192813_combine.csv'\n",
        "dataset3 = pd.read_csv(url1, error_bad_lines=False)\n",
        "url4 = 'https://data.boston.gov/dataset/6220d948-eae2-4e4b-8723-2dc8e67722a3/resource/e86f8e38-a23c-4c1a-8455-c8f94210a8f1/download/crime-incident-reports-2018.csv'\n",
        "dataset4 = pd.read_csv(url1, error_bad_lines=False)\n",
        "url5 = 'https://data.boston.gov/dataset/6220d948-eae2-4e4b-8723-2dc8e67722a3/resource/64ad0053-842c-459b-9833-ff53d568f2e3/download/crime-incident-reports-2017.csv'\n",
        "dataset5 = pd.read_csv(url1, error_bad_lines=False)\n",
        "url6 = 'https://data.boston.gov/dataset/6220d948-eae2-4e4b-8723-2dc8e67722a3/resource/b6c4e2c3-7b1e-4f4a-b019-bef8c6a0e882/download/crime-incident-reports-2016.csv'\n",
        "dataset6 = pd.read_csv(url1, error_bad_lines=False)\n",
        "url7 = 'https://data.boston.gov/dataset/6220d948-eae2-4e4b-8723-2dc8e67722a3/resource/792031bf-b9bb-467c-b118-fe795befdf00/download/crime-incident-reports-2015.csv'\n",
        "dataset7 = pd.read_csv(url1)\n",
        "\n",
        "\n",
        "dataset = pd.concat([dataset1,dataset2,dataset3,dataset4,dataset5,dataset6,dataset7])\n",
        "'''"
      ],
      "execution_count": 158,
      "outputs": [
        {
          "output_type": "execute_result",
          "data": {
            "application/vnd.google.colaboratory.intrinsic+json": {
              "type": "string"
            },
            "text/plain": [
              "\"\\nurl1 = 'https://data.boston.gov/dataset/6220d948-eae2-4e4b-8723-2dc8e67722a3/resource/f4495ee9-c42c-4019-82c1-d067f07e45d2/download/tmplvp64a10.csv'\\ndataset1 = pd.read_csv(url1, error_bad_lines=False)\\nurl2 = 'https://data.boston.gov/dataset/6220d948-eae2-4e4b-8723-2dc8e67722a3/resource/be047094-85fe-4104-a480-4fa3d03f9623/download/script_113631134_20210423193017_combine.csv'\\ndataset2 = pd.read_csv(url1, error_bad_lines=False)\\nurl3 = 'https://data.boston.gov/dataset/6220d948-eae2-4e4b-8723-2dc8e67722a3/resource/34e0ae6b-8c94-4998-ae9e-1b51551fe9ba/download/script_113631134_20210423192813_combine.csv'\\ndataset3 = pd.read_csv(url1, error_bad_lines=False)\\nurl4 = 'https://data.boston.gov/dataset/6220d948-eae2-4e4b-8723-2dc8e67722a3/resource/e86f8e38-a23c-4c1a-8455-c8f94210a8f1/download/crime-incident-reports-2018.csv'\\ndataset4 = pd.read_csv(url1, error_bad_lines=False)\\nurl5 = 'https://data.boston.gov/dataset/6220d948-eae2-4e4b-8723-2dc8e67722a3/resource/64ad0053-842c-459b-9833-ff53d568f2e3/download/crime-incident-reports-2017.csv'\\ndataset5 = pd.read_csv(url1, error_bad_lines=False)\\nurl6 = 'https://data.boston.gov/dataset/6220d948-eae2-4e4b-8723-2dc8e67722a3/resource/b6c4e2c3-7b1e-4f4a-b019-bef8c6a0e882/download/crime-incident-reports-2016.csv'\\ndataset6 = pd.read_csv(url1, error_bad_lines=False)\\nurl7 = 'https://data.boston.gov/dataset/6220d948-eae2-4e4b-8723-2dc8e67722a3/resource/792031bf-b9bb-467c-b118-fe795befdf00/download/crime-incident-reports-2015.csv'\\ndataset7 = pd.read_csv(url1)\\n\\n\\ndataset = pd.concat([dataset1,dataset2,dataset3,dataset4,dataset5,dataset6,dataset7])\\n\""
            ]
          },
          "metadata": {
            "tags": []
          },
          "execution_count": 158
        }
      ]
    },
    {
      "cell_type": "code",
      "metadata": {
        "id": "XspBvqndTwkt",
        "colab": {
          "base_uri": "https://localhost:8080/"
        },
        "outputId": "74287714-f8d5-492b-f90b-c968c4f5a8dc"
      },
      "source": [
        "dataset1=pd.read_csv('crime-incident-reports-2015.csv',error_bad_lines=False)\n",
        "dataset2=pd.read_csv('crime-incident-reports-2016.csv',error_bad_lines=False)\n",
        "dataset3=pd.read_csv('crime-incident-reports-2017.csv',error_bad_lines=False)\n",
        "dataset4=pd.read_csv('crime-incident-reports-2018.csv',error_bad_lines=False)\n",
        "dataset5=pd.read_csv('crime-incident-reports-2019.csv',error_bad_lines=False)\n",
        "dataset6=pd.read_csv('crime-incident-reports-2020.csv',error_bad_lines=False)\n",
        "dataset7=pd.read_csv('crime-incident-reports-2021.csv',error_bad_lines=False)\n",
        "dataset = pd.concat([dataset1,dataset2,dataset3,dataset4,dataset5,dataset6,dataset7])"
      ],
      "execution_count": 269,
      "outputs": [
        {
          "output_type": "stream",
          "text": [
            "/usr/local/lib/python3.7/dist-packages/IPython/core/interactiveshell.py:2718: DtypeWarning: Columns (0) have mixed types.Specify dtype option on import or set low_memory=False.\n",
            "  interactivity=interactivity, compiler=compiler, result=result)\n"
          ],
          "name": "stderr"
        }
      ]
    },
    {
      "cell_type": "code",
      "metadata": {
        "colab": {
          "base_uri": "https://localhost:8080/"
        },
        "id": "yM-MyKD4V0GF",
        "outputId": "8e6503d1-1c60-459f-dc8d-745d8601adfa"
      },
      "source": [
        "dataset['UCR_PART'].unique()\n"
      ],
      "execution_count": 270,
      "outputs": [
        {
          "output_type": "execute_result",
          "data": {
            "text/plain": [
              "array(['Part Two', 'Part Three', 'Part One', 'Other', nan], dtype=object)"
            ]
          },
          "metadata": {
            "tags": []
          },
          "execution_count": 270
        }
      ]
    },
    {
      "cell_type": "code",
      "metadata": {
        "colab": {
          "base_uri": "https://localhost:8080/",
          "height": 643
        },
        "id": "Qu4Zi5pGtX_z",
        "outputId": "2f12c5f3-a745-4482-ad87-6aff4804c5f1"
      },
      "source": [
        "dataset"
      ],
      "execution_count": 238,
      "outputs": [
        {
          "output_type": "execute_result",
          "data": {
            "text/html": [
              "<div>\n",
              "<style scoped>\n",
              "    .dataframe tbody tr th:only-of-type {\n",
              "        vertical-align: middle;\n",
              "    }\n",
              "\n",
              "    .dataframe tbody tr th {\n",
              "        vertical-align: top;\n",
              "    }\n",
              "\n",
              "    .dataframe thead th {\n",
              "        text-align: right;\n",
              "    }\n",
              "</style>\n",
              "<table border=\"1\" class=\"dataframe\">\n",
              "  <thead>\n",
              "    <tr style=\"text-align: right;\">\n",
              "      <th></th>\n",
              "      <th>INCIDENT_NUMBER</th>\n",
              "      <th>OFFENSE_CODE</th>\n",
              "      <th>OFFENSE_CODE_GROUP</th>\n",
              "      <th>OFFENSE_DESCRIPTION</th>\n",
              "      <th>DISTRICT</th>\n",
              "      <th>REPORTING_AREA</th>\n",
              "      <th>SHOOTING</th>\n",
              "      <th>OCCURRED_ON_DATE</th>\n",
              "      <th>YEAR</th>\n",
              "      <th>MONTH</th>\n",
              "      <th>DAY_OF_WEEK</th>\n",
              "      <th>HOUR</th>\n",
              "      <th>UCR_PART</th>\n",
              "      <th>STREET</th>\n",
              "      <th>Lat</th>\n",
              "      <th>Long</th>\n",
              "      <th>Location</th>\n",
              "    </tr>\n",
              "  </thead>\n",
              "  <tbody>\n",
              "    <tr>\n",
              "      <th>0</th>\n",
              "      <td>I192068249</td>\n",
              "      <td>2647</td>\n",
              "      <td>Other</td>\n",
              "      <td>THREATS TO DO BODILY HARM</td>\n",
              "      <td>B2</td>\n",
              "      <td>280</td>\n",
              "      <td>NaN</td>\n",
              "      <td>2015-08-28 10:20:00</td>\n",
              "      <td>2015</td>\n",
              "      <td>8</td>\n",
              "      <td>Friday</td>\n",
              "      <td>10</td>\n",
              "      <td>Part Two</td>\n",
              "      <td>WASHINGTON ST</td>\n",
              "      <td>42.330119</td>\n",
              "      <td>-71.084251</td>\n",
              "      <td>(42.33011862, -71.08425106)</td>\n",
              "    </tr>\n",
              "    <tr>\n",
              "      <th>1</th>\n",
              "      <td>I192061894</td>\n",
              "      <td>1106</td>\n",
              "      <td>Confidence Games</td>\n",
              "      <td>FRAUD - CREDIT CARD / ATM FRAUD</td>\n",
              "      <td>C11</td>\n",
              "      <td>356</td>\n",
              "      <td>NaN</td>\n",
              "      <td>2015-08-20 00:00:00</td>\n",
              "      <td>2015</td>\n",
              "      <td>8</td>\n",
              "      <td>Thursday</td>\n",
              "      <td>0</td>\n",
              "      <td>Part Two</td>\n",
              "      <td>CHARLES ST</td>\n",
              "      <td>42.300605</td>\n",
              "      <td>-71.061268</td>\n",
              "      <td>(42.30060543, -71.06126785)</td>\n",
              "    </tr>\n",
              "    <tr>\n",
              "      <th>2</th>\n",
              "      <td>I192038828</td>\n",
              "      <td>1107</td>\n",
              "      <td>Fraud</td>\n",
              "      <td>FRAUD - IMPERSONATION</td>\n",
              "      <td>A1</td>\n",
              "      <td>172</td>\n",
              "      <td>NaN</td>\n",
              "      <td>2015-11-02 12:24:00</td>\n",
              "      <td>2015</td>\n",
              "      <td>11</td>\n",
              "      <td>Monday</td>\n",
              "      <td>12</td>\n",
              "      <td>Part Two</td>\n",
              "      <td>ALBANY ST</td>\n",
              "      <td>42.334288</td>\n",
              "      <td>-71.072395</td>\n",
              "      <td>(42.33428841, -71.07239518)</td>\n",
              "    </tr>\n",
              "    <tr>\n",
              "      <th>3</th>\n",
              "      <td>I192008877</td>\n",
              "      <td>1107</td>\n",
              "      <td>Fraud</td>\n",
              "      <td>FRAUD - IMPERSONATION</td>\n",
              "      <td>E18</td>\n",
              "      <td>525</td>\n",
              "      <td>NaN</td>\n",
              "      <td>2015-07-31 10:00:00</td>\n",
              "      <td>2015</td>\n",
              "      <td>7</td>\n",
              "      <td>Friday</td>\n",
              "      <td>10</td>\n",
              "      <td>Part Two</td>\n",
              "      <td>WINGATE RD</td>\n",
              "      <td>42.237009</td>\n",
              "      <td>-71.129566</td>\n",
              "      <td>(42.23700950, -71.12956606)</td>\n",
              "    </tr>\n",
              "    <tr>\n",
              "      <th>4</th>\n",
              "      <td>I182090828</td>\n",
              "      <td>1102</td>\n",
              "      <td>Fraud</td>\n",
              "      <td>FRAUD - FALSE PRETENSE / SCHEME</td>\n",
              "      <td>D4</td>\n",
              "      <td>159</td>\n",
              "      <td>NaN</td>\n",
              "      <td>2015-12-01 12:00:00</td>\n",
              "      <td>2015</td>\n",
              "      <td>12</td>\n",
              "      <td>Tuesday</td>\n",
              "      <td>12</td>\n",
              "      <td>Part Two</td>\n",
              "      <td>UPTON ST</td>\n",
              "      <td>42.342432</td>\n",
              "      <td>-71.072258</td>\n",
              "      <td>(42.34243222, -71.07225766)</td>\n",
              "    </tr>\n",
              "    <tr>\n",
              "      <th>...</th>\n",
              "      <td>...</td>\n",
              "      <td>...</td>\n",
              "      <td>...</td>\n",
              "      <td>...</td>\n",
              "      <td>...</td>\n",
              "      <td>...</td>\n",
              "      <td>...</td>\n",
              "      <td>...</td>\n",
              "      <td>...</td>\n",
              "      <td>...</td>\n",
              "      <td>...</td>\n",
              "      <td>...</td>\n",
              "      <td>...</td>\n",
              "      <td>...</td>\n",
              "      <td>...</td>\n",
              "      <td>...</td>\n",
              "      <td>...</td>\n",
              "    </tr>\n",
              "    <tr>\n",
              "      <th>21140</th>\n",
              "      <td>121008581</td>\n",
              "      <td>2007</td>\n",
              "      <td>NaN</td>\n",
              "      <td>VIOLATION - RESTRAINING ORDER (NO ARREST)</td>\n",
              "      <td>C11</td>\n",
              "      <td>355</td>\n",
              "      <td>0</td>\n",
              "      <td>2021-02-08 22:00:00</td>\n",
              "      <td>2021</td>\n",
              "      <td>2</td>\n",
              "      <td>Monday</td>\n",
              "      <td>22</td>\n",
              "      <td>NaN</td>\n",
              "      <td>ROSSETER ST</td>\n",
              "      <td>42.297555</td>\n",
              "      <td>-71.059709</td>\n",
              "      <td>(42.2975553295965, -71.0597091024257)</td>\n",
              "    </tr>\n",
              "    <tr>\n",
              "      <th>21141</th>\n",
              "      <td>121005808</td>\n",
              "      <td>1102</td>\n",
              "      <td>NaN</td>\n",
              "      <td>FRAUD - FALSE PRETENSE / SCHEME</td>\n",
              "      <td>B3</td>\n",
              "      <td>289</td>\n",
              "      <td>0</td>\n",
              "      <td>2021-01-19 12:00:00</td>\n",
              "      <td>2021</td>\n",
              "      <td>1</td>\n",
              "      <td>Tuesday</td>\n",
              "      <td>12</td>\n",
              "      <td>NaN</td>\n",
              "      <td>CLARKWOOD ST</td>\n",
              "      <td>42.333679</td>\n",
              "      <td>-71.091878</td>\n",
              "      <td>(42.3336792181085, -71.0918775461846)</td>\n",
              "    </tr>\n",
              "    <tr>\n",
              "      <th>21142</th>\n",
              "      <td>121000816</td>\n",
              "      <td>3304</td>\n",
              "      <td>NaN</td>\n",
              "      <td>NOISY PARTY/RADIO-NO ARREST</td>\n",
              "      <td>E5</td>\n",
              "      <td>675</td>\n",
              "      <td>0</td>\n",
              "      <td>2021-01-04 00:00:00</td>\n",
              "      <td>2021</td>\n",
              "      <td>1</td>\n",
              "      <td>Monday</td>\n",
              "      <td>0</td>\n",
              "      <td>NaN</td>\n",
              "      <td>BRADFIELD AVENUE</td>\n",
              "      <td>0.000000</td>\n",
              "      <td>0.000000</td>\n",
              "      <td>(0, 0)</td>\n",
              "    </tr>\n",
              "    <tr>\n",
              "      <th>21143</th>\n",
              "      <td>120221042</td>\n",
              "      <td>3006</td>\n",
              "      <td>NaN</td>\n",
              "      <td>SICK/INJURED/MEDICAL - PERSON</td>\n",
              "      <td>E5</td>\n",
              "      <td>680</td>\n",
              "      <td>0</td>\n",
              "      <td>2021-04-02 10:45:00</td>\n",
              "      <td>2021</td>\n",
              "      <td>4</td>\n",
              "      <td>Friday</td>\n",
              "      <td>10</td>\n",
              "      <td>NaN</td>\n",
              "      <td>WASHINGTON ST</td>\n",
              "      <td>42.283902</td>\n",
              "      <td>-71.130863</td>\n",
              "      <td>(42.2839024364831, -71.130862626435)</td>\n",
              "    </tr>\n",
              "    <tr>\n",
              "      <th>21144</th>\n",
              "      <td>10637224</td>\n",
              "      <td>3125</td>\n",
              "      <td>NaN</td>\n",
              "      <td>WARRANT ARREST - BOSTON WARRANT (MUST BE SUPPL...</td>\n",
              "      <td>D4</td>\n",
              "      <td>270</td>\n",
              "      <td>0</td>\n",
              "      <td>2021-01-26 18:54:00</td>\n",
              "      <td>2021</td>\n",
              "      <td>1</td>\n",
              "      <td>Tuesday</td>\n",
              "      <td>18</td>\n",
              "      <td>NaN</td>\n",
              "      <td>NORTHAMPTON ST</td>\n",
              "      <td>42.333951</td>\n",
              "      <td>-71.075389</td>\n",
              "      <td>(42.3339512483938, -71.0753893882269)</td>\n",
              "    </tr>\n",
              "  </tbody>\n",
              "</table>\n",
              "<p>465074 rows × 17 columns</p>\n",
              "</div>"
            ],
            "text/plain": [
              "      INCIDENT_NUMBER  ...                               Location\n",
              "0          I192068249  ...            (42.33011862, -71.08425106)\n",
              "1          I192061894  ...            (42.30060543, -71.06126785)\n",
              "2          I192038828  ...            (42.33428841, -71.07239518)\n",
              "3          I192008877  ...            (42.23700950, -71.12956606)\n",
              "4          I182090828  ...            (42.34243222, -71.07225766)\n",
              "...               ...  ...                                    ...\n",
              "21140       121008581  ...  (42.2975553295965, -71.0597091024257)\n",
              "21141       121005808  ...  (42.3336792181085, -71.0918775461846)\n",
              "21142       121000816  ...                                 (0, 0)\n",
              "21143       120221042  ...   (42.2839024364831, -71.130862626435)\n",
              "21144        10637224  ...  (42.3339512483938, -71.0753893882269)\n",
              "\n",
              "[465074 rows x 17 columns]"
            ]
          },
          "metadata": {
            "tags": []
          },
          "execution_count": 238
        }
      ]
    },
    {
      "cell_type": "code",
      "metadata": {
        "id": "e_u0omZgaFOg",
        "colab": {
          "base_uri": "https://localhost:8080/"
        },
        "outputId": "ff4570e2-1b9e-4d9b-cd8c-efaf0f025a9a"
      },
      "source": [
        "dataset['UCR_PART'].isna()"
      ],
      "execution_count": 239,
      "outputs": [
        {
          "output_type": "execute_result",
          "data": {
            "text/plain": [
              "0        False\n",
              "1        False\n",
              "2        False\n",
              "3        False\n",
              "4        False\n",
              "         ...  \n",
              "21140     True\n",
              "21141     True\n",
              "21142     True\n",
              "21143     True\n",
              "21144     True\n",
              "Name: UCR_PART, Length: 465074, dtype: bool"
            ]
          },
          "metadata": {
            "tags": []
          },
          "execution_count": 239
        }
      ]
    },
    {
      "cell_type": "code",
      "metadata": {
        "id": "CO98J86UVClK"
      },
      "source": [
        "dataset.dropna(subset = [\"UCR_PART\"], inplace=True) # Drop rows with no values from Target column"
      ],
      "execution_count": 240,
      "outputs": []
    },
    {
      "cell_type": "code",
      "metadata": {
        "id": "r_Pbq02xuxE0"
      },
      "source": [
        "from sklearn.preprocessing import LabelEncoder\n",
        "le= LabelEncoder()\n",
        "dataset[\"UCR_PART\"]=le.fit_transform(dataset[\"UCR_PART\"])\n"
      ],
      "execution_count": 241,
      "outputs": []
    },
    {
      "cell_type": "code",
      "metadata": {
        "id": "tlGd-pAMqiLQ",
        "colab": {
          "base_uri": "https://localhost:8080/",
          "height": 204
        },
        "outputId": "ff57877b-4eb5-4e09-aeec-2b0748208b1f"
      },
      "source": [
        "# check missing value in dataset\n",
        "missing = dataset.isna().sum().sort_values(ascending = False)\n",
        "percent_missing = ((missing / dataset.isnull().count()) * 100).sort_values(ascending = False)\n",
        "missing_df = pd.concat([missing,percent_missing], axis = 1, keys = ['Total', 'Percent'],sort = False)\n",
        "missing_df[missing_df['Total'] >= 1]"
      ],
      "execution_count": 242,
      "outputs": [
        {
          "output_type": "execute_result",
          "data": {
            "text/html": [
              "<div>\n",
              "<style scoped>\n",
              "    .dataframe tbody tr th:only-of-type {\n",
              "        vertical-align: middle;\n",
              "    }\n",
              "\n",
              "    .dataframe tbody tr th {\n",
              "        vertical-align: top;\n",
              "    }\n",
              "\n",
              "    .dataframe thead th {\n",
              "        text-align: right;\n",
              "    }\n",
              "</style>\n",
              "<table border=\"1\" class=\"dataframe\">\n",
              "  <thead>\n",
              "    <tr style=\"text-align: right;\">\n",
              "      <th></th>\n",
              "      <th>Total</th>\n",
              "      <th>Percent</th>\n",
              "    </tr>\n",
              "  </thead>\n",
              "  <tbody>\n",
              "    <tr>\n",
              "      <th>SHOOTING</th>\n",
              "      <td>351708</td>\n",
              "      <td>99.589983</td>\n",
              "    </tr>\n",
              "    <tr>\n",
              "      <th>Lat</th>\n",
              "      <td>22529</td>\n",
              "      <td>6.379334</td>\n",
              "    </tr>\n",
              "    <tr>\n",
              "      <th>Long</th>\n",
              "      <td>22529</td>\n",
              "      <td>6.379334</td>\n",
              "    </tr>\n",
              "    <tr>\n",
              "      <th>STREET</th>\n",
              "      <td>11205</td>\n",
              "      <td>3.172819</td>\n",
              "    </tr>\n",
              "    <tr>\n",
              "      <th>DISTRICT</th>\n",
              "      <td>1827</td>\n",
              "      <td>0.517335</td>\n",
              "    </tr>\n",
              "  </tbody>\n",
              "</table>\n",
              "</div>"
            ],
            "text/plain": [
              "           Total    Percent\n",
              "SHOOTING  351708  99.589983\n",
              "Lat        22529   6.379334\n",
              "Long       22529   6.379334\n",
              "STREET     11205   3.172819\n",
              "DISTRICT    1827   0.517335"
            ]
          },
          "metadata": {
            "tags": []
          },
          "execution_count": 242
        }
      ]
    },
    {
      "cell_type": "code",
      "metadata": {
        "id": "cmIm8TkVZk2p"
      },
      "source": [
        "## removing columns with missing values more than 10%\n",
        "missing_df = missing_df.reset_index()\n",
        "over10 = list(missing_df.loc[missing_df['Percent'] >= 10,'index'])\n",
        "dataset = dataset.drop(over10, axis = 1)"
      ],
      "execution_count": 243,
      "outputs": []
    },
    {
      "cell_type": "code",
      "metadata": {
        "id": "U3yuIrCMaQMd",
        "colab": {
          "base_uri": "https://localhost:8080/",
          "height": 173
        },
        "outputId": "48c38bc8-6e15-4921-cb52-f8c244d5e66e"
      },
      "source": [
        "# check missing value in dataset\n",
        "missing = dataset.isna().sum().sort_values(ascending = False)\n",
        "percent_missing = ((missing / dataset.isnull().count()) * 100).sort_values(ascending = False)\n",
        "missing_df = pd.concat([missing,percent_missing], axis = 1, keys = ['Total', 'Percent'],sort = False)\n",
        "missing_df[missing_df['Total'] >= 1]"
      ],
      "execution_count": 244,
      "outputs": [
        {
          "output_type": "execute_result",
          "data": {
            "text/html": [
              "<div>\n",
              "<style scoped>\n",
              "    .dataframe tbody tr th:only-of-type {\n",
              "        vertical-align: middle;\n",
              "    }\n",
              "\n",
              "    .dataframe tbody tr th {\n",
              "        vertical-align: top;\n",
              "    }\n",
              "\n",
              "    .dataframe thead th {\n",
              "        text-align: right;\n",
              "    }\n",
              "</style>\n",
              "<table border=\"1\" class=\"dataframe\">\n",
              "  <thead>\n",
              "    <tr style=\"text-align: right;\">\n",
              "      <th></th>\n",
              "      <th>Total</th>\n",
              "      <th>Percent</th>\n",
              "    </tr>\n",
              "  </thead>\n",
              "  <tbody>\n",
              "    <tr>\n",
              "      <th>Long</th>\n",
              "      <td>22529</td>\n",
              "      <td>6.379334</td>\n",
              "    </tr>\n",
              "    <tr>\n",
              "      <th>Lat</th>\n",
              "      <td>22529</td>\n",
              "      <td>6.379334</td>\n",
              "    </tr>\n",
              "    <tr>\n",
              "      <th>STREET</th>\n",
              "      <td>11205</td>\n",
              "      <td>3.172819</td>\n",
              "    </tr>\n",
              "    <tr>\n",
              "      <th>DISTRICT</th>\n",
              "      <td>1827</td>\n",
              "      <td>0.517335</td>\n",
              "    </tr>\n",
              "  </tbody>\n",
              "</table>\n",
              "</div>"
            ],
            "text/plain": [
              "          Total   Percent\n",
              "Long      22529  6.379334\n",
              "Lat       22529  6.379334\n",
              "STREET    11205  3.172819\n",
              "DISTRICT   1827  0.517335"
            ]
          },
          "metadata": {
            "tags": []
          },
          "execution_count": 244
        }
      ]
    },
    {
      "cell_type": "code",
      "metadata": {
        "id": "UzEncGVyaRSD"
      },
      "source": [
        "# Drop missing rows from Columns\n",
        "dataset.dropna(subset = [\"STREET\"], inplace=True) # Drop rows with no values \n",
        "dataset.dropna(subset = [\"DISTRICT\"], inplace=True) # Drop rows with no values \n",
        "dataset.dropna(subset = [\"Location\"], inplace=True) # Drop rows with no values \n",
        "dataset.dropna(subset = [\"Long\"], inplace=True) # Drop rows with no values \n",
        "dataset.dropna(subset = [\"Lat\"], inplace=True) # Drop rows with no values "
      ],
      "execution_count": 245,
      "outputs": []
    },
    {
      "cell_type": "code",
      "metadata": {
        "id": "xLrN4GOKqm7B",
        "colab": {
          "base_uri": "https://localhost:8080/",
          "height": 643
        },
        "outputId": "b91cfd0c-75d3-4404-e8ff-f0a250f97e7e"
      },
      "source": [
        "dataset"
      ],
      "execution_count": 246,
      "outputs": [
        {
          "output_type": "execute_result",
          "data": {
            "text/html": [
              "<div>\n",
              "<style scoped>\n",
              "    .dataframe tbody tr th:only-of-type {\n",
              "        vertical-align: middle;\n",
              "    }\n",
              "\n",
              "    .dataframe tbody tr th {\n",
              "        vertical-align: top;\n",
              "    }\n",
              "\n",
              "    .dataframe thead th {\n",
              "        text-align: right;\n",
              "    }\n",
              "</style>\n",
              "<table border=\"1\" class=\"dataframe\">\n",
              "  <thead>\n",
              "    <tr style=\"text-align: right;\">\n",
              "      <th></th>\n",
              "      <th>INCIDENT_NUMBER</th>\n",
              "      <th>OFFENSE_CODE</th>\n",
              "      <th>OFFENSE_CODE_GROUP</th>\n",
              "      <th>OFFENSE_DESCRIPTION</th>\n",
              "      <th>DISTRICT</th>\n",
              "      <th>REPORTING_AREA</th>\n",
              "      <th>OCCURRED_ON_DATE</th>\n",
              "      <th>YEAR</th>\n",
              "      <th>MONTH</th>\n",
              "      <th>DAY_OF_WEEK</th>\n",
              "      <th>HOUR</th>\n",
              "      <th>UCR_PART</th>\n",
              "      <th>STREET</th>\n",
              "      <th>Lat</th>\n",
              "      <th>Long</th>\n",
              "      <th>Location</th>\n",
              "    </tr>\n",
              "  </thead>\n",
              "  <tbody>\n",
              "    <tr>\n",
              "      <th>0</th>\n",
              "      <td>I192068249</td>\n",
              "      <td>2647</td>\n",
              "      <td>Other</td>\n",
              "      <td>THREATS TO DO BODILY HARM</td>\n",
              "      <td>B2</td>\n",
              "      <td>280</td>\n",
              "      <td>2015-08-28 10:20:00</td>\n",
              "      <td>2015</td>\n",
              "      <td>8</td>\n",
              "      <td>Friday</td>\n",
              "      <td>10</td>\n",
              "      <td>3</td>\n",
              "      <td>WASHINGTON ST</td>\n",
              "      <td>42.330119</td>\n",
              "      <td>-71.084251</td>\n",
              "      <td>(42.33011862, -71.08425106)</td>\n",
              "    </tr>\n",
              "    <tr>\n",
              "      <th>1</th>\n",
              "      <td>I192061894</td>\n",
              "      <td>1106</td>\n",
              "      <td>Confidence Games</td>\n",
              "      <td>FRAUD - CREDIT CARD / ATM FRAUD</td>\n",
              "      <td>C11</td>\n",
              "      <td>356</td>\n",
              "      <td>2015-08-20 00:00:00</td>\n",
              "      <td>2015</td>\n",
              "      <td>8</td>\n",
              "      <td>Thursday</td>\n",
              "      <td>0</td>\n",
              "      <td>3</td>\n",
              "      <td>CHARLES ST</td>\n",
              "      <td>42.300605</td>\n",
              "      <td>-71.061268</td>\n",
              "      <td>(42.30060543, -71.06126785)</td>\n",
              "    </tr>\n",
              "    <tr>\n",
              "      <th>2</th>\n",
              "      <td>I192038828</td>\n",
              "      <td>1107</td>\n",
              "      <td>Fraud</td>\n",
              "      <td>FRAUD - IMPERSONATION</td>\n",
              "      <td>A1</td>\n",
              "      <td>172</td>\n",
              "      <td>2015-11-02 12:24:00</td>\n",
              "      <td>2015</td>\n",
              "      <td>11</td>\n",
              "      <td>Monday</td>\n",
              "      <td>12</td>\n",
              "      <td>3</td>\n",
              "      <td>ALBANY ST</td>\n",
              "      <td>42.334288</td>\n",
              "      <td>-71.072395</td>\n",
              "      <td>(42.33428841, -71.07239518)</td>\n",
              "    </tr>\n",
              "    <tr>\n",
              "      <th>3</th>\n",
              "      <td>I192008877</td>\n",
              "      <td>1107</td>\n",
              "      <td>Fraud</td>\n",
              "      <td>FRAUD - IMPERSONATION</td>\n",
              "      <td>E18</td>\n",
              "      <td>525</td>\n",
              "      <td>2015-07-31 10:00:00</td>\n",
              "      <td>2015</td>\n",
              "      <td>7</td>\n",
              "      <td>Friday</td>\n",
              "      <td>10</td>\n",
              "      <td>3</td>\n",
              "      <td>WINGATE RD</td>\n",
              "      <td>42.237009</td>\n",
              "      <td>-71.129566</td>\n",
              "      <td>(42.23700950, -71.12956606)</td>\n",
              "    </tr>\n",
              "    <tr>\n",
              "      <th>4</th>\n",
              "      <td>I182090828</td>\n",
              "      <td>1102</td>\n",
              "      <td>Fraud</td>\n",
              "      <td>FRAUD - FALSE PRETENSE / SCHEME</td>\n",
              "      <td>D4</td>\n",
              "      <td>159</td>\n",
              "      <td>2015-12-01 12:00:00</td>\n",
              "      <td>2015</td>\n",
              "      <td>12</td>\n",
              "      <td>Tuesday</td>\n",
              "      <td>12</td>\n",
              "      <td>3</td>\n",
              "      <td>UPTON ST</td>\n",
              "      <td>42.342432</td>\n",
              "      <td>-71.072258</td>\n",
              "      <td>(42.34243222, -71.07225766)</td>\n",
              "    </tr>\n",
              "    <tr>\n",
              "      <th>...</th>\n",
              "      <td>...</td>\n",
              "      <td>...</td>\n",
              "      <td>...</td>\n",
              "      <td>...</td>\n",
              "      <td>...</td>\n",
              "      <td>...</td>\n",
              "      <td>...</td>\n",
              "      <td>...</td>\n",
              "      <td>...</td>\n",
              "      <td>...</td>\n",
              "      <td>...</td>\n",
              "      <td>...</td>\n",
              "      <td>...</td>\n",
              "      <td>...</td>\n",
              "      <td>...</td>\n",
              "      <td>...</td>\n",
              "    </tr>\n",
              "    <tr>\n",
              "      <th>98883</th>\n",
              "      <td>I070720870-00</td>\n",
              "      <td>802</td>\n",
              "      <td>Simple Assault</td>\n",
              "      <td>ASSAULT &amp; BATTERY</td>\n",
              "      <td>B2</td>\n",
              "      <td>318</td>\n",
              "      <td>2018-12-13 00:00:00</td>\n",
              "      <td>2018</td>\n",
              "      <td>12</td>\n",
              "      <td>Thursday</td>\n",
              "      <td>0</td>\n",
              "      <td>3</td>\n",
              "      <td>BROOKLEDGE ST</td>\n",
              "      <td>42.309563</td>\n",
              "      <td>-71.089902</td>\n",
              "      <td>(42.30956305, -71.08990197)</td>\n",
              "    </tr>\n",
              "    <tr>\n",
              "      <th>98884</th>\n",
              "      <td>I070720870-00</td>\n",
              "      <td>3125</td>\n",
              "      <td>Warrant Arrests</td>\n",
              "      <td>WARRANT ARREST</td>\n",
              "      <td>B2</td>\n",
              "      <td>318</td>\n",
              "      <td>2018-12-13 00:00:00</td>\n",
              "      <td>2018</td>\n",
              "      <td>12</td>\n",
              "      <td>Thursday</td>\n",
              "      <td>0</td>\n",
              "      <td>2</td>\n",
              "      <td>BROOKLEDGE ST</td>\n",
              "      <td>42.309563</td>\n",
              "      <td>-71.089902</td>\n",
              "      <td>(42.30956305, -71.08990197)</td>\n",
              "    </tr>\n",
              "    <tr>\n",
              "      <th>98885</th>\n",
              "      <td>I060168073-00</td>\n",
              "      <td>1864</td>\n",
              "      <td>Drug Violation</td>\n",
              "      <td>DRUGS - POSS CLASS D - INTENT MFR DIST DISP</td>\n",
              "      <td>E13</td>\n",
              "      <td>912</td>\n",
              "      <td>2018-01-27 14:01:00</td>\n",
              "      <td>2018</td>\n",
              "      <td>1</td>\n",
              "      <td>Saturday</td>\n",
              "      <td>14</td>\n",
              "      <td>3</td>\n",
              "      <td>CENTRE ST</td>\n",
              "      <td>42.322838</td>\n",
              "      <td>-71.100967</td>\n",
              "      <td>(42.32283759, -71.10096723)</td>\n",
              "    </tr>\n",
              "    <tr>\n",
              "      <th>98886</th>\n",
              "      <td>I060168073-00</td>\n",
              "      <td>1864</td>\n",
              "      <td>Drug Violation</td>\n",
              "      <td>DRUGS - POSS CLASS D - INTENT MFR DIST DISP</td>\n",
              "      <td>E13</td>\n",
              "      <td>912</td>\n",
              "      <td>2018-01-27 14:01:00</td>\n",
              "      <td>2018</td>\n",
              "      <td>1</td>\n",
              "      <td>Saturday</td>\n",
              "      <td>14</td>\n",
              "      <td>3</td>\n",
              "      <td>CENTRE ST</td>\n",
              "      <td>42.322838</td>\n",
              "      <td>-71.100967</td>\n",
              "      <td>(42.32283759, -71.10096723)</td>\n",
              "    </tr>\n",
              "    <tr>\n",
              "      <th>98887</th>\n",
              "      <td>I060168073-00</td>\n",
              "      <td>3125</td>\n",
              "      <td>Warrant Arrests</td>\n",
              "      <td>WARRANT ARREST</td>\n",
              "      <td>E13</td>\n",
              "      <td>912</td>\n",
              "      <td>2018-01-27 14:01:00</td>\n",
              "      <td>2018</td>\n",
              "      <td>1</td>\n",
              "      <td>Saturday</td>\n",
              "      <td>14</td>\n",
              "      <td>2</td>\n",
              "      <td>CENTRE ST</td>\n",
              "      <td>42.322838</td>\n",
              "      <td>-71.100967</td>\n",
              "      <td>(42.32283759, -71.10096723)</td>\n",
              "    </tr>\n",
              "  </tbody>\n",
              "</table>\n",
              "<p>328095 rows × 16 columns</p>\n",
              "</div>"
            ],
            "text/plain": [
              "      INCIDENT_NUMBER  OFFENSE_CODE  ...       Long                     Location\n",
              "0          I192068249          2647  ... -71.084251  (42.33011862, -71.08425106)\n",
              "1          I192061894          1106  ... -71.061268  (42.30060543, -71.06126785)\n",
              "2          I192038828          1107  ... -71.072395  (42.33428841, -71.07239518)\n",
              "3          I192008877          1107  ... -71.129566  (42.23700950, -71.12956606)\n",
              "4          I182090828          1102  ... -71.072258  (42.34243222, -71.07225766)\n",
              "...               ...           ...  ...        ...                          ...\n",
              "98883   I070720870-00           802  ... -71.089902  (42.30956305, -71.08990197)\n",
              "98884   I070720870-00          3125  ... -71.089902  (42.30956305, -71.08990197)\n",
              "98885   I060168073-00          1864  ... -71.100967  (42.32283759, -71.10096723)\n",
              "98886   I060168073-00          1864  ... -71.100967  (42.32283759, -71.10096723)\n",
              "98887   I060168073-00          3125  ... -71.100967  (42.32283759, -71.10096723)\n",
              "\n",
              "[328095 rows x 16 columns]"
            ]
          },
          "metadata": {
            "tags": []
          },
          "execution_count": 246
        }
      ]
    },
    {
      "cell_type": "code",
      "metadata": {
        "id": "jM3pmYQ0fTVc"
      },
      "source": [
        "# removing columns intutively\n",
        "\n",
        "dataset=dataset.drop(columns=['INCIDENT_NUMBER','OFFENSE_CODE','OCCURRED_ON_DATE','Location','OFFENSE_CODE_GROUP','OFFENSE_DESCRIPTION'])\n"
      ],
      "execution_count": 247,
      "outputs": []
    },
    {
      "cell_type": "code",
      "metadata": {
        "colab": {
          "base_uri": "https://localhost:8080/",
          "height": 419
        },
        "id": "e3eV-XeU54ep",
        "outputId": "a5825e45-f9e6-4213-bffa-4fafc8dbed0c"
      },
      "source": [
        "dataset"
      ],
      "execution_count": 248,
      "outputs": [
        {
          "output_type": "execute_result",
          "data": {
            "text/html": [
              "<div>\n",
              "<style scoped>\n",
              "    .dataframe tbody tr th:only-of-type {\n",
              "        vertical-align: middle;\n",
              "    }\n",
              "\n",
              "    .dataframe tbody tr th {\n",
              "        vertical-align: top;\n",
              "    }\n",
              "\n",
              "    .dataframe thead th {\n",
              "        text-align: right;\n",
              "    }\n",
              "</style>\n",
              "<table border=\"1\" class=\"dataframe\">\n",
              "  <thead>\n",
              "    <tr style=\"text-align: right;\">\n",
              "      <th></th>\n",
              "      <th>DISTRICT</th>\n",
              "      <th>REPORTING_AREA</th>\n",
              "      <th>YEAR</th>\n",
              "      <th>MONTH</th>\n",
              "      <th>DAY_OF_WEEK</th>\n",
              "      <th>HOUR</th>\n",
              "      <th>UCR_PART</th>\n",
              "      <th>STREET</th>\n",
              "      <th>Lat</th>\n",
              "      <th>Long</th>\n",
              "    </tr>\n",
              "  </thead>\n",
              "  <tbody>\n",
              "    <tr>\n",
              "      <th>0</th>\n",
              "      <td>B2</td>\n",
              "      <td>280</td>\n",
              "      <td>2015</td>\n",
              "      <td>8</td>\n",
              "      <td>Friday</td>\n",
              "      <td>10</td>\n",
              "      <td>3</td>\n",
              "      <td>WASHINGTON ST</td>\n",
              "      <td>42.330119</td>\n",
              "      <td>-71.084251</td>\n",
              "    </tr>\n",
              "    <tr>\n",
              "      <th>1</th>\n",
              "      <td>C11</td>\n",
              "      <td>356</td>\n",
              "      <td>2015</td>\n",
              "      <td>8</td>\n",
              "      <td>Thursday</td>\n",
              "      <td>0</td>\n",
              "      <td>3</td>\n",
              "      <td>CHARLES ST</td>\n",
              "      <td>42.300605</td>\n",
              "      <td>-71.061268</td>\n",
              "    </tr>\n",
              "    <tr>\n",
              "      <th>2</th>\n",
              "      <td>A1</td>\n",
              "      <td>172</td>\n",
              "      <td>2015</td>\n",
              "      <td>11</td>\n",
              "      <td>Monday</td>\n",
              "      <td>12</td>\n",
              "      <td>3</td>\n",
              "      <td>ALBANY ST</td>\n",
              "      <td>42.334288</td>\n",
              "      <td>-71.072395</td>\n",
              "    </tr>\n",
              "    <tr>\n",
              "      <th>3</th>\n",
              "      <td>E18</td>\n",
              "      <td>525</td>\n",
              "      <td>2015</td>\n",
              "      <td>7</td>\n",
              "      <td>Friday</td>\n",
              "      <td>10</td>\n",
              "      <td>3</td>\n",
              "      <td>WINGATE RD</td>\n",
              "      <td>42.237009</td>\n",
              "      <td>-71.129566</td>\n",
              "    </tr>\n",
              "    <tr>\n",
              "      <th>4</th>\n",
              "      <td>D4</td>\n",
              "      <td>159</td>\n",
              "      <td>2015</td>\n",
              "      <td>12</td>\n",
              "      <td>Tuesday</td>\n",
              "      <td>12</td>\n",
              "      <td>3</td>\n",
              "      <td>UPTON ST</td>\n",
              "      <td>42.342432</td>\n",
              "      <td>-71.072258</td>\n",
              "    </tr>\n",
              "    <tr>\n",
              "      <th>...</th>\n",
              "      <td>...</td>\n",
              "      <td>...</td>\n",
              "      <td>...</td>\n",
              "      <td>...</td>\n",
              "      <td>...</td>\n",
              "      <td>...</td>\n",
              "      <td>...</td>\n",
              "      <td>...</td>\n",
              "      <td>...</td>\n",
              "      <td>...</td>\n",
              "    </tr>\n",
              "    <tr>\n",
              "      <th>98883</th>\n",
              "      <td>B2</td>\n",
              "      <td>318</td>\n",
              "      <td>2018</td>\n",
              "      <td>12</td>\n",
              "      <td>Thursday</td>\n",
              "      <td>0</td>\n",
              "      <td>3</td>\n",
              "      <td>BROOKLEDGE ST</td>\n",
              "      <td>42.309563</td>\n",
              "      <td>-71.089902</td>\n",
              "    </tr>\n",
              "    <tr>\n",
              "      <th>98884</th>\n",
              "      <td>B2</td>\n",
              "      <td>318</td>\n",
              "      <td>2018</td>\n",
              "      <td>12</td>\n",
              "      <td>Thursday</td>\n",
              "      <td>0</td>\n",
              "      <td>2</td>\n",
              "      <td>BROOKLEDGE ST</td>\n",
              "      <td>42.309563</td>\n",
              "      <td>-71.089902</td>\n",
              "    </tr>\n",
              "    <tr>\n",
              "      <th>98885</th>\n",
              "      <td>E13</td>\n",
              "      <td>912</td>\n",
              "      <td>2018</td>\n",
              "      <td>1</td>\n",
              "      <td>Saturday</td>\n",
              "      <td>14</td>\n",
              "      <td>3</td>\n",
              "      <td>CENTRE ST</td>\n",
              "      <td>42.322838</td>\n",
              "      <td>-71.100967</td>\n",
              "    </tr>\n",
              "    <tr>\n",
              "      <th>98886</th>\n",
              "      <td>E13</td>\n",
              "      <td>912</td>\n",
              "      <td>2018</td>\n",
              "      <td>1</td>\n",
              "      <td>Saturday</td>\n",
              "      <td>14</td>\n",
              "      <td>3</td>\n",
              "      <td>CENTRE ST</td>\n",
              "      <td>42.322838</td>\n",
              "      <td>-71.100967</td>\n",
              "    </tr>\n",
              "    <tr>\n",
              "      <th>98887</th>\n",
              "      <td>E13</td>\n",
              "      <td>912</td>\n",
              "      <td>2018</td>\n",
              "      <td>1</td>\n",
              "      <td>Saturday</td>\n",
              "      <td>14</td>\n",
              "      <td>2</td>\n",
              "      <td>CENTRE ST</td>\n",
              "      <td>42.322838</td>\n",
              "      <td>-71.100967</td>\n",
              "    </tr>\n",
              "  </tbody>\n",
              "</table>\n",
              "<p>328095 rows × 10 columns</p>\n",
              "</div>"
            ],
            "text/plain": [
              "      DISTRICT REPORTING_AREA  YEAR  ...         STREET        Lat       Long\n",
              "0           B2            280  2015  ...  WASHINGTON ST  42.330119 -71.084251\n",
              "1          C11            356  2015  ...     CHARLES ST  42.300605 -71.061268\n",
              "2           A1            172  2015  ...      ALBANY ST  42.334288 -71.072395\n",
              "3          E18            525  2015  ...     WINGATE RD  42.237009 -71.129566\n",
              "4           D4            159  2015  ...       UPTON ST  42.342432 -71.072258\n",
              "...        ...            ...   ...  ...            ...        ...        ...\n",
              "98883       B2            318  2018  ...  BROOKLEDGE ST  42.309563 -71.089902\n",
              "98884       B2            318  2018  ...  BROOKLEDGE ST  42.309563 -71.089902\n",
              "98885      E13            912  2018  ...      CENTRE ST  42.322838 -71.100967\n",
              "98886      E13            912  2018  ...      CENTRE ST  42.322838 -71.100967\n",
              "98887      E13            912  2018  ...      CENTRE ST  42.322838 -71.100967\n",
              "\n",
              "[328095 rows x 10 columns]"
            ]
          },
          "metadata": {
            "tags": []
          },
          "execution_count": 248
        }
      ]
    },
    {
      "cell_type": "code",
      "metadata": {
        "colab": {
          "base_uri": "https://localhost:8080/",
          "height": 86
        },
        "id": "xgfCBSGxyJvt",
        "outputId": "07fca6bf-bf86-4b2a-8ff3-04a26ab2dc4b"
      },
      "source": [
        "\n",
        "#Encoder\n",
        "def label_encoder(dataset):\n",
        "    dataset_lencoded = dataset.copy(deep=True);\n",
        "\n",
        "   \n",
        "    #Takes in dataset, returns label encoded dataframe and the label encoder models\n",
        "    label_encoders = [None]*dataset_lencoded.shape[1];\n",
        "\n",
        "    List_Of_Categories_In_Column=list(dataset_lencoded.select_dtypes(include=['object']))\n",
        "    J=0\n",
        "    for i in List_Of_Categories_In_Column:\n",
        "        le = LabelEncoder()\n",
        "        dataset_lencoded[i] = le.fit_transform(dataset_lencoded[i])\n",
        "        label_encoders[j] = le\n",
        "        J=J+1\n",
        "    return dataset_lencoded\n",
        "\n",
        "'''\n",
        "#Decoder\n",
        "def label_decoder(dataset_lencoded, label_encoders):\n",
        "\n",
        "    #Takes in encoded dataframe and list of encoders and returns decoded dataset\n",
        "    #Label encoder is a list of label encoder models pertaining to each column\n",
        "    for i in range(dataset_lencoded.shape[1]):\n",
        "        dataset_lencoded.iloc[:,i] = label_encoders[i].inverse_transform(dataset_lencoded.iloc[:,i])\n",
        "\n",
        "    return dataset_lencoded #Now it is decoded\n",
        "'''\n"
      ],
      "execution_count": 249,
      "outputs": [
        {
          "output_type": "execute_result",
          "data": {
            "application/vnd.google.colaboratory.intrinsic+json": {
              "type": "string"
            },
            "text/plain": [
              "'\\n#Decoder\\ndef label_decoder(dataset_lencoded, label_encoders):\\n\\n    #Takes in encoded dataframe and list of encoders and returns decoded dataset\\n    #Label encoder is a list of label encoder models pertaining to each column\\n    for i in range(dataset_lencoded.shape[1]):\\n        dataset_lencoded.iloc[:,i] = label_encoders[i].inverse_transform(dataset_lencoded.iloc[:,i])\\n\\n    return dataset_lencoded #Now it is decoded\\n'"
            ]
          },
          "metadata": {
            "tags": []
          },
          "execution_count": 249
        }
      ]
    },
    {
      "cell_type": "code",
      "metadata": {
        "id": "gZ327W7czY3P"
      },
      "source": [
        "dataset_l_encoded=label_encoder(dataset)"
      ],
      "execution_count": 250,
      "outputs": []
    },
    {
      "cell_type": "code",
      "metadata": {
        "id": "xGUhNYwCeqEP",
        "colab": {
          "base_uri": "https://localhost:8080/",
          "height": 52
        },
        "outputId": "165de116-3780-4a3f-b6a4-422e65356e80"
      },
      "source": [
        "'''\n",
        "df_onehot = dataset.copy()\n",
        "for c in List_Of_Categories_In_Column:\n",
        "    df_onehot = pd.get_dummies(df_onehot, columns=['c'], prefix = ['c'])\n",
        "\n",
        "\n",
        "#df_onehot.head()\n",
        "'''"
      ],
      "execution_count": 177,
      "outputs": [
        {
          "output_type": "execute_result",
          "data": {
            "application/vnd.google.colaboratory.intrinsic+json": {
              "type": "string"
            },
            "text/plain": [
              "\"\\ndf_onehot = dataset.copy()\\nfor c in List_Of_Categories_In_Column:\\n    df_onehot = pd.get_dummies(df_onehot, columns=['c'], prefix = ['c'])\\n\\n\\n#df_onehot.head()\\n\""
            ]
          },
          "metadata": {
            "tags": []
          },
          "execution_count": 177
        }
      ]
    },
    {
      "cell_type": "code",
      "metadata": {
        "id": "O-5Jl5rYmsKz",
        "colab": {
          "base_uri": "https://localhost:8080/",
          "height": 154
        },
        "outputId": "e6d72508-144e-40f7-8a5b-ef49ef126fc2"
      },
      "source": [
        "'''\n",
        "df_onehot = dataset.copy()\n",
        "\n",
        "df_onehot = pd.get_dummies(df_onehot, columns=['OFFENSE_CODE_GROUP'], prefix = ['OFFENSE_CODE_GROUP'])\n",
        "df_onehot = pd.get_dummies(df_onehot, columns=['OFFENSE_DESCRIPTION'], prefix = ['OFFENSE_DESCRIPTION'])\n",
        "df_onehot = pd.get_dummies(df_onehot, columns=['DISTRICT'], prefix = ['DISTRICT'])\n",
        "df_onehot = pd.get_dummies(df_onehot, columns=['REPORTING_AREA'], prefix = ['REPORTING_AREA'])\n",
        "#df_onehot = pd.get_dummies(df_onehot, columns=['OCCURRED_ON_DATE'], prefix = ['OCCURRED_ON_DATE'])\n",
        "df_onehot = pd.get_dummies(df_onehot, columns=['YEAR'], prefix = ['YEAR'])\n",
        "df_onehot = pd.get_dummies(df_onehot, columns=['MONTH'], prefix = ['MONTH'])\n",
        "df_onehot = pd.get_dummies(df_onehot, columns=['DAY_OF_WEEK'], prefix = ['DAY_OF_WEEK'])\n",
        "df_onehot = pd.get_dummies(df_onehot, columns=['STREET'], prefix = ['STREET'])\n",
        "#df_onehot = pd.get_dummies(df_onehot, columns=['Location'], prefix = ['Location'])\n",
        "\n",
        "'''"
      ],
      "execution_count": 178,
      "outputs": [
        {
          "output_type": "execute_result",
          "data": {
            "application/vnd.google.colaboratory.intrinsic+json": {
              "type": "string"
            },
            "text/plain": [
              "\"\\ndf_onehot = dataset.copy()\\n\\ndf_onehot = pd.get_dummies(df_onehot, columns=['OFFENSE_CODE_GROUP'], prefix = ['OFFENSE_CODE_GROUP'])\\ndf_onehot = pd.get_dummies(df_onehot, columns=['OFFENSE_DESCRIPTION'], prefix = ['OFFENSE_DESCRIPTION'])\\ndf_onehot = pd.get_dummies(df_onehot, columns=['DISTRICT'], prefix = ['DISTRICT'])\\ndf_onehot = pd.get_dummies(df_onehot, columns=['REPORTING_AREA'], prefix = ['REPORTING_AREA'])\\n#df_onehot = pd.get_dummies(df_onehot, columns=['OCCURRED_ON_DATE'], prefix = ['OCCURRED_ON_DATE'])\\ndf_onehot = pd.get_dummies(df_onehot, columns=['YEAR'], prefix = ['YEAR'])\\ndf_onehot = pd.get_dummies(df_onehot, columns=['MONTH'], prefix = ['MONTH'])\\ndf_onehot = pd.get_dummies(df_onehot, columns=['DAY_OF_WEEK'], prefix = ['DAY_OF_WEEK'])\\ndf_onehot = pd.get_dummies(df_onehot, columns=['STREET'], prefix = ['STREET'])\\n#df_onehot = pd.get_dummies(df_onehot, columns=['Location'], prefix = ['Location'])\\n\\n\""
            ]
          },
          "metadata": {
            "tags": []
          },
          "execution_count": 178
        }
      ]
    },
    {
      "cell_type": "code",
      "metadata": {
        "id": "xJFuLTwFrCVv",
        "colab": {
          "base_uri": "https://localhost:8080/",
          "height": 419
        },
        "outputId": "278071bd-4b96-4fa2-c6e3-1516fee555b5"
      },
      "source": [
        "X = dataset_l_encoded.loc[:,dataset.columns!='UCR_PART']\n",
        "Y = dataset_l_encoded['UCR_PART']\n",
        "Y.to_frame()"
      ],
      "execution_count": 251,
      "outputs": [
        {
          "output_type": "execute_result",
          "data": {
            "text/html": [
              "<div>\n",
              "<style scoped>\n",
              "    .dataframe tbody tr th:only-of-type {\n",
              "        vertical-align: middle;\n",
              "    }\n",
              "\n",
              "    .dataframe tbody tr th {\n",
              "        vertical-align: top;\n",
              "    }\n",
              "\n",
              "    .dataframe thead th {\n",
              "        text-align: right;\n",
              "    }\n",
              "</style>\n",
              "<table border=\"1\" class=\"dataframe\">\n",
              "  <thead>\n",
              "    <tr style=\"text-align: right;\">\n",
              "      <th></th>\n",
              "      <th>UCR_PART</th>\n",
              "    </tr>\n",
              "  </thead>\n",
              "  <tbody>\n",
              "    <tr>\n",
              "      <th>0</th>\n",
              "      <td>3</td>\n",
              "    </tr>\n",
              "    <tr>\n",
              "      <th>1</th>\n",
              "      <td>3</td>\n",
              "    </tr>\n",
              "    <tr>\n",
              "      <th>2</th>\n",
              "      <td>3</td>\n",
              "    </tr>\n",
              "    <tr>\n",
              "      <th>3</th>\n",
              "      <td>3</td>\n",
              "    </tr>\n",
              "    <tr>\n",
              "      <th>4</th>\n",
              "      <td>3</td>\n",
              "    </tr>\n",
              "    <tr>\n",
              "      <th>...</th>\n",
              "      <td>...</td>\n",
              "    </tr>\n",
              "    <tr>\n",
              "      <th>98883</th>\n",
              "      <td>3</td>\n",
              "    </tr>\n",
              "    <tr>\n",
              "      <th>98884</th>\n",
              "      <td>2</td>\n",
              "    </tr>\n",
              "    <tr>\n",
              "      <th>98885</th>\n",
              "      <td>3</td>\n",
              "    </tr>\n",
              "    <tr>\n",
              "      <th>98886</th>\n",
              "      <td>3</td>\n",
              "    </tr>\n",
              "    <tr>\n",
              "      <th>98887</th>\n",
              "      <td>2</td>\n",
              "    </tr>\n",
              "  </tbody>\n",
              "</table>\n",
              "<p>328095 rows × 1 columns</p>\n",
              "</div>"
            ],
            "text/plain": [
              "       UCR_PART\n",
              "0             3\n",
              "1             3\n",
              "2             3\n",
              "3             3\n",
              "4             3\n",
              "...         ...\n",
              "98883         3\n",
              "98884         2\n",
              "98885         3\n",
              "98886         3\n",
              "98887         2\n",
              "\n",
              "[328095 rows x 1 columns]"
            ]
          },
          "metadata": {
            "tags": []
          },
          "execution_count": 251
        }
      ]
    },
    {
      "cell_type": "code",
      "metadata": {
        "id": "-zg0uw9DrN9y",
        "colab": {
          "base_uri": "https://localhost:8080/",
          "height": 419
        },
        "outputId": "339baac9-b0f1-4c20-ffdd-f994360d5f94"
      },
      "source": [
        "from sklearn.model_selection import train_test_split\n",
        "X_train, X_test, y_train, y_test = train_test_split(X, Y, test_size = 0.2, random_state = 1)\n",
        "X_train"
      ],
      "execution_count": 252,
      "outputs": [
        {
          "output_type": "execute_result",
          "data": {
            "text/html": [
              "<div>\n",
              "<style scoped>\n",
              "    .dataframe tbody tr th:only-of-type {\n",
              "        vertical-align: middle;\n",
              "    }\n",
              "\n",
              "    .dataframe tbody tr th {\n",
              "        vertical-align: top;\n",
              "    }\n",
              "\n",
              "    .dataframe thead th {\n",
              "        text-align: right;\n",
              "    }\n",
              "</style>\n",
              "<table border=\"1\" class=\"dataframe\">\n",
              "  <thead>\n",
              "    <tr style=\"text-align: right;\">\n",
              "      <th></th>\n",
              "      <th>DISTRICT</th>\n",
              "      <th>REPORTING_AREA</th>\n",
              "      <th>YEAR</th>\n",
              "      <th>MONTH</th>\n",
              "      <th>DAY_OF_WEEK</th>\n",
              "      <th>HOUR</th>\n",
              "      <th>STREET</th>\n",
              "      <th>Lat</th>\n",
              "      <th>Long</th>\n",
              "    </tr>\n",
              "  </thead>\n",
              "  <tbody>\n",
              "    <tr>\n",
              "      <th>27214</th>\n",
              "      <td>11</td>\n",
              "      <td>801</td>\n",
              "      <td>2016</td>\n",
              "      <td>9</td>\n",
              "      <td>0</td>\n",
              "      <td>10</td>\n",
              "      <td>414</td>\n",
              "      <td>-1.000000</td>\n",
              "      <td>-1.000000</td>\n",
              "    </tr>\n",
              "    <tr>\n",
              "      <th>41466</th>\n",
              "      <td>7</td>\n",
              "      <td>794</td>\n",
              "      <td>2018</td>\n",
              "      <td>8</td>\n",
              "      <td>4</td>\n",
              "      <td>13</td>\n",
              "      <td>1825</td>\n",
              "      <td>42.358286</td>\n",
              "      <td>-71.128575</td>\n",
              "    </tr>\n",
              "    <tr>\n",
              "      <th>96718</th>\n",
              "      <td>3</td>\n",
              "      <td>226</td>\n",
              "      <td>2016</td>\n",
              "      <td>1</td>\n",
              "      <td>1</td>\n",
              "      <td>13</td>\n",
              "      <td>2249</td>\n",
              "      <td>42.323696</td>\n",
              "      <td>-71.095647</td>\n",
              "    </tr>\n",
              "    <tr>\n",
              "      <th>832</th>\n",
              "      <td>5</td>\n",
              "      <td>274</td>\n",
              "      <td>2017</td>\n",
              "      <td>12</td>\n",
              "      <td>3</td>\n",
              "      <td>22</td>\n",
              "      <td>1584</td>\n",
              "      <td>42.326968</td>\n",
              "      <td>-71.080519</td>\n",
              "    </tr>\n",
              "    <tr>\n",
              "      <th>35501</th>\n",
              "      <td>11</td>\n",
              "      <td>690</td>\n",
              "      <td>2015</td>\n",
              "      <td>8</td>\n",
              "      <td>2</td>\n",
              "      <td>5</td>\n",
              "      <td>2438</td>\n",
              "      <td>42.273427</td>\n",
              "      <td>-71.168456</td>\n",
              "    </tr>\n",
              "    <tr>\n",
              "      <th>...</th>\n",
              "      <td>...</td>\n",
              "      <td>...</td>\n",
              "      <td>...</td>\n",
              "      <td>...</td>\n",
              "      <td>...</td>\n",
              "      <td>...</td>\n",
              "      <td>...</td>\n",
              "      <td>...</td>\n",
              "      <td>...</td>\n",
              "    </tr>\n",
              "    <tr>\n",
              "      <th>72112</th>\n",
              "      <td>5</td>\n",
              "      <td>286</td>\n",
              "      <td>2016</td>\n",
              "      <td>4</td>\n",
              "      <td>2</td>\n",
              "      <td>18</td>\n",
              "      <td>1472</td>\n",
              "      <td>42.298489</td>\n",
              "      <td>-71.063133</td>\n",
              "    </tr>\n",
              "    <tr>\n",
              "      <th>23805</th>\n",
              "      <td>4</td>\n",
              "      <td>352</td>\n",
              "      <td>2016</td>\n",
              "      <td>10</td>\n",
              "      <td>6</td>\n",
              "      <td>22</td>\n",
              "      <td>1299</td>\n",
              "      <td>42.281049</td>\n",
              "      <td>-71.072064</td>\n",
              "    </tr>\n",
              "    <tr>\n",
              "      <th>81750</th>\n",
              "      <td>0</td>\n",
              "      <td>599</td>\n",
              "      <td>2018</td>\n",
              "      <td>3</td>\n",
              "      <td>2</td>\n",
              "      <td>23</td>\n",
              "      <td>687</td>\n",
              "      <td>42.361928</td>\n",
              "      <td>-71.070820</td>\n",
              "    </tr>\n",
              "    <tr>\n",
              "      <th>33158</th>\n",
              "      <td>7</td>\n",
              "      <td>769</td>\n",
              "      <td>2018</td>\n",
              "      <td>8</td>\n",
              "      <td>6</td>\n",
              "      <td>12</td>\n",
              "      <td>820</td>\n",
              "      <td>42.348357</td>\n",
              "      <td>-71.136453</td>\n",
              "    </tr>\n",
              "    <tr>\n",
              "      <th>83364</th>\n",
              "      <td>5</td>\n",
              "      <td>62</td>\n",
              "      <td>2016</td>\n",
              "      <td>3</td>\n",
              "      <td>2</td>\n",
              "      <td>12</td>\n",
              "      <td>3593</td>\n",
              "      <td>42.342259</td>\n",
              "      <td>-71.077497</td>\n",
              "    </tr>\n",
              "  </tbody>\n",
              "</table>\n",
              "<p>262476 rows × 9 columns</p>\n",
              "</div>"
            ],
            "text/plain": [
              "       DISTRICT  REPORTING_AREA  YEAR  ...  STREET        Lat       Long\n",
              "27214        11             801  2016  ...     414  -1.000000  -1.000000\n",
              "41466         7             794  2018  ...    1825  42.358286 -71.128575\n",
              "96718         3             226  2016  ...    2249  42.323696 -71.095647\n",
              "832           5             274  2017  ...    1584  42.326968 -71.080519\n",
              "35501        11             690  2015  ...    2438  42.273427 -71.168456\n",
              "...         ...             ...   ...  ...     ...        ...        ...\n",
              "72112         5             286  2016  ...    1472  42.298489 -71.063133\n",
              "23805         4             352  2016  ...    1299  42.281049 -71.072064\n",
              "81750         0             599  2018  ...     687  42.361928 -71.070820\n",
              "33158         7             769  2018  ...     820  42.348357 -71.136453\n",
              "83364         5              62  2016  ...    3593  42.342259 -71.077497\n",
              "\n",
              "[262476 rows x 9 columns]"
            ]
          },
          "metadata": {
            "tags": []
          },
          "execution_count": 252
        }
      ]
    },
    {
      "cell_type": "code",
      "metadata": {
        "id": "VP4WD6_YrRPZ"
      },
      "source": [
        "## defining a reusable function to evaluate model performance\n",
        "\n",
        "def eval_result(model_name,y_train,y_predtrain,y_test,y_predtest):\n",
        "\n",
        "    from sklearn.metrics import accuracy_score, roc_auc_score, classification_report, plot_confusion_matrix, plot_roc_curve\n",
        "    from matplotlib import pyplot as plt\n",
        "    \n",
        "\n",
        "    train_accuracy = accuracy_score(y_train, y_predtrain)\n",
        "    print(f'training data accuracy {train_accuracy}')\n",
        " \n",
        "    \n",
        "    test_accuracy = accuracy_score(y_test, y_predtest)\n",
        "    print(f'testing data accuracy {test_accuracy}')\n",
        "   \n",
        "    \n",
        "    print(classification_report(y_test,y_predtest,digits=5))\n",
        "    #errorMatrix(y_test,y_predtest,percentage=TRUE,digits=ifelse(percentage,1,3), count=FALSE)\n",
        "    #plot_confusion_matrix(model_name, X_test, y_test,cmap=plt.cm.pink, normalize = 'all')\n",
        "    #plot_roc_curve(model_name, X_test, y_test)\n",
        "    "
      ],
      "execution_count": 261,
      "outputs": []
    },
    {
      "cell_type": "code",
      "metadata": {
        "id": "9LjARoRTsxP5"
      },
      "source": [
        "# RUN_ONCE\n",
        "\n",
        "'''\n",
        "# Hyperparameter Tuning\n",
        "from sklearn.ensemble import RandomForestClassifier\n",
        "\n",
        "\n",
        "n_estimators_hyp = [100,200,300,400,500,700,1000]\n",
        "min_sample_leaf_hyp = np.linspace(1,20, 20);\n",
        "\n",
        "oobscore_list=dict()\n",
        "\n",
        "for i in n_estimators_hyp:\n",
        "    for j in min_sample_leaf_hyp:\n",
        "        rf_model = RandomForestClassifier(n_estimators=i, min_samples_leaf=int(j), oob_score=True);\n",
        "        rf_model.fit(X_train, y_train)\n",
        "        key = \"n_estimator =\" +str(i)+\" min_sample_leaf =\"+str(j);\n",
        "        oobscore_list[key]=rf_model.oob_score_\n",
        "\n",
        "    #oobscore_list.append(rf_model.oob_score_)\n",
        "\n",
        "oobscore_list\n",
        ",,,"
      ],
      "execution_count": null,
      "outputs": []
    },
    {
      "cell_type": "code",
      "metadata": {
        "id": "et3Xe0V5rdci"
      },
      "source": [
        "from sklearn.ensemble import RandomForestClassifier\n",
        "\n",
        "\n",
        "# building model from parameters choosen from hyperparameter tuning\n",
        "\n",
        "\n",
        "rf = RandomForestClassifier(criterion='gini', \n",
        "                             n_estimators=400,\n",
        "                             min_samples_split=10,\n",
        "                             min_samples_leaf=1,\n",
        "                             max_features='auto',\n",
        "                             oob_score=True,\n",
        "                             random_state=1,\n",
        "                             n_jobs=-1)\n",
        "rf.fit(X_train, y_train)\n",
        "print(\"%.4f\" % rf.oob_score_)"
      ],
      "execution_count": null,
      "outputs": []
    },
    {
      "cell_type": "code",
      "metadata": {
        "id": "JbMabbAyriU8",
        "colab": {
          "base_uri": "https://localhost:8080/"
        },
        "outputId": "fe9ef021-23e3-44e0-c8cd-4ff5bbd82e88"
      },
      "source": [
        "# Predicting results\n",
        "\n",
        "y_predtrain = rf.predict(X_train)\n",
        "y_predtest = rf.predict(X_test)\n",
        "\n",
        "pr1=pd.DataFrame(y_predtest,columns=[\"Pred\"])\n",
        "\n",
        "pr1[\"Actual\"]=y_test.values\n",
        "\n",
        "print(f\"{pr1}\")"
      ],
      "execution_count": 255,
      "outputs": [
        {
          "output_type": "stream",
          "text": [
            "       Pred  Actual\n",
            "0         2       2\n",
            "1         3       1\n",
            "2         2       2\n",
            "3         1       0\n",
            "4         2       2\n",
            "...     ...     ...\n",
            "65614     2       2\n",
            "65615     2       1\n",
            "65616     2       2\n",
            "65617     2       3\n",
            "65618     2       2\n",
            "\n",
            "[65619 rows x 2 columns]\n"
          ],
          "name": "stdout"
        }
      ]
    },
    {
      "cell_type": "code",
      "metadata": {
        "id": "7sEkX-Ufs7ZR",
        "colab": {
          "base_uri": "https://localhost:8080/"
        },
        "outputId": "6239ff50-e8a0-4e66-e4e0-99469776e07a"
      },
      "source": [
        "## evaluating model performance \n",
        "\n",
        "eval_result(rf,y_train,y_predtrain,y_test,y_predtest)"
      ],
      "execution_count": 263,
      "outputs": [
        {
          "output_type": "stream",
          "text": [
            "training data accuracy 0.8381109129977597\n",
            "testing data accuracy 0.5356223045154604\n",
            "              precision    recall  f1-score   support\n",
            "\n",
            "           0    0.72727   0.02817   0.05424       284\n",
            "           1    0.46218   0.21414   0.29268     12954\n",
            "           2    0.55995   0.80879   0.66175     32295\n",
            "           3    0.48190   0.31091   0.37797     20086\n",
            "\n",
            "    accuracy                        0.53562     65619\n",
            "   macro avg    0.55783   0.34050   0.34666     65619\n",
            "weighted avg    0.51748   0.53562   0.49940     65619\n",
            "\n"
          ],
          "name": "stdout"
        }
      ]
    },
    {
      "cell_type": "code",
      "metadata": {
        "colab": {
          "base_uri": "https://localhost:8080/"
        },
        "id": "MGdCBLPGQ7du",
        "outputId": "6d77bc3e-d44f-4ca0-dad4-262aa6da7c0d"
      },
      "source": [
        "y_test.value_counts()/y_test.count()\n"
      ],
      "execution_count": 268,
      "outputs": [
        {
          "output_type": "execute_result",
          "data": {
            "text/plain": [
              "2    0.492159\n",
              "3    0.306100\n",
              "1    0.197412\n",
              "0    0.004328\n",
              "Name: UCR_PART, dtype: float64"
            ]
          },
          "metadata": {
            "tags": []
          },
          "execution_count": 268
        }
      ]
    },
    {
      "cell_type": "code",
      "metadata": {
        "colab": {
          "base_uri": "https://localhost:8080/"
        },
        "id": "HEtq-cEFTS0M",
        "outputId": "50c2a32c-559c-48a5-acb7-d7e377c33f67"
      },
      "source": [
        "type(y_test)"
      ],
      "execution_count": 266,
      "outputs": [
        {
          "output_type": "execute_result",
          "data": {
            "text/plain": [
              "pandas.core.series.Series"
            ]
          },
          "metadata": {
            "tags": []
          },
          "execution_count": 266
        }
      ]
    }
  ]
}